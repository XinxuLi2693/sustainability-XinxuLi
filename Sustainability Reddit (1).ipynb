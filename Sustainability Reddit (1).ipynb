{
 "cells": [
  {
   "cell_type": "code",
   "execution_count": 1,
   "id": "b44fcebd-9db7-4c67-9044-5543589870ef",
   "metadata": {},
   "outputs": [
    {
     "name": "stdout",
     "output_type": "stream",
     "text": [
      "Requirement already satisfied: praw in c:\\users\\lm\\anaconda3\\lib\\site-packages (7.8.1)Note: you may need to restart the kernel to use updated packages.\n",
      "Requirement already satisfied: prawcore<3,>=2.4 in c:\\users\\lm\\anaconda3\\lib\\site-packages (from praw) (2.4.0)\n",
      "Requirement already satisfied: update_checker>=0.18 in c:\\users\\lm\\anaconda3\\lib\\site-packages (from praw) (0.18.0)\n",
      "Requirement already satisfied: websocket-client>=0.54.0 in c:\\users\\lm\\anaconda3\\lib\\site-packages (from praw) (1.8.0)\n",
      "Requirement already satisfied: requests<3.0,>=2.6.0 in c:\\users\\lm\\anaconda3\\lib\\site-packages (from prawcore<3,>=2.4->praw) (2.25.1)\n",
      "Requirement already satisfied: urllib3<1.27,>=1.21.1 in c:\\users\\lm\\anaconda3\\lib\\site-packages (from requests<3.0,>=2.6.0->prawcore<3,>=2.4->praw) (1.26.4)\n",
      "Requirement already satisfied: idna<3,>=2.5 in c:\\users\\lm\\anaconda3\\lib\\site-packages (from requests<3.0,>=2.6.0->prawcore<3,>=2.4->praw) (2.10)\n",
      "Requirement already satisfied: certifi>=2017.4.17 in c:\\users\\lm\\anaconda3\\lib\\site-packages (from requests<3.0,>=2.6.0->prawcore<3,>=2.4->praw) (2020.12.5)\n",
      "Requirement already satisfied: chardet<5,>=3.0.2 in c:\\users\\lm\\anaconda3\\lib\\site-packages (from requests<3.0,>=2.6.0->prawcore<3,>=2.4->praw) (4.0.0)\n",
      "\n"
     ]
    }
   ],
   "source": [
    "pip install praw"
   ]
  },
  {
   "cell_type": "code",
   "execution_count": 2,
   "id": "626b7a61-68f7-4f9f-90ea-b04047c18a76",
   "metadata": {},
   "outputs": [
    {
     "name": "stdout",
     "output_type": "stream",
     "text": [
      "None\n"
     ]
    }
   ],
   "source": [
    "import praw\n",
    "\n",
    "# 使用你的 client ID, client secret 和 user agent\n",
    "reddit = praw.Reddit(\n",
    "    client_id='2jnPC-Q387sT92iOOcar-A',  # 你的 client ID\n",
    "    client_secret='p7is38ghTqErcWA-JsD13aLb2A2e-Q',  # 你的 client secret\n",
    "    user_agent='QuantitativeAnalysis by /u/Charming_Freedom_677'  # 你的 user agent\n",
    ")\n",
    "\n",
    "# 测试连接，查看当前登录的 Reddit 用户\n",
    "print(reddit.user.me())  # 显示你当前登录的 Reddit 用户\n"
   ]
  },
  {
   "cell_type": "code",
   "execution_count": 3,
   "id": "3cff24ff-65d4-4874-8371-5ebad0e49dba",
   "metadata": {},
   "outputs": [
    {
     "name": "stdout",
     "output_type": "stream",
     "text": [
      "Please visit this URL to authorize your account:\n"
     ]
    },
    {
     "name": "stderr",
     "output_type": "stream",
     "text": [
      "<ipython-input-3-8e28a0a454ba>:12: DeprecationWarning: Positional arguments for 'Auth.url' will no longer be supported in PRAW 8.\n",
      "Call this function with 'scopes', 'state', and 'duration' as keyword arguments.\n",
      "  print(reddit.auth.url(['identity'], 'unique_random_string', 'permanent'))\n"
     ]
    },
    {
     "ename": "MissingRequiredAttributeException",
     "evalue": "redirect_uri must be provided",
     "output_type": "error",
     "traceback": [
      "\u001b[1;31m---------------------------------------------------------------------------\u001b[0m",
      "\u001b[1;31mMissingRequiredAttributeException\u001b[0m         Traceback (most recent call last)",
      "\u001b[1;32m<ipython-input-3-8e28a0a454ba>\u001b[0m in \u001b[0;36m<module>\u001b[1;34m\u001b[0m\n\u001b[0;32m     10\u001b[0m \u001b[1;31m# 通过 OAuth 进行用户身份验证\u001b[0m\u001b[1;33m\u001b[0m\u001b[1;33m\u001b[0m\u001b[1;33m\u001b[0m\u001b[0m\n\u001b[0;32m     11\u001b[0m \u001b[0mprint\u001b[0m\u001b[1;33m(\u001b[0m\u001b[1;34m\"Please visit this URL to authorize your account:\"\u001b[0m\u001b[1;33m)\u001b[0m\u001b[1;33m\u001b[0m\u001b[1;33m\u001b[0m\u001b[0m\n\u001b[1;32m---> 12\u001b[1;33m \u001b[0mprint\u001b[0m\u001b[1;33m(\u001b[0m\u001b[0mreddit\u001b[0m\u001b[1;33m.\u001b[0m\u001b[0mauth\u001b[0m\u001b[1;33m.\u001b[0m\u001b[0murl\u001b[0m\u001b[1;33m(\u001b[0m\u001b[1;33m[\u001b[0m\u001b[1;34m'identity'\u001b[0m\u001b[1;33m]\u001b[0m\u001b[1;33m,\u001b[0m \u001b[1;34m'unique_random_string'\u001b[0m\u001b[1;33m,\u001b[0m \u001b[1;34m'permanent'\u001b[0m\u001b[1;33m)\u001b[0m\u001b[1;33m)\u001b[0m\u001b[1;33m\u001b[0m\u001b[1;33m\u001b[0m\u001b[0m\n\u001b[0m\u001b[0;32m     13\u001b[0m \u001b[1;33m\u001b[0m\u001b[0m\n\u001b[0;32m     14\u001b[0m \u001b[1;31m# 等待用户授权并获得授权码\u001b[0m\u001b[1;33m\u001b[0m\u001b[1;33m\u001b[0m\u001b[1;33m\u001b[0m\u001b[0m\n",
      "\u001b[1;32m~\\anaconda3\\lib\\site-packages\\praw\\util\\deprecate_args.py\u001b[0m in \u001b[0;36mwrapped\u001b[1;34m(*args, **kwargs)\u001b[0m\n\u001b[0;32m     44\u001b[0m                     \u001b[0mstacklevel\u001b[0m\u001b[1;33m=\u001b[0m\u001b[1;36m2\u001b[0m\u001b[1;33m,\u001b[0m\u001b[1;33m\u001b[0m\u001b[1;33m\u001b[0m\u001b[0m\n\u001b[0;32m     45\u001b[0m                 )\n\u001b[1;32m---> 46\u001b[1;33m             \u001b[1;32mreturn\u001b[0m \u001b[0mfunc\u001b[0m\u001b[1;33m(\u001b[0m\u001b[1;33m**\u001b[0m\u001b[0mdict\u001b[0m\u001b[1;33m(\u001b[0m\u001b[0mzip\u001b[0m\u001b[1;33m(\u001b[0m\u001b[0m_old_args\u001b[0m\u001b[1;33m,\u001b[0m \u001b[0margs\u001b[0m\u001b[1;33m)\u001b[0m\u001b[1;33m)\u001b[0m\u001b[1;33m,\u001b[0m \u001b[1;33m**\u001b[0m\u001b[0mkwargs\u001b[0m\u001b[1;33m)\u001b[0m\u001b[1;33m\u001b[0m\u001b[1;33m\u001b[0m\u001b[0m\n\u001b[0m\u001b[0;32m     47\u001b[0m \u001b[1;33m\u001b[0m\u001b[0m\n\u001b[0;32m     48\u001b[0m         \u001b[1;32mreturn\u001b[0m \u001b[0mwrapped\u001b[0m\u001b[1;33m\u001b[0m\u001b[1;33m\u001b[0m\u001b[0m\n",
      "\u001b[1;32m~\\anaconda3\\lib\\site-packages\\praw\\models\\auth.py\u001b[0m in \u001b[0;36murl\u001b[1;34m(self, duration, implicit, scopes, state)\u001b[0m\n\u001b[0;32m    128\u001b[0m         \u001b[1;32mif\u001b[0m \u001b[0mauthenticator\u001b[0m\u001b[1;33m.\u001b[0m\u001b[0mredirect_uri\u001b[0m \u001b[1;32mis\u001b[0m \u001b[0mself\u001b[0m\u001b[1;33m.\u001b[0m\u001b[0m_reddit\u001b[0m\u001b[1;33m.\u001b[0m\u001b[0mconfig\u001b[0m\u001b[1;33m.\u001b[0m\u001b[0mCONFIG_NOT_SET\u001b[0m\u001b[1;33m:\u001b[0m\u001b[1;33m\u001b[0m\u001b[1;33m\u001b[0m\u001b[0m\n\u001b[0;32m    129\u001b[0m             \u001b[0mmsg\u001b[0m \u001b[1;33m=\u001b[0m \u001b[1;34m\"redirect_uri must be provided\"\u001b[0m\u001b[1;33m\u001b[0m\u001b[1;33m\u001b[0m\u001b[0m\n\u001b[1;32m--> 130\u001b[1;33m             \u001b[1;32mraise\u001b[0m \u001b[0mMissingRequiredAttributeException\u001b[0m\u001b[1;33m(\u001b[0m\u001b[0mmsg\u001b[0m\u001b[1;33m)\u001b[0m\u001b[1;33m\u001b[0m\u001b[1;33m\u001b[0m\u001b[0m\n\u001b[0m\u001b[0;32m    131\u001b[0m         \u001b[1;32mif\u001b[0m \u001b[0misinstance\u001b[0m\u001b[1;33m(\u001b[0m\u001b[0mauthenticator\u001b[0m\u001b[1;33m,\u001b[0m \u001b[0mUntrustedAuthenticator\u001b[0m\u001b[1;33m)\u001b[0m\u001b[1;33m:\u001b[0m\u001b[1;33m\u001b[0m\u001b[1;33m\u001b[0m\u001b[0m\n\u001b[0;32m    132\u001b[0m             return authenticator.authorize_url(\n",
      "\u001b[1;31mMissingRequiredAttributeException\u001b[0m: redirect_uri must be provided"
     ]
    }
   ],
   "source": [
    "import praw\n",
    "\n",
    "# 创建 Reddit 实例\n",
    "reddit = praw.Reddit(\n",
    "    client_id='2jnPC-Q387sT92iOOcar-A',  # 你的 client ID\n",
    "    client_secret='p7is38ghTqErcWA-JsD13aLb2A2e-Q',  # 你的 client secret\n",
    "    user_agent='QuantitativeAnalysis by /u/Charming_Freedom_677'  # 你的 user agent\n",
    ")\n",
    "\n",
    "# 通过 OAuth 进行用户身份验证\n",
    "print(\"Please visit this URL to authorize your account:\")\n",
    "print(reddit.auth.url(['identity'], 'unique_random_string', 'permanent'))\n",
    "\n",
    "# 等待用户授权并获得授权码\n",
    "authorization_code = input(\"Enter the authorization code: \")\n",
    "\n",
    "# 使用授权码获取访问令牌\n",
    "reddit.auth.authorize(authorization_code)\n",
    "\n",
    "# 获取当前登录的 Reddit 用户\n",
    "print(reddit.user.me())  # 显示你当前登录的 Reddit 用户\n"
   ]
  },
  {
   "cell_type": "code",
   "execution_count": 4,
   "id": "f394b43d-71a2-4683-bc30-ec261421d040",
   "metadata": {},
   "outputs": [
    {
     "name": "stdout",
     "output_type": "stream",
     "text": [
      "Please visit this URL to authorize your account:\n"
     ]
    },
    {
     "ename": "TypeError",
     "evalue": "url() got an unexpected keyword argument 'redirect_uri'",
     "output_type": "error",
     "traceback": [
      "\u001b[1;31m---------------------------------------------------------------------------\u001b[0m",
      "\u001b[1;31mTypeError\u001b[0m                                 Traceback (most recent call last)",
      "\u001b[1;32m<ipython-input-4-9880eb87c917>\u001b[0m in \u001b[0;36m<module>\u001b[1;34m\u001b[0m\n\u001b[0;32m     13\u001b[0m \u001b[1;31m# 生成授权 URL\u001b[0m\u001b[1;33m\u001b[0m\u001b[1;33m\u001b[0m\u001b[1;33m\u001b[0m\u001b[0m\n\u001b[0;32m     14\u001b[0m \u001b[0mprint\u001b[0m\u001b[1;33m(\u001b[0m\u001b[1;34m\"Please visit this URL to authorize your account:\"\u001b[0m\u001b[1;33m)\u001b[0m\u001b[1;33m\u001b[0m\u001b[1;33m\u001b[0m\u001b[0m\n\u001b[1;32m---> 15\u001b[1;33m \u001b[0mprint\u001b[0m\u001b[1;33m(\u001b[0m\u001b[0mreddit\u001b[0m\u001b[1;33m.\u001b[0m\u001b[0mauth\u001b[0m\u001b[1;33m.\u001b[0m\u001b[0murl\u001b[0m\u001b[1;33m(\u001b[0m\u001b[0mscopes\u001b[0m\u001b[1;33m=\u001b[0m\u001b[1;33m[\u001b[0m\u001b[1;34m'identity'\u001b[0m\u001b[1;33m]\u001b[0m\u001b[1;33m,\u001b[0m \u001b[0mstate\u001b[0m\u001b[1;33m=\u001b[0m\u001b[1;34m'unique_random_string'\u001b[0m\u001b[1;33m,\u001b[0m \u001b[0mduration\u001b[0m\u001b[1;33m=\u001b[0m\u001b[1;34m'permanent'\u001b[0m\u001b[1;33m,\u001b[0m \u001b[0mredirect_uri\u001b[0m\u001b[1;33m=\u001b[0m\u001b[0mredirect_uri\u001b[0m\u001b[1;33m)\u001b[0m\u001b[1;33m)\u001b[0m\u001b[1;33m\u001b[0m\u001b[1;33m\u001b[0m\u001b[0m\n\u001b[0m\u001b[0;32m     16\u001b[0m \u001b[1;33m\u001b[0m\u001b[0m\n\u001b[0;32m     17\u001b[0m \u001b[1;31m# 等待用户授权并获得授权码\u001b[0m\u001b[1;33m\u001b[0m\u001b[1;33m\u001b[0m\u001b[1;33m\u001b[0m\u001b[0m\n",
      "\u001b[1;32m~\\anaconda3\\lib\\site-packages\\praw\\util\\deprecate_args.py\u001b[0m in \u001b[0;36mwrapped\u001b[1;34m(*args, **kwargs)\u001b[0m\n\u001b[0;32m     44\u001b[0m                     \u001b[0mstacklevel\u001b[0m\u001b[1;33m=\u001b[0m\u001b[1;36m2\u001b[0m\u001b[1;33m,\u001b[0m\u001b[1;33m\u001b[0m\u001b[1;33m\u001b[0m\u001b[0m\n\u001b[0;32m     45\u001b[0m                 )\n\u001b[1;32m---> 46\u001b[1;33m             \u001b[1;32mreturn\u001b[0m \u001b[0mfunc\u001b[0m\u001b[1;33m(\u001b[0m\u001b[1;33m**\u001b[0m\u001b[0mdict\u001b[0m\u001b[1;33m(\u001b[0m\u001b[0mzip\u001b[0m\u001b[1;33m(\u001b[0m\u001b[0m_old_args\u001b[0m\u001b[1;33m,\u001b[0m \u001b[0margs\u001b[0m\u001b[1;33m)\u001b[0m\u001b[1;33m)\u001b[0m\u001b[1;33m,\u001b[0m \u001b[1;33m**\u001b[0m\u001b[0mkwargs\u001b[0m\u001b[1;33m)\u001b[0m\u001b[1;33m\u001b[0m\u001b[1;33m\u001b[0m\u001b[0m\n\u001b[0m\u001b[0;32m     47\u001b[0m \u001b[1;33m\u001b[0m\u001b[0m\n\u001b[0;32m     48\u001b[0m         \u001b[1;32mreturn\u001b[0m \u001b[0mwrapped\u001b[0m\u001b[1;33m\u001b[0m\u001b[1;33m\u001b[0m\u001b[0m\n",
      "\u001b[1;31mTypeError\u001b[0m: url() got an unexpected keyword argument 'redirect_uri'"
     ]
    }
   ],
   "source": [
    "import praw\n",
    "\n",
    "# 创建 Reddit 实例\n",
    "reddit = praw.Reddit(\n",
    "    client_id='2jnPC-Q387sT92iOOcar-A',  # 你的 client ID\n",
    "    client_secret='p7is38ghTqErcWA-JsD13aLb2A2e-Q',  # 你的 client secret\n",
    "    user_agent='QuantitativeAnalysis by /u/Charming_Freedom_677'  # 你的 user agent\n",
    ")\n",
    "\n",
    "# 通过 OAuth 进行用户身份验证\n",
    "redirect_uri = 'http://localhost:8000'  # 本地回调地址（可以根据需要修改）\n",
    "\n",
    "# 生成授权 URL\n",
    "print(\"Please visit this URL to authorize your account:\")\n",
    "print(reddit.auth.url(scopes=['identity'], state='unique_random_string', duration='permanent', redirect_uri=redirect_uri))\n",
    "\n",
    "# 等待用户授权并获得授权码\n",
    "authorization_code = input(\"Enter the authorization code: \")\n",
    "\n",
    "# 使用授权码获取访问令牌\n",
    "reddit.auth.authorize(authorization_code)\n",
    "\n",
    "# 获取当前登录的 Reddit 用户\n",
    "print(reddit.user.me())  # 显示你当前登录的 Reddit 用户\n"
   ]
  },
  {
   "cell_type": "code",
   "execution_count": 5,
   "id": "74867ef4-fb51-4c1e-a258-cd2b35dcd82f",
   "metadata": {},
   "outputs": [
    {
     "name": "stdout",
     "output_type": "stream",
     "text": [
      "Please visit this URL to authorize your account:\n"
     ]
    },
    {
     "ename": "MissingRequiredAttributeException",
     "evalue": "redirect_uri must be provided",
     "output_type": "error",
     "traceback": [
      "\u001b[1;31m---------------------------------------------------------------------------\u001b[0m",
      "\u001b[1;31mMissingRequiredAttributeException\u001b[0m         Traceback (most recent call last)",
      "\u001b[1;32m<ipython-input-5-536608f4e518>\u001b[0m in \u001b[0;36m<module>\u001b[1;34m\u001b[0m\n\u001b[0;32m     13\u001b[0m \u001b[1;31m# 生成授权 URL（去掉 redirect_uri 参数）\u001b[0m\u001b[1;33m\u001b[0m\u001b[1;33m\u001b[0m\u001b[1;33m\u001b[0m\u001b[0m\n\u001b[0;32m     14\u001b[0m \u001b[0mprint\u001b[0m\u001b[1;33m(\u001b[0m\u001b[1;34m\"Please visit this URL to authorize your account:\"\u001b[0m\u001b[1;33m)\u001b[0m\u001b[1;33m\u001b[0m\u001b[1;33m\u001b[0m\u001b[0m\n\u001b[1;32m---> 15\u001b[1;33m \u001b[0mprint\u001b[0m\u001b[1;33m(\u001b[0m\u001b[0mreddit\u001b[0m\u001b[1;33m.\u001b[0m\u001b[0mauth\u001b[0m\u001b[1;33m.\u001b[0m\u001b[0murl\u001b[0m\u001b[1;33m(\u001b[0m\u001b[0mscopes\u001b[0m\u001b[1;33m=\u001b[0m\u001b[1;33m[\u001b[0m\u001b[1;34m'identity'\u001b[0m\u001b[1;33m]\u001b[0m\u001b[1;33m,\u001b[0m \u001b[0mstate\u001b[0m\u001b[1;33m=\u001b[0m\u001b[1;34m'unique_random_string'\u001b[0m\u001b[1;33m,\u001b[0m \u001b[0mduration\u001b[0m\u001b[1;33m=\u001b[0m\u001b[1;34m'permanent'\u001b[0m\u001b[1;33m)\u001b[0m\u001b[1;33m)\u001b[0m\u001b[1;33m\u001b[0m\u001b[1;33m\u001b[0m\u001b[0m\n\u001b[0m\u001b[0;32m     16\u001b[0m \u001b[1;33m\u001b[0m\u001b[0m\n\u001b[0;32m     17\u001b[0m \u001b[1;31m# 等待用户授权并获得授权码\u001b[0m\u001b[1;33m\u001b[0m\u001b[1;33m\u001b[0m\u001b[1;33m\u001b[0m\u001b[0m\n",
      "\u001b[1;32m~\\anaconda3\\lib\\site-packages\\praw\\util\\deprecate_args.py\u001b[0m in \u001b[0;36mwrapped\u001b[1;34m(*args, **kwargs)\u001b[0m\n\u001b[0;32m     44\u001b[0m                     \u001b[0mstacklevel\u001b[0m\u001b[1;33m=\u001b[0m\u001b[1;36m2\u001b[0m\u001b[1;33m,\u001b[0m\u001b[1;33m\u001b[0m\u001b[1;33m\u001b[0m\u001b[0m\n\u001b[0;32m     45\u001b[0m                 )\n\u001b[1;32m---> 46\u001b[1;33m             \u001b[1;32mreturn\u001b[0m \u001b[0mfunc\u001b[0m\u001b[1;33m(\u001b[0m\u001b[1;33m**\u001b[0m\u001b[0mdict\u001b[0m\u001b[1;33m(\u001b[0m\u001b[0mzip\u001b[0m\u001b[1;33m(\u001b[0m\u001b[0m_old_args\u001b[0m\u001b[1;33m,\u001b[0m \u001b[0margs\u001b[0m\u001b[1;33m)\u001b[0m\u001b[1;33m)\u001b[0m\u001b[1;33m,\u001b[0m \u001b[1;33m**\u001b[0m\u001b[0mkwargs\u001b[0m\u001b[1;33m)\u001b[0m\u001b[1;33m\u001b[0m\u001b[1;33m\u001b[0m\u001b[0m\n\u001b[0m\u001b[0;32m     47\u001b[0m \u001b[1;33m\u001b[0m\u001b[0m\n\u001b[0;32m     48\u001b[0m         \u001b[1;32mreturn\u001b[0m \u001b[0mwrapped\u001b[0m\u001b[1;33m\u001b[0m\u001b[1;33m\u001b[0m\u001b[0m\n",
      "\u001b[1;32m~\\anaconda3\\lib\\site-packages\\praw\\models\\auth.py\u001b[0m in \u001b[0;36murl\u001b[1;34m(self, duration, implicit, scopes, state)\u001b[0m\n\u001b[0;32m    128\u001b[0m         \u001b[1;32mif\u001b[0m \u001b[0mauthenticator\u001b[0m\u001b[1;33m.\u001b[0m\u001b[0mredirect_uri\u001b[0m \u001b[1;32mis\u001b[0m \u001b[0mself\u001b[0m\u001b[1;33m.\u001b[0m\u001b[0m_reddit\u001b[0m\u001b[1;33m.\u001b[0m\u001b[0mconfig\u001b[0m\u001b[1;33m.\u001b[0m\u001b[0mCONFIG_NOT_SET\u001b[0m\u001b[1;33m:\u001b[0m\u001b[1;33m\u001b[0m\u001b[1;33m\u001b[0m\u001b[0m\n\u001b[0;32m    129\u001b[0m             \u001b[0mmsg\u001b[0m \u001b[1;33m=\u001b[0m \u001b[1;34m\"redirect_uri must be provided\"\u001b[0m\u001b[1;33m\u001b[0m\u001b[1;33m\u001b[0m\u001b[0m\n\u001b[1;32m--> 130\u001b[1;33m             \u001b[1;32mraise\u001b[0m \u001b[0mMissingRequiredAttributeException\u001b[0m\u001b[1;33m(\u001b[0m\u001b[0mmsg\u001b[0m\u001b[1;33m)\u001b[0m\u001b[1;33m\u001b[0m\u001b[1;33m\u001b[0m\u001b[0m\n\u001b[0m\u001b[0;32m    131\u001b[0m         \u001b[1;32mif\u001b[0m \u001b[0misinstance\u001b[0m\u001b[1;33m(\u001b[0m\u001b[0mauthenticator\u001b[0m\u001b[1;33m,\u001b[0m \u001b[0mUntrustedAuthenticator\u001b[0m\u001b[1;33m)\u001b[0m\u001b[1;33m:\u001b[0m\u001b[1;33m\u001b[0m\u001b[1;33m\u001b[0m\u001b[0m\n\u001b[0;32m    132\u001b[0m             return authenticator.authorize_url(\n",
      "\u001b[1;31mMissingRequiredAttributeException\u001b[0m: redirect_uri must be provided"
     ]
    }
   ],
   "source": [
    "import praw\n",
    "\n",
    "# 创建 Reddit 实例\n",
    "reddit = praw.Reddit(\n",
    "    client_id='2jnPC-Q387sT92iOOcar-A',  # 你的 client ID\n",
    "    client_secret='p7is38ghTqErcWA-JsD13aLb2A2e-Q',  # 你的 client secret\n",
    "    user_agent='QuantitativeAnalysis by /u/Charming_Freedom_677'  # 你的 user agent\n",
    ")\n",
    "\n",
    "# 通过 OAuth 进行用户身份验证\n",
    "redirect_uri = 'http://localhost:8000'  # 这是默认的回调地址\n",
    "\n",
    "# 生成授权 URL（去掉 redirect_uri 参数）\n",
    "print(\"Please visit this URL to authorize your account:\")\n",
    "print(reddit.auth.url(scopes=['identity'], state='unique_random_string', duration='permanent'))\n",
    "\n",
    "# 等待用户授权并获得授权码\n",
    "authorization_code = input(\"Enter the authorization code: \")\n",
    "\n",
    "# 使用授权码获取访问令牌\n",
    "reddit.auth.authorize(authorization_code)\n",
    "\n",
    "# 获取当前登录的 Reddit 用户\n",
    "print(reddit.user.me())  # 显示你当前登录的 Reddit 用户\n"
   ]
  },
  {
   "cell_type": "code",
   "execution_count": 6,
   "id": "fe363e94-f853-4d46-86bd-ce80deffaad2",
   "metadata": {},
   "outputs": [
    {
     "ename": "MissingRequiredAttributeException",
     "evalue": "redirect_uri must be provided",
     "output_type": "error",
     "traceback": [
      "\u001b[1;31m---------------------------------------------------------------------------\u001b[0m",
      "\u001b[1;31mMissingRequiredAttributeException\u001b[0m         Traceback (most recent call last)",
      "\u001b[1;32m<ipython-input-6-d6a267034704>\u001b[0m in \u001b[0;36m<module>\u001b[1;34m\u001b[0m\n\u001b[0;32m     17\u001b[0m \u001b[1;33m\u001b[0m\u001b[0m\n\u001b[0;32m     18\u001b[0m \u001b[1;31m# 生成授权 URL\u001b[0m\u001b[1;33m\u001b[0m\u001b[1;33m\u001b[0m\u001b[1;33m\u001b[0m\u001b[0m\n\u001b[1;32m---> 19\u001b[1;33m \u001b[0mauth_url\u001b[0m \u001b[1;33m=\u001b[0m \u001b[0mreddit\u001b[0m\u001b[1;33m.\u001b[0m\u001b[0mauth\u001b[0m\u001b[1;33m.\u001b[0m\u001b[0murl\u001b[0m\u001b[1;33m(\u001b[0m\u001b[0mscopes\u001b[0m\u001b[1;33m=\u001b[0m\u001b[1;33m[\u001b[0m\u001b[1;34m'identity'\u001b[0m\u001b[1;33m]\u001b[0m\u001b[1;33m,\u001b[0m \u001b[0mstate\u001b[0m\u001b[1;33m=\u001b[0m\u001b[1;34m'unique_random_string'\u001b[0m\u001b[1;33m,\u001b[0m \u001b[0mduration\u001b[0m\u001b[1;33m=\u001b[0m\u001b[1;34m'permanent'\u001b[0m\u001b[1;33m)\u001b[0m\u001b[1;33m\u001b[0m\u001b[1;33m\u001b[0m\u001b[0m\n\u001b[0m\u001b[0;32m     20\u001b[0m \u001b[1;33m\u001b[0m\u001b[0m\n\u001b[0;32m     21\u001b[0m \u001b[1;31m# 打开授权 URL，要求用户授权\u001b[0m\u001b[1;33m\u001b[0m\u001b[1;33m\u001b[0m\u001b[1;33m\u001b[0m\u001b[0m\n",
      "\u001b[1;32m~\\anaconda3\\lib\\site-packages\\praw\\util\\deprecate_args.py\u001b[0m in \u001b[0;36mwrapped\u001b[1;34m(*args, **kwargs)\u001b[0m\n\u001b[0;32m     44\u001b[0m                     \u001b[0mstacklevel\u001b[0m\u001b[1;33m=\u001b[0m\u001b[1;36m2\u001b[0m\u001b[1;33m,\u001b[0m\u001b[1;33m\u001b[0m\u001b[1;33m\u001b[0m\u001b[0m\n\u001b[0;32m     45\u001b[0m                 )\n\u001b[1;32m---> 46\u001b[1;33m             \u001b[1;32mreturn\u001b[0m \u001b[0mfunc\u001b[0m\u001b[1;33m(\u001b[0m\u001b[1;33m**\u001b[0m\u001b[0mdict\u001b[0m\u001b[1;33m(\u001b[0m\u001b[0mzip\u001b[0m\u001b[1;33m(\u001b[0m\u001b[0m_old_args\u001b[0m\u001b[1;33m,\u001b[0m \u001b[0margs\u001b[0m\u001b[1;33m)\u001b[0m\u001b[1;33m)\u001b[0m\u001b[1;33m,\u001b[0m \u001b[1;33m**\u001b[0m\u001b[0mkwargs\u001b[0m\u001b[1;33m)\u001b[0m\u001b[1;33m\u001b[0m\u001b[1;33m\u001b[0m\u001b[0m\n\u001b[0m\u001b[0;32m     47\u001b[0m \u001b[1;33m\u001b[0m\u001b[0m\n\u001b[0;32m     48\u001b[0m         \u001b[1;32mreturn\u001b[0m \u001b[0mwrapped\u001b[0m\u001b[1;33m\u001b[0m\u001b[1;33m\u001b[0m\u001b[0m\n",
      "\u001b[1;32m~\\anaconda3\\lib\\site-packages\\praw\\models\\auth.py\u001b[0m in \u001b[0;36murl\u001b[1;34m(self, duration, implicit, scopes, state)\u001b[0m\n\u001b[0;32m    128\u001b[0m         \u001b[1;32mif\u001b[0m \u001b[0mauthenticator\u001b[0m\u001b[1;33m.\u001b[0m\u001b[0mredirect_uri\u001b[0m \u001b[1;32mis\u001b[0m \u001b[0mself\u001b[0m\u001b[1;33m.\u001b[0m\u001b[0m_reddit\u001b[0m\u001b[1;33m.\u001b[0m\u001b[0mconfig\u001b[0m\u001b[1;33m.\u001b[0m\u001b[0mCONFIG_NOT_SET\u001b[0m\u001b[1;33m:\u001b[0m\u001b[1;33m\u001b[0m\u001b[1;33m\u001b[0m\u001b[0m\n\u001b[0;32m    129\u001b[0m             \u001b[0mmsg\u001b[0m \u001b[1;33m=\u001b[0m \u001b[1;34m\"redirect_uri must be provided\"\u001b[0m\u001b[1;33m\u001b[0m\u001b[1;33m\u001b[0m\u001b[0m\n\u001b[1;32m--> 130\u001b[1;33m             \u001b[1;32mraise\u001b[0m \u001b[0mMissingRequiredAttributeException\u001b[0m\u001b[1;33m(\u001b[0m\u001b[0mmsg\u001b[0m\u001b[1;33m)\u001b[0m\u001b[1;33m\u001b[0m\u001b[1;33m\u001b[0m\u001b[0m\n\u001b[0m\u001b[0;32m    131\u001b[0m         \u001b[1;32mif\u001b[0m \u001b[0misinstance\u001b[0m\u001b[1;33m(\u001b[0m\u001b[0mauthenticator\u001b[0m\u001b[1;33m,\u001b[0m \u001b[0mUntrustedAuthenticator\u001b[0m\u001b[1;33m)\u001b[0m\u001b[1;33m:\u001b[0m\u001b[1;33m\u001b[0m\u001b[1;33m\u001b[0m\u001b[0m\n\u001b[0;32m    132\u001b[0m             return authenticator.authorize_url(\n",
      "\u001b[1;31mMissingRequiredAttributeException\u001b[0m: redirect_uri must be provided"
     ]
    }
   ],
   "source": [
    "import requests\n",
    "import webbrowser\n",
    "import praw\n",
    "\n",
    "# 设置你的 client ID、client secret 和 user agent\n",
    "client_id = '2jnPC-Q387sT92iOOcar-A'\n",
    "client_secret = 'p7is38ghTqErcWA-JsD13aLb2A2e-Q'\n",
    "user_agent = 'QuantitativeAnalysis by /u/Charming_Freedom_677'\n",
    "redirect_uri = 'http://localhost:8000'  # 回调地址\n",
    "\n",
    "# 创建 Reddit 实例\n",
    "reddit = praw.Reddit(\n",
    "    client_id=client_id,\n",
    "    client_secret=client_secret,\n",
    "    user_agent=user_agent\n",
    ")\n",
    "\n",
    "# 生成授权 URL\n",
    "auth_url = reddit.auth.url(scopes=['identity'], state='unique_random_string', duration='permanent')\n",
    "\n",
    "# 打开授权 URL，要求用户授权\n",
    "print(\"Please visit this URL to authorize your account:\")\n",
    "print(auth_url)\n",
    "\n",
    "# 打开浏览器授权\n",
    "webbrowser.open(auth_url)\n",
    "\n",
    "# 等待用户输入授权码\n",
    "authorization_code = input(\"Enter the authorization code: \")\n",
    "\n",
    "# 获取访问令牌\n",
    "access_token = reddit.auth.authorize(authorization_code)\n",
    "\n",
    "# 打印当前登录的用户信息\n",
    "print(reddit.user.me())  # 显示当前 Reddit 用户\n"
   ]
  },
  {
   "cell_type": "code",
   "execution_count": 2,
   "id": "98d10284-638d-468a-91e7-536f88644f91",
   "metadata": {},
   "outputs": [
    {
     "name": "stdout",
     "output_type": "stream",
     "text": [
      "Please visit this URL to authorize your account:\n"
     ]
    },
    {
     "name": "stdin",
     "output_type": "stream",
     "text": [
      "Enter the authorization code:  byZVUS4Ct9K_e48CeXYJt4q2LPXN_g\n"
     ]
    },
    {
     "ename": "ResponseException",
     "evalue": "received 404 HTTP response",
     "output_type": "error",
     "traceback": [
      "\u001b[1;31m---------------------------------------------------------------------------\u001b[0m",
      "\u001b[1;31mResponseException\u001b[0m                         Traceback (most recent call last)",
      "\u001b[1;32m<ipython-input-2-09561c161873>\u001b[0m in \u001b[0;36m<module>\u001b[1;34m\u001b[0m\n\u001b[0;32m     27\u001b[0m \u001b[1;33m\u001b[0m\u001b[0m\n\u001b[0;32m     28\u001b[0m \u001b[1;31m# 使用授权码获取访问令牌\u001b[0m\u001b[1;33m\u001b[0m\u001b[1;33m\u001b[0m\u001b[1;33m\u001b[0m\u001b[0m\n\u001b[1;32m---> 29\u001b[1;33m \u001b[0mreddit\u001b[0m\u001b[1;33m.\u001b[0m\u001b[0mauth\u001b[0m\u001b[1;33m.\u001b[0m\u001b[0mauthorize\u001b[0m\u001b[1;33m(\u001b[0m\u001b[0mauthorization_code\u001b[0m\u001b[1;33m)\u001b[0m\u001b[1;33m\u001b[0m\u001b[1;33m\u001b[0m\u001b[0m\n\u001b[0m\u001b[0;32m     30\u001b[0m \u001b[1;33m\u001b[0m\u001b[0m\n\u001b[0;32m     31\u001b[0m \u001b[1;31m# 打印当前登录的 Reddit 用户\u001b[0m\u001b[1;33m\u001b[0m\u001b[1;33m\u001b[0m\u001b[1;33m\u001b[0m\u001b[0m\n",
      "\u001b[1;32m~\\anaconda3\\lib\\site-packages\\praw\\models\\auth.py\u001b[0m in \u001b[0;36mauthorize\u001b[1;34m(self, code)\u001b[0m\n\u001b[0;32m     53\u001b[0m         \u001b[0mauthenticator\u001b[0m \u001b[1;33m=\u001b[0m \u001b[0mself\u001b[0m\u001b[1;33m.\u001b[0m\u001b[0m_reddit\u001b[0m\u001b[1;33m.\u001b[0m\u001b[0m_read_only_core\u001b[0m\u001b[1;33m.\u001b[0m\u001b[0m_authorizer\u001b[0m\u001b[1;33m.\u001b[0m\u001b[0m_authenticator\u001b[0m\u001b[1;33m\u001b[0m\u001b[1;33m\u001b[0m\u001b[0m\n\u001b[0;32m     54\u001b[0m         \u001b[0mauthorizer\u001b[0m \u001b[1;33m=\u001b[0m \u001b[0mAuthorizer\u001b[0m\u001b[1;33m(\u001b[0m\u001b[0mauthenticator\u001b[0m\u001b[1;33m)\u001b[0m\u001b[1;33m\u001b[0m\u001b[1;33m\u001b[0m\u001b[0m\n\u001b[1;32m---> 55\u001b[1;33m         \u001b[0mauthorizer\u001b[0m\u001b[1;33m.\u001b[0m\u001b[0mauthorize\u001b[0m\u001b[1;33m(\u001b[0m\u001b[0mcode\u001b[0m\u001b[1;33m)\u001b[0m\u001b[1;33m\u001b[0m\u001b[1;33m\u001b[0m\u001b[0m\n\u001b[0m\u001b[0;32m     56\u001b[0m         authorized_session = session(\n\u001b[0;32m     57\u001b[0m             \u001b[0mauthorizer\u001b[0m\u001b[1;33m=\u001b[0m\u001b[0mauthorizer\u001b[0m\u001b[1;33m,\u001b[0m \u001b[0mwindow_size\u001b[0m\u001b[1;33m=\u001b[0m\u001b[0mself\u001b[0m\u001b[1;33m.\u001b[0m\u001b[0m_reddit\u001b[0m\u001b[1;33m.\u001b[0m\u001b[0mconfig\u001b[0m\u001b[1;33m.\u001b[0m\u001b[0mwindow_size\u001b[0m\u001b[1;33m\u001b[0m\u001b[1;33m\u001b[0m\u001b[0m\n",
      "\u001b[1;32m~\\anaconda3\\lib\\site-packages\\prawcore\\auth.py\u001b[0m in \u001b[0;36mauthorize\u001b[1;34m(self, code)\u001b[0m\n\u001b[0;32m    278\u001b[0m             \u001b[0mmsg\u001b[0m \u001b[1;33m=\u001b[0m \u001b[1;34m\"redirect URI not provided\"\u001b[0m\u001b[1;33m\u001b[0m\u001b[1;33m\u001b[0m\u001b[0m\n\u001b[0;32m    279\u001b[0m             \u001b[1;32mraise\u001b[0m \u001b[0mInvalidInvocation\u001b[0m\u001b[1;33m(\u001b[0m\u001b[0mmsg\u001b[0m\u001b[1;33m)\u001b[0m\u001b[1;33m\u001b[0m\u001b[1;33m\u001b[0m\u001b[0m\n\u001b[1;32m--> 280\u001b[1;33m         self._request_token(\n\u001b[0m\u001b[0;32m    281\u001b[0m             \u001b[0mcode\u001b[0m\u001b[1;33m=\u001b[0m\u001b[0mcode\u001b[0m\u001b[1;33m,\u001b[0m\u001b[1;33m\u001b[0m\u001b[1;33m\u001b[0m\u001b[0m\n\u001b[0;32m    282\u001b[0m             \u001b[0mgrant_type\u001b[0m\u001b[1;33m=\u001b[0m\u001b[1;34m\"authorization_code\"\u001b[0m\u001b[1;33m,\u001b[0m\u001b[1;33m\u001b[0m\u001b[1;33m\u001b[0m\u001b[0m\n",
      "\u001b[1;32m~\\anaconda3\\lib\\site-packages\\prawcore\\auth.py\u001b[0m in \u001b[0;36m_request_token\u001b[1;34m(self, **data)\u001b[0m\n\u001b[0;32m    153\u001b[0m         \u001b[0murl\u001b[0m \u001b[1;33m=\u001b[0m \u001b[0mself\u001b[0m\u001b[1;33m.\u001b[0m\u001b[0m_authenticator\u001b[0m\u001b[1;33m.\u001b[0m\u001b[0m_requestor\u001b[0m\u001b[1;33m.\u001b[0m\u001b[0mreddit_url\u001b[0m \u001b[1;33m+\u001b[0m \u001b[0mconst\u001b[0m\u001b[1;33m.\u001b[0m\u001b[0mACCESS_TOKEN_PATH\u001b[0m\u001b[1;33m\u001b[0m\u001b[1;33m\u001b[0m\u001b[0m\n\u001b[0;32m    154\u001b[0m         \u001b[0mpre_request_time\u001b[0m \u001b[1;33m=\u001b[0m \u001b[0mtime\u001b[0m\u001b[1;33m.\u001b[0m\u001b[0mtime\u001b[0m\u001b[1;33m(\u001b[0m\u001b[1;33m)\u001b[0m\u001b[1;33m\u001b[0m\u001b[1;33m\u001b[0m\u001b[0m\n\u001b[1;32m--> 155\u001b[1;33m         \u001b[0mresponse\u001b[0m \u001b[1;33m=\u001b[0m \u001b[0mself\u001b[0m\u001b[1;33m.\u001b[0m\u001b[0m_authenticator\u001b[0m\u001b[1;33m.\u001b[0m\u001b[0m_post\u001b[0m\u001b[1;33m(\u001b[0m\u001b[0murl\u001b[0m\u001b[1;33m=\u001b[0m\u001b[0murl\u001b[0m\u001b[1;33m,\u001b[0m \u001b[1;33m**\u001b[0m\u001b[0mdata\u001b[0m\u001b[1;33m)\u001b[0m\u001b[1;33m\u001b[0m\u001b[1;33m\u001b[0m\u001b[0m\n\u001b[0m\u001b[0;32m    156\u001b[0m         \u001b[0mpayload\u001b[0m \u001b[1;33m=\u001b[0m \u001b[0mresponse\u001b[0m\u001b[1;33m.\u001b[0m\u001b[0mjson\u001b[0m\u001b[1;33m(\u001b[0m\u001b[1;33m)\u001b[0m\u001b[1;33m\u001b[0m\u001b[1;33m\u001b[0m\u001b[0m\n\u001b[0;32m    157\u001b[0m         \u001b[1;32mif\u001b[0m \u001b[1;34m\"error\"\u001b[0m \u001b[1;32min\u001b[0m \u001b[0mpayload\u001b[0m\u001b[1;33m:\u001b[0m  \u001b[1;31m# Why are these OKAY responses?\u001b[0m\u001b[1;33m\u001b[0m\u001b[1;33m\u001b[0m\u001b[0m\n",
      "\u001b[1;32m~\\anaconda3\\lib\\site-packages\\prawcore\\auth.py\u001b[0m in \u001b[0;36m_post\u001b[1;34m(self, url, success_status, **data)\u001b[0m\n\u001b[0;32m     57\u001b[0m         )\n\u001b[0;32m     58\u001b[0m         \u001b[1;32mif\u001b[0m \u001b[0mresponse\u001b[0m\u001b[1;33m.\u001b[0m\u001b[0mstatus_code\u001b[0m \u001b[1;33m!=\u001b[0m \u001b[0msuccess_status\u001b[0m\u001b[1;33m:\u001b[0m\u001b[1;33m\u001b[0m\u001b[1;33m\u001b[0m\u001b[0m\n\u001b[1;32m---> 59\u001b[1;33m             \u001b[1;32mraise\u001b[0m \u001b[0mResponseException\u001b[0m\u001b[1;33m(\u001b[0m\u001b[0mresponse\u001b[0m\u001b[1;33m)\u001b[0m\u001b[1;33m\u001b[0m\u001b[1;33m\u001b[0m\u001b[0m\n\u001b[0m\u001b[0;32m     60\u001b[0m         \u001b[1;32mreturn\u001b[0m \u001b[0mresponse\u001b[0m\u001b[1;33m\u001b[0m\u001b[1;33m\u001b[0m\u001b[0m\n\u001b[0;32m     61\u001b[0m \u001b[1;33m\u001b[0m\u001b[0m\n",
      "\u001b[1;31mResponseException\u001b[0m: received 404 HTTP response"
     ]
    }
   ],
   "source": [
    "import praw\n",
    "import webbrowser\n",
    "\n",
    "# 设置 Reddit API 的参数\n",
    "client_id = '2jnPC-Q387sT92iOOcar-A'  # 你的 client ID\n",
    "client_secret = 'p7is38ghTqErcWA-JsD13aLb2A2e-Q'  # 你的 client secret\n",
    "user_agent = 'QuantitativeAnalysis by /u/Charming_Freedom_677'  # 你的 user agent\n",
    "redirect_uri = 'http://localhost:8000'  # 你的回调地址，确保已经在 Reddit 开发者控制台配置\n",
    "\n",
    "# 创建 Reddit 实例\n",
    "reddit = praw.Reddit(\n",
    "    client_id=client_id,\n",
    "    client_secret=client_secret,\n",
    "    user_agent=user_agent,\n",
    "    redirect_uri=redirect_uri  # 明确指定 redirect_uri\n",
    ")\n",
    "\n",
    "# 生成授权 URL\n",
    "auth_url = reddit.auth.url(scopes=['identity'], state='unique_random_string', duration='permanent')\n",
    "\n",
    "# 打开浏览器授权页面\n",
    "print(\"Please visit this URL to authorize your account:\")\n",
    "webbrowser.open(auth_url)\n",
    "\n",
    "# 等待用户输入授权码\n",
    "authorization_code = input(\"Enter the authorization code: \")\n",
    "\n",
    "# 使用授权码获取访问令牌\n",
    "reddit.auth.authorize(authorization_code)\n",
    "\n",
    "# 打印当前登录的 Reddit 用户\n",
    "print(reddit.user.me())  # 显示当前 Reddit 用户\n"
   ]
  },
  {
   "cell_type": "code",
   "execution_count": 2,
   "id": "57435d9a-8fc3-4f70-bd99-3157a0f9ed2c",
   "metadata": {},
   "outputs": [
    {
     "ename": "AttributeError",
     "evalue": "'Reddit' object has no attribute 'submissions'",
     "output_type": "error",
     "traceback": [
      "\u001b[1;31m---------------------------------------------------------------------------\u001b[0m",
      "\u001b[1;31mAttributeError\u001b[0m                            Traceback (most recent call last)",
      "\u001b[1;32m<ipython-input-2-114a9ab7a5a7>\u001b[0m in \u001b[0;36m<module>\u001b[1;34m\u001b[0m\n\u001b[0;32m      2\u001b[0m \u001b[1;33m\u001b[0m\u001b[0m\n\u001b[0;32m      3\u001b[0m \u001b[1;31m# 通过关键字在全站范围内搜索相关帖子\u001b[0m\u001b[1;33m\u001b[0m\u001b[1;33m\u001b[0m\u001b[1;33m\u001b[0m\u001b[0m\n\u001b[1;32m----> 4\u001b[1;33m \u001b[1;32mfor\u001b[0m \u001b[0msubmission\u001b[0m \u001b[1;32min\u001b[0m \u001b[0mreddit\u001b[0m\u001b[1;33m.\u001b[0m\u001b[0msubmissions\u001b[0m\u001b[1;33m.\u001b[0m\u001b[0msearch\u001b[0m\u001b[1;33m(\u001b[0m\u001b[1;34m'solar foil'\u001b[0m\u001b[1;33m,\u001b[0m \u001b[0mlimit\u001b[0m\u001b[1;33m=\u001b[0m\u001b[1;36m10\u001b[0m\u001b[1;33m)\u001b[0m\u001b[1;33m:\u001b[0m  \u001b[1;31m# 限制返回10个相关帖子\u001b[0m\u001b[1;33m\u001b[0m\u001b[1;33m\u001b[0m\u001b[0m\n\u001b[0m\u001b[0;32m      5\u001b[0m     \u001b[0mprint\u001b[0m\u001b[1;33m(\u001b[0m\u001b[1;34mf\"Title: {submission.title}\"\u001b[0m\u001b[1;33m)\u001b[0m\u001b[1;33m\u001b[0m\u001b[1;33m\u001b[0m\u001b[0m\n\u001b[0;32m      6\u001b[0m     \u001b[0mprint\u001b[0m\u001b[1;33m(\u001b[0m\u001b[1;34mf\"URL: {submission.url}\"\u001b[0m\u001b[1;33m)\u001b[0m\u001b[1;33m\u001b[0m\u001b[1;33m\u001b[0m\u001b[0m\n",
      "\u001b[1;31mAttributeError\u001b[0m: 'Reddit' object has no attribute 'submissions'"
     ]
    }
   ],
   "source": [
    "import praw\n",
    "\n",
    "# 通过关键字在全站范围内搜索相关帖子\n",
    "for submission in reddit.submissions.search('solar foil', limit=10):  # 限制返回10个相关帖子\n",
    "    print(f\"Title: {submission.title}\")\n",
    "    print(f\"URL: {submission.url}\")\n",
    "    print(f\"Text: {submission.selftext}\")\n",
    "    print(f\"Score: {submission.score}\")\n",
    "    print(\"-\" * 50)\n"
   ]
  },
  {
   "cell_type": "code",
   "execution_count": 3,
   "id": "b3f97a58-a25b-4b32-b99f-42202848672b",
   "metadata": {},
   "outputs": [
    {
     "name": "stdout",
     "output_type": "stream",
     "text": [
      "Searching in r/climate...\n"
     ]
    },
    {
     "ename": "InsufficientScope",
     "evalue": "received 403 HTTP response",
     "output_type": "error",
     "traceback": [
      "\u001b[1;31m---------------------------------------------------------------------------\u001b[0m",
      "\u001b[1;31mInsufficientScope\u001b[0m                         Traceback (most recent call last)",
      "\u001b[1;32m<ipython-input-3-51b9e374ef93>\u001b[0m in \u001b[0;36m<module>\u001b[1;34m\u001b[0m\n\u001b[0;32m      5\u001b[0m \u001b[1;32mfor\u001b[0m \u001b[0msubreddit_name\u001b[0m \u001b[1;32min\u001b[0m \u001b[0msubreddits\u001b[0m\u001b[1;33m:\u001b[0m\u001b[1;33m\u001b[0m\u001b[1;33m\u001b[0m\u001b[0m\n\u001b[0;32m      6\u001b[0m     \u001b[0mprint\u001b[0m\u001b[1;33m(\u001b[0m\u001b[1;34mf\"Searching in r/{subreddit_name}...\"\u001b[0m\u001b[1;33m)\u001b[0m\u001b[1;33m\u001b[0m\u001b[1;33m\u001b[0m\u001b[0m\n\u001b[1;32m----> 7\u001b[1;33m     \u001b[1;32mfor\u001b[0m \u001b[0msubmission\u001b[0m \u001b[1;32min\u001b[0m \u001b[0mreddit\u001b[0m\u001b[1;33m.\u001b[0m\u001b[0msubreddit\u001b[0m\u001b[1;33m(\u001b[0m\u001b[0msubreddit_name\u001b[0m\u001b[1;33m)\u001b[0m\u001b[1;33m.\u001b[0m\u001b[0msearch\u001b[0m\u001b[1;33m(\u001b[0m\u001b[1;34m'solar foil'\u001b[0m\u001b[1;33m,\u001b[0m \u001b[0mlimit\u001b[0m\u001b[1;33m=\u001b[0m\u001b[1;36m10\u001b[0m\u001b[1;33m)\u001b[0m\u001b[1;33m:\u001b[0m  \u001b[1;31m# 限制返回10个相关帖子\u001b[0m\u001b[1;33m\u001b[0m\u001b[1;33m\u001b[0m\u001b[0m\n\u001b[0m\u001b[0;32m      8\u001b[0m         \u001b[0mprint\u001b[0m\u001b[1;33m(\u001b[0m\u001b[1;34mf\"Title: {submission.title}\"\u001b[0m\u001b[1;33m)\u001b[0m\u001b[1;33m\u001b[0m\u001b[1;33m\u001b[0m\u001b[0m\n\u001b[0;32m      9\u001b[0m         \u001b[0mprint\u001b[0m\u001b[1;33m(\u001b[0m\u001b[1;34mf\"URL: {submission.url}\"\u001b[0m\u001b[1;33m)\u001b[0m\u001b[1;33m\u001b[0m\u001b[1;33m\u001b[0m\u001b[0m\n",
      "\u001b[1;32m~\\anaconda3\\lib\\site-packages\\praw\\models\\listing\\generator.py\u001b[0m in \u001b[0;36m__next__\u001b[1;34m(self)\u001b[0m\n\u001b[0;32m     64\u001b[0m \u001b[1;33m\u001b[0m\u001b[0m\n\u001b[0;32m     65\u001b[0m         \u001b[1;32mif\u001b[0m \u001b[0mself\u001b[0m\u001b[1;33m.\u001b[0m\u001b[0m_listing\u001b[0m \u001b[1;32mis\u001b[0m \u001b[1;32mNone\u001b[0m \u001b[1;32mor\u001b[0m \u001b[0mself\u001b[0m\u001b[1;33m.\u001b[0m\u001b[0m_list_index\u001b[0m \u001b[1;33m>=\u001b[0m \u001b[0mlen\u001b[0m\u001b[1;33m(\u001b[0m\u001b[0mself\u001b[0m\u001b[1;33m.\u001b[0m\u001b[0m_listing\u001b[0m\u001b[1;33m)\u001b[0m\u001b[1;33m:\u001b[0m\u001b[1;33m\u001b[0m\u001b[1;33m\u001b[0m\u001b[0m\n\u001b[1;32m---> 66\u001b[1;33m             \u001b[0mself\u001b[0m\u001b[1;33m.\u001b[0m\u001b[0m_next_batch\u001b[0m\u001b[1;33m(\u001b[0m\u001b[1;33m)\u001b[0m\u001b[1;33m\u001b[0m\u001b[1;33m\u001b[0m\u001b[0m\n\u001b[0m\u001b[0;32m     67\u001b[0m \u001b[1;33m\u001b[0m\u001b[0m\n\u001b[0;32m     68\u001b[0m         \u001b[0mself\u001b[0m\u001b[1;33m.\u001b[0m\u001b[0m_list_index\u001b[0m \u001b[1;33m+=\u001b[0m \u001b[1;36m1\u001b[0m\u001b[1;33m\u001b[0m\u001b[1;33m\u001b[0m\u001b[0m\n",
      "\u001b[1;32m~\\anaconda3\\lib\\site-packages\\praw\\models\\listing\\generator.py\u001b[0m in \u001b[0;36m_next_batch\u001b[1;34m(self)\u001b[0m\n\u001b[0;32m     88\u001b[0m             \u001b[1;32mraise\u001b[0m \u001b[0mStopIteration\u001b[0m\u001b[1;33m\u001b[0m\u001b[1;33m\u001b[0m\u001b[0m\n\u001b[0;32m     89\u001b[0m \u001b[1;33m\u001b[0m\u001b[0m\n\u001b[1;32m---> 90\u001b[1;33m         \u001b[0mself\u001b[0m\u001b[1;33m.\u001b[0m\u001b[0m_listing\u001b[0m \u001b[1;33m=\u001b[0m \u001b[0mself\u001b[0m\u001b[1;33m.\u001b[0m\u001b[0m_reddit\u001b[0m\u001b[1;33m.\u001b[0m\u001b[0mget\u001b[0m\u001b[1;33m(\u001b[0m\u001b[0mself\u001b[0m\u001b[1;33m.\u001b[0m\u001b[0murl\u001b[0m\u001b[1;33m,\u001b[0m \u001b[0mparams\u001b[0m\u001b[1;33m=\u001b[0m\u001b[0mself\u001b[0m\u001b[1;33m.\u001b[0m\u001b[0mparams\u001b[0m\u001b[1;33m)\u001b[0m\u001b[1;33m\u001b[0m\u001b[1;33m\u001b[0m\u001b[0m\n\u001b[0m\u001b[0;32m     91\u001b[0m         \u001b[0mself\u001b[0m\u001b[1;33m.\u001b[0m\u001b[0m_listing\u001b[0m \u001b[1;33m=\u001b[0m \u001b[0mself\u001b[0m\u001b[1;33m.\u001b[0m\u001b[0m_extract_sublist\u001b[0m\u001b[1;33m(\u001b[0m\u001b[0mself\u001b[0m\u001b[1;33m.\u001b[0m\u001b[0m_listing\u001b[0m\u001b[1;33m)\u001b[0m\u001b[1;33m\u001b[0m\u001b[1;33m\u001b[0m\u001b[0m\n\u001b[0;32m     92\u001b[0m         \u001b[0mself\u001b[0m\u001b[1;33m.\u001b[0m\u001b[0m_list_index\u001b[0m \u001b[1;33m=\u001b[0m \u001b[1;36m0\u001b[0m\u001b[1;33m\u001b[0m\u001b[1;33m\u001b[0m\u001b[0m\n",
      "\u001b[1;32m~\\anaconda3\\lib\\site-packages\\praw\\util\\deprecate_args.py\u001b[0m in \u001b[0;36mwrapped\u001b[1;34m(*args, **kwargs)\u001b[0m\n\u001b[0;32m     44\u001b[0m                     \u001b[0mstacklevel\u001b[0m\u001b[1;33m=\u001b[0m\u001b[1;36m2\u001b[0m\u001b[1;33m,\u001b[0m\u001b[1;33m\u001b[0m\u001b[1;33m\u001b[0m\u001b[0m\n\u001b[0;32m     45\u001b[0m                 )\n\u001b[1;32m---> 46\u001b[1;33m             \u001b[1;32mreturn\u001b[0m \u001b[0mfunc\u001b[0m\u001b[1;33m(\u001b[0m\u001b[1;33m**\u001b[0m\u001b[0mdict\u001b[0m\u001b[1;33m(\u001b[0m\u001b[0mzip\u001b[0m\u001b[1;33m(\u001b[0m\u001b[0m_old_args\u001b[0m\u001b[1;33m,\u001b[0m \u001b[0margs\u001b[0m\u001b[1;33m)\u001b[0m\u001b[1;33m)\u001b[0m\u001b[1;33m,\u001b[0m \u001b[1;33m**\u001b[0m\u001b[0mkwargs\u001b[0m\u001b[1;33m)\u001b[0m\u001b[1;33m\u001b[0m\u001b[1;33m\u001b[0m\u001b[0m\n\u001b[0m\u001b[0;32m     47\u001b[0m \u001b[1;33m\u001b[0m\u001b[0m\n\u001b[0;32m     48\u001b[0m         \u001b[1;32mreturn\u001b[0m \u001b[0mwrapped\u001b[0m\u001b[1;33m\u001b[0m\u001b[1;33m\u001b[0m\u001b[0m\n",
      "\u001b[1;32m~\\anaconda3\\lib\\site-packages\\praw\\reddit.py\u001b[0m in \u001b[0;36mget\u001b[1;34m(self, path, params)\u001b[0m\n\u001b[0;32m    729\u001b[0m \u001b[1;33m\u001b[0m\u001b[0m\n\u001b[0;32m    730\u001b[0m         \"\"\"\n\u001b[1;32m--> 731\u001b[1;33m         \u001b[1;32mreturn\u001b[0m \u001b[0mself\u001b[0m\u001b[1;33m.\u001b[0m\u001b[0m_objectify_request\u001b[0m\u001b[1;33m(\u001b[0m\u001b[0mmethod\u001b[0m\u001b[1;33m=\u001b[0m\u001b[1;34m\"GET\"\u001b[0m\u001b[1;33m,\u001b[0m \u001b[0mparams\u001b[0m\u001b[1;33m=\u001b[0m\u001b[0mparams\u001b[0m\u001b[1;33m,\u001b[0m \u001b[0mpath\u001b[0m\u001b[1;33m=\u001b[0m\u001b[0mpath\u001b[0m\u001b[1;33m)\u001b[0m\u001b[1;33m\u001b[0m\u001b[1;33m\u001b[0m\u001b[0m\n\u001b[0m\u001b[0;32m    732\u001b[0m \u001b[1;33m\u001b[0m\u001b[0m\n\u001b[0;32m    733\u001b[0m     \u001b[1;33m@\u001b[0m\u001b[0m_deprecate_args\u001b[0m\u001b[1;33m(\u001b[0m\u001b[1;34m\"fullnames\"\u001b[0m\u001b[1;33m,\u001b[0m \u001b[1;34m\"url\"\u001b[0m\u001b[1;33m,\u001b[0m \u001b[1;34m\"subreddits\"\u001b[0m\u001b[1;33m)\u001b[0m\u001b[1;33m\u001b[0m\u001b[1;33m\u001b[0m\u001b[0m\n",
      "\u001b[1;32m~\\anaconda3\\lib\\site-packages\\praw\\reddit.py\u001b[0m in \u001b[0;36m_objectify_request\u001b[1;34m(self, data, files, json, method, params, path)\u001b[0m\n\u001b[0;32m    512\u001b[0m         \"\"\"\n\u001b[0;32m    513\u001b[0m         return self._objector.objectify(\n\u001b[1;32m--> 514\u001b[1;33m             self.request(\n\u001b[0m\u001b[0;32m    515\u001b[0m                 \u001b[0mdata\u001b[0m\u001b[1;33m=\u001b[0m\u001b[0mdata\u001b[0m\u001b[1;33m,\u001b[0m\u001b[1;33m\u001b[0m\u001b[1;33m\u001b[0m\u001b[0m\n\u001b[0;32m    516\u001b[0m                 \u001b[0mfiles\u001b[0m\u001b[1;33m=\u001b[0m\u001b[0mfiles\u001b[0m\u001b[1;33m,\u001b[0m\u001b[1;33m\u001b[0m\u001b[1;33m\u001b[0m\u001b[0m\n",
      "\u001b[1;32m~\\anaconda3\\lib\\site-packages\\praw\\util\\deprecate_args.py\u001b[0m in \u001b[0;36mwrapped\u001b[1;34m(*args, **kwargs)\u001b[0m\n\u001b[0;32m     44\u001b[0m                     \u001b[0mstacklevel\u001b[0m\u001b[1;33m=\u001b[0m\u001b[1;36m2\u001b[0m\u001b[1;33m,\u001b[0m\u001b[1;33m\u001b[0m\u001b[1;33m\u001b[0m\u001b[0m\n\u001b[0;32m     45\u001b[0m                 )\n\u001b[1;32m---> 46\u001b[1;33m             \u001b[1;32mreturn\u001b[0m \u001b[0mfunc\u001b[0m\u001b[1;33m(\u001b[0m\u001b[1;33m**\u001b[0m\u001b[0mdict\u001b[0m\u001b[1;33m(\u001b[0m\u001b[0mzip\u001b[0m\u001b[1;33m(\u001b[0m\u001b[0m_old_args\u001b[0m\u001b[1;33m,\u001b[0m \u001b[0margs\u001b[0m\u001b[1;33m)\u001b[0m\u001b[1;33m)\u001b[0m\u001b[1;33m,\u001b[0m \u001b[1;33m**\u001b[0m\u001b[0mkwargs\u001b[0m\u001b[1;33m)\u001b[0m\u001b[1;33m\u001b[0m\u001b[1;33m\u001b[0m\u001b[0m\n\u001b[0m\u001b[0;32m     47\u001b[0m \u001b[1;33m\u001b[0m\u001b[0m\n\u001b[0;32m     48\u001b[0m         \u001b[1;32mreturn\u001b[0m \u001b[0mwrapped\u001b[0m\u001b[1;33m\u001b[0m\u001b[1;33m\u001b[0m\u001b[0m\n",
      "\u001b[1;32m~\\anaconda3\\lib\\site-packages\\praw\\reddit.py\u001b[0m in \u001b[0;36mrequest\u001b[1;34m(self, data, files, json, method, params, path)\u001b[0m\n\u001b[0;32m    961\u001b[0m             \u001b[1;32mraise\u001b[0m \u001b[0mClientException\u001b[0m\u001b[1;33m(\u001b[0m\u001b[0mmsg\u001b[0m\u001b[1;33m)\u001b[0m\u001b[1;33m\u001b[0m\u001b[1;33m\u001b[0m\u001b[0m\n\u001b[0;32m    962\u001b[0m         \u001b[1;32mtry\u001b[0m\u001b[1;33m:\u001b[0m\u001b[1;33m\u001b[0m\u001b[1;33m\u001b[0m\u001b[0m\n\u001b[1;32m--> 963\u001b[1;33m             return self._core.request(\n\u001b[0m\u001b[0;32m    964\u001b[0m                 \u001b[0mdata\u001b[0m\u001b[1;33m=\u001b[0m\u001b[0mdata\u001b[0m\u001b[1;33m,\u001b[0m\u001b[1;33m\u001b[0m\u001b[1;33m\u001b[0m\u001b[0m\n\u001b[0;32m    965\u001b[0m                 \u001b[0mfiles\u001b[0m\u001b[1;33m=\u001b[0m\u001b[0mfiles\u001b[0m\u001b[1;33m,\u001b[0m\u001b[1;33m\u001b[0m\u001b[1;33m\u001b[0m\u001b[0m\n",
      "\u001b[1;32m~\\anaconda3\\lib\\site-packages\\prawcore\\sessions.py\u001b[0m in \u001b[0;36mrequest\u001b[1;34m(self, method, path, data, files, json, params, timeout)\u001b[0m\n\u001b[0;32m    326\u001b[0m             \u001b[0mjson\u001b[0m\u001b[1;33m[\u001b[0m\u001b[1;34m\"api_type\"\u001b[0m\u001b[1;33m]\u001b[0m \u001b[1;33m=\u001b[0m \u001b[1;34m\"json\"\u001b[0m\u001b[1;33m\u001b[0m\u001b[1;33m\u001b[0m\u001b[0m\n\u001b[0;32m    327\u001b[0m         \u001b[0murl\u001b[0m \u001b[1;33m=\u001b[0m \u001b[0murljoin\u001b[0m\u001b[1;33m(\u001b[0m\u001b[0mself\u001b[0m\u001b[1;33m.\u001b[0m\u001b[0m_requestor\u001b[0m\u001b[1;33m.\u001b[0m\u001b[0moauth_url\u001b[0m\u001b[1;33m,\u001b[0m \u001b[0mpath\u001b[0m\u001b[1;33m)\u001b[0m\u001b[1;33m\u001b[0m\u001b[1;33m\u001b[0m\u001b[0m\n\u001b[1;32m--> 328\u001b[1;33m         return self._request_with_retries(\n\u001b[0m\u001b[0;32m    329\u001b[0m             \u001b[0mdata\u001b[0m\u001b[1;33m=\u001b[0m\u001b[0mdata\u001b[0m\u001b[1;33m,\u001b[0m\u001b[1;33m\u001b[0m\u001b[1;33m\u001b[0m\u001b[0m\n\u001b[0;32m    330\u001b[0m             \u001b[0mfiles\u001b[0m\u001b[1;33m=\u001b[0m\u001b[0mfiles\u001b[0m\u001b[1;33m,\u001b[0m\u001b[1;33m\u001b[0m\u001b[1;33m\u001b[0m\u001b[0m\n",
      "\u001b[1;32m~\\anaconda3\\lib\\site-packages\\prawcore\\sessions.py\u001b[0m in \u001b[0;36m_request_with_retries\u001b[1;34m(self, data, files, json, method, params, timeout, url, retry_strategy_state)\u001b[0m\n\u001b[0;32m    265\u001b[0m             )\n\u001b[0;32m    266\u001b[0m         \u001b[1;32mif\u001b[0m \u001b[0mresponse\u001b[0m\u001b[1;33m.\u001b[0m\u001b[0mstatus_code\u001b[0m \u001b[1;32min\u001b[0m \u001b[0mself\u001b[0m\u001b[1;33m.\u001b[0m\u001b[0mSTATUS_EXCEPTIONS\u001b[0m\u001b[1;33m:\u001b[0m\u001b[1;33m\u001b[0m\u001b[1;33m\u001b[0m\u001b[0m\n\u001b[1;32m--> 267\u001b[1;33m             \u001b[1;32mraise\u001b[0m \u001b[0mself\u001b[0m\u001b[1;33m.\u001b[0m\u001b[0mSTATUS_EXCEPTIONS\u001b[0m\u001b[1;33m[\u001b[0m\u001b[0mresponse\u001b[0m\u001b[1;33m.\u001b[0m\u001b[0mstatus_code\u001b[0m\u001b[1;33m]\u001b[0m\u001b[1;33m(\u001b[0m\u001b[0mresponse\u001b[0m\u001b[1;33m)\u001b[0m\u001b[1;33m\u001b[0m\u001b[1;33m\u001b[0m\u001b[0m\n\u001b[0m\u001b[0;32m    268\u001b[0m         \u001b[1;32mif\u001b[0m \u001b[0mresponse\u001b[0m\u001b[1;33m.\u001b[0m\u001b[0mstatus_code\u001b[0m \u001b[1;33m==\u001b[0m \u001b[0mcodes\u001b[0m\u001b[1;33m[\u001b[0m\u001b[1;34m\"no_content\"\u001b[0m\u001b[1;33m]\u001b[0m\u001b[1;33m:\u001b[0m\u001b[1;33m\u001b[0m\u001b[1;33m\u001b[0m\u001b[0m\n\u001b[0;32m    269\u001b[0m             \u001b[1;32mreturn\u001b[0m \u001b[1;32mNone\u001b[0m\u001b[1;33m\u001b[0m\u001b[1;33m\u001b[0m\u001b[0m\n",
      "\u001b[1;31mInsufficientScope\u001b[0m: received 403 HTTP response"
     ]
    }
   ],
   "source": [
    "# 需要搜索的 subreddit 列表\n",
    "subreddits = ['climate', 'environment', 'sustainability', 'environmentalscience', 'conservation']\n",
    "\n",
    "# 搜索每个 subreddit 中与 'solar foil' 相关的帖子\n",
    "for subreddit_name in subreddits:\n",
    "    print(f\"Searching in r/{subreddit_name}...\")\n",
    "    for submission in reddit.subreddit(subreddit_name).search('solar foil', limit=10):  # 限制返回10个相关帖子\n",
    "        print(f\"Title: {submission.title}\")\n",
    "        print(f\"URL: {submission.url}\")\n",
    "        print(f\"Text: {submission.selftext}\")\n",
    "        print(f\"Score: {submission.score}\")\n",
    "        print(\"-\" * 50)"
   ]
  },
  {
   "cell_type": "code",
   "execution_count": 4,
   "id": "3e37b136-3baf-445c-ad32-ea0239d2a799",
   "metadata": {},
   "outputs": [
    {
     "ename": "MissingRequiredAttributeException",
     "evalue": "redirect_uri must be provided",
     "output_type": "error",
     "traceback": [
      "\u001b[1;31m---------------------------------------------------------------------------\u001b[0m",
      "\u001b[1;31mMissingRequiredAttributeException\u001b[0m         Traceback (most recent call last)",
      "\u001b[1;32m<ipython-input-4-a3cade2c99c3>\u001b[0m in \u001b[0;36m<module>\u001b[1;34m\u001b[0m\n\u001b[0;32m      8\u001b[0m \u001b[1;33m\u001b[0m\u001b[0m\n\u001b[0;32m      9\u001b[0m \u001b[1;31m# 授权请求时包含 'read' 权限\u001b[0m\u001b[1;33m\u001b[0m\u001b[1;33m\u001b[0m\u001b[1;33m\u001b[0m\u001b[0m\n\u001b[1;32m---> 10\u001b[1;33m \u001b[0mauth_url\u001b[0m \u001b[1;33m=\u001b[0m \u001b[0mreddit\u001b[0m\u001b[1;33m.\u001b[0m\u001b[0mauth\u001b[0m\u001b[1;33m.\u001b[0m\u001b[0murl\u001b[0m\u001b[1;33m(\u001b[0m\u001b[0mscopes\u001b[0m\u001b[1;33m=\u001b[0m\u001b[1;33m[\u001b[0m\u001b[1;34m'read'\u001b[0m\u001b[1;33m,\u001b[0m \u001b[1;34m'identity'\u001b[0m\u001b[1;33m]\u001b[0m\u001b[1;33m,\u001b[0m \u001b[0mstate\u001b[0m\u001b[1;33m=\u001b[0m\u001b[1;34m'unique_random_string'\u001b[0m\u001b[1;33m,\u001b[0m \u001b[0mduration\u001b[0m\u001b[1;33m=\u001b[0m\u001b[1;34m'permanent'\u001b[0m\u001b[1;33m)\u001b[0m\u001b[1;33m\u001b[0m\u001b[1;33m\u001b[0m\u001b[0m\n\u001b[0m\u001b[0;32m     11\u001b[0m \u001b[0mprint\u001b[0m\u001b[1;33m(\u001b[0m\u001b[1;34m\"Please visit this URL to authorize your account:\"\u001b[0m\u001b[1;33m)\u001b[0m\u001b[1;33m\u001b[0m\u001b[1;33m\u001b[0m\u001b[0m\n\u001b[0;32m     12\u001b[0m \u001b[0mprint\u001b[0m\u001b[1;33m(\u001b[0m\u001b[0mauth_url\u001b[0m\u001b[1;33m)\u001b[0m\u001b[1;33m\u001b[0m\u001b[1;33m\u001b[0m\u001b[0m\n",
      "\u001b[1;32m~\\anaconda3\\lib\\site-packages\\praw\\util\\deprecate_args.py\u001b[0m in \u001b[0;36mwrapped\u001b[1;34m(*args, **kwargs)\u001b[0m\n\u001b[0;32m     44\u001b[0m                     \u001b[0mstacklevel\u001b[0m\u001b[1;33m=\u001b[0m\u001b[1;36m2\u001b[0m\u001b[1;33m,\u001b[0m\u001b[1;33m\u001b[0m\u001b[1;33m\u001b[0m\u001b[0m\n\u001b[0;32m     45\u001b[0m                 )\n\u001b[1;32m---> 46\u001b[1;33m             \u001b[1;32mreturn\u001b[0m \u001b[0mfunc\u001b[0m\u001b[1;33m(\u001b[0m\u001b[1;33m**\u001b[0m\u001b[0mdict\u001b[0m\u001b[1;33m(\u001b[0m\u001b[0mzip\u001b[0m\u001b[1;33m(\u001b[0m\u001b[0m_old_args\u001b[0m\u001b[1;33m,\u001b[0m \u001b[0margs\u001b[0m\u001b[1;33m)\u001b[0m\u001b[1;33m)\u001b[0m\u001b[1;33m,\u001b[0m \u001b[1;33m**\u001b[0m\u001b[0mkwargs\u001b[0m\u001b[1;33m)\u001b[0m\u001b[1;33m\u001b[0m\u001b[1;33m\u001b[0m\u001b[0m\n\u001b[0m\u001b[0;32m     47\u001b[0m \u001b[1;33m\u001b[0m\u001b[0m\n\u001b[0;32m     48\u001b[0m         \u001b[1;32mreturn\u001b[0m \u001b[0mwrapped\u001b[0m\u001b[1;33m\u001b[0m\u001b[1;33m\u001b[0m\u001b[0m\n",
      "\u001b[1;32m~\\anaconda3\\lib\\site-packages\\praw\\models\\auth.py\u001b[0m in \u001b[0;36murl\u001b[1;34m(self, duration, implicit, scopes, state)\u001b[0m\n\u001b[0;32m    128\u001b[0m         \u001b[1;32mif\u001b[0m \u001b[0mauthenticator\u001b[0m\u001b[1;33m.\u001b[0m\u001b[0mredirect_uri\u001b[0m \u001b[1;32mis\u001b[0m \u001b[0mself\u001b[0m\u001b[1;33m.\u001b[0m\u001b[0m_reddit\u001b[0m\u001b[1;33m.\u001b[0m\u001b[0mconfig\u001b[0m\u001b[1;33m.\u001b[0m\u001b[0mCONFIG_NOT_SET\u001b[0m\u001b[1;33m:\u001b[0m\u001b[1;33m\u001b[0m\u001b[1;33m\u001b[0m\u001b[0m\n\u001b[0;32m    129\u001b[0m             \u001b[0mmsg\u001b[0m \u001b[1;33m=\u001b[0m \u001b[1;34m\"redirect_uri must be provided\"\u001b[0m\u001b[1;33m\u001b[0m\u001b[1;33m\u001b[0m\u001b[0m\n\u001b[1;32m--> 130\u001b[1;33m             \u001b[1;32mraise\u001b[0m \u001b[0mMissingRequiredAttributeException\u001b[0m\u001b[1;33m(\u001b[0m\u001b[0mmsg\u001b[0m\u001b[1;33m)\u001b[0m\u001b[1;33m\u001b[0m\u001b[1;33m\u001b[0m\u001b[0m\n\u001b[0m\u001b[0;32m    131\u001b[0m         \u001b[1;32mif\u001b[0m \u001b[0misinstance\u001b[0m\u001b[1;33m(\u001b[0m\u001b[0mauthenticator\u001b[0m\u001b[1;33m,\u001b[0m \u001b[0mUntrustedAuthenticator\u001b[0m\u001b[1;33m)\u001b[0m\u001b[1;33m:\u001b[0m\u001b[1;33m\u001b[0m\u001b[1;33m\u001b[0m\u001b[0m\n\u001b[0;32m    132\u001b[0m             return authenticator.authorize_url(\n",
      "\u001b[1;31mMissingRequiredAttributeException\u001b[0m: redirect_uri must be provided"
     ]
    }
   ],
   "source": [
    "# 确保授权时请求 'read' 权限\n",
    "reddit = praw.Reddit(\n",
    "    client_id='your_client_id',\n",
    "    client_secret='your_client_secret',\n",
    "    user_agent='your_user_agent',\n",
    "    refresh_token='your_refresh_token'\n",
    ")\n",
    "\n",
    "# 授权请求时包含 'read' 权限\n",
    "auth_url = reddit.auth.url(scopes=['read', 'identity'], state='unique_random_string', duration='permanent')\n",
    "print(\"Please visit this URL to authorize your account:\")\n",
    "print(auth_url)"
   ]
  },
  {
   "cell_type": "code",
   "execution_count": 5,
   "id": "511d641a-2a77-4b43-a0c5-cf0a5801f734",
   "metadata": {},
   "outputs": [
    {
     "ename": "TypeError",
     "evalue": "url() got an unexpected keyword argument 'redirect_uri'",
     "output_type": "error",
     "traceback": [
      "\u001b[1;31m---------------------------------------------------------------------------\u001b[0m",
      "\u001b[1;31mTypeError\u001b[0m                                 Traceback (most recent call last)",
      "\u001b[1;32m<ipython-input-5-2b8660f7ef33>\u001b[0m in \u001b[0;36m<module>\u001b[1;34m\u001b[0m\n\u001b[0;32m      2\u001b[0m \u001b[0mredirect_uri\u001b[0m \u001b[1;33m=\u001b[0m \u001b[1;34m\"http://localhost:8000\"\u001b[0m  \u001b[1;31m# 你可以根据需要修改这个 URL\u001b[0m\u001b[1;33m\u001b[0m\u001b[1;33m\u001b[0m\u001b[0m\n\u001b[0;32m      3\u001b[0m \u001b[1;33m\u001b[0m\u001b[0m\n\u001b[1;32m----> 4\u001b[1;33m \u001b[0mauth_url\u001b[0m \u001b[1;33m=\u001b[0m \u001b[0mreddit\u001b[0m\u001b[1;33m.\u001b[0m\u001b[0mauth\u001b[0m\u001b[1;33m.\u001b[0m\u001b[0murl\u001b[0m\u001b[1;33m(\u001b[0m\u001b[0mscopes\u001b[0m\u001b[1;33m=\u001b[0m\u001b[1;33m[\u001b[0m\u001b[1;34m'read'\u001b[0m\u001b[1;33m,\u001b[0m \u001b[1;34m'identity'\u001b[0m\u001b[1;33m]\u001b[0m\u001b[1;33m,\u001b[0m \u001b[0mstate\u001b[0m\u001b[1;33m=\u001b[0m\u001b[1;34m'unique_random_string'\u001b[0m\u001b[1;33m,\u001b[0m \u001b[0mduration\u001b[0m\u001b[1;33m=\u001b[0m\u001b[1;34m'permanent'\u001b[0m\u001b[1;33m,\u001b[0m \u001b[0mredirect_uri\u001b[0m\u001b[1;33m=\u001b[0m\u001b[0mredirect_uri\u001b[0m\u001b[1;33m)\u001b[0m\u001b[1;33m\u001b[0m\u001b[1;33m\u001b[0m\u001b[0m\n\u001b[0m\u001b[0;32m      5\u001b[0m \u001b[0mprint\u001b[0m\u001b[1;33m(\u001b[0m\u001b[1;34m\"Please visit this URL to authorize your account:\"\u001b[0m\u001b[1;33m)\u001b[0m\u001b[1;33m\u001b[0m\u001b[1;33m\u001b[0m\u001b[0m\n\u001b[0;32m      6\u001b[0m \u001b[0mprint\u001b[0m\u001b[1;33m(\u001b[0m\u001b[0mauth_url\u001b[0m\u001b[1;33m)\u001b[0m\u001b[1;33m\u001b[0m\u001b[1;33m\u001b[0m\u001b[0m\n",
      "\u001b[1;32m~\\anaconda3\\lib\\site-packages\\praw\\util\\deprecate_args.py\u001b[0m in \u001b[0;36mwrapped\u001b[1;34m(*args, **kwargs)\u001b[0m\n\u001b[0;32m     44\u001b[0m                     \u001b[0mstacklevel\u001b[0m\u001b[1;33m=\u001b[0m\u001b[1;36m2\u001b[0m\u001b[1;33m,\u001b[0m\u001b[1;33m\u001b[0m\u001b[1;33m\u001b[0m\u001b[0m\n\u001b[0;32m     45\u001b[0m                 )\n\u001b[1;32m---> 46\u001b[1;33m             \u001b[1;32mreturn\u001b[0m \u001b[0mfunc\u001b[0m\u001b[1;33m(\u001b[0m\u001b[1;33m**\u001b[0m\u001b[0mdict\u001b[0m\u001b[1;33m(\u001b[0m\u001b[0mzip\u001b[0m\u001b[1;33m(\u001b[0m\u001b[0m_old_args\u001b[0m\u001b[1;33m,\u001b[0m \u001b[0margs\u001b[0m\u001b[1;33m)\u001b[0m\u001b[1;33m)\u001b[0m\u001b[1;33m,\u001b[0m \u001b[1;33m**\u001b[0m\u001b[0mkwargs\u001b[0m\u001b[1;33m)\u001b[0m\u001b[1;33m\u001b[0m\u001b[1;33m\u001b[0m\u001b[0m\n\u001b[0m\u001b[0;32m     47\u001b[0m \u001b[1;33m\u001b[0m\u001b[0m\n\u001b[0;32m     48\u001b[0m         \u001b[1;32mreturn\u001b[0m \u001b[0mwrapped\u001b[0m\u001b[1;33m\u001b[0m\u001b[1;33m\u001b[0m\u001b[0m\n",
      "\u001b[1;31mTypeError\u001b[0m: url() got an unexpected keyword argument 'redirect_uri'"
     ]
    }
   ],
   "source": [
    "# 使用正确的 redirect_uri\n",
    "redirect_uri = \"http://localhost:8000\"  # 你可以根据需要修改这个 URL\n",
    "\n",
    "auth_url = reddit.auth.url(scopes=['read', 'identity'], state='unique_random_string', duration='permanent', redirect_uri=redirect_uri)\n",
    "print(\"Please visit this URL to authorize your account:\")\n",
    "print(auth_url)"
   ]
  },
  {
   "cell_type": "code",
   "execution_count": 3,
   "id": "9e26702e-4f05-42cb-9788-1a2eb3248a39",
   "metadata": {},
   "outputs": [
    {
     "name": "stdout",
     "output_type": "stream",
     "text": [
      "Total number of posts in r/sustainability containing 'solar foil': 0\n"
     ]
    }
   ],
   "source": [
    "import praw\n",
    "\n",
    "# create a Reddit Instance\n",
    "reddit = praw.Reddit(\n",
    "    client_id='2jnPC-Q387sT92iOOcar-A', \n",
    "    client_secret='p7is38ghTqErcWA-JsD13aLb2A2e-Q', \n",
    "    user_agent='Sustainability Marketing: Solarfoil by /u/Charming_Freedom_677'\n",
    ")\n",
    "\n",
    "# get r/sustainability module\n",
    "subreddit = reddit.subreddit('sustainability')\n",
    "\n",
    "# counting the number of the posts containing 'foil'\n",
    "count = 0\n",
    "for submission in subreddit.search('solar foil', limit=None):  # 查找所有包含 'solar foil' 的帖子\n",
    "    count += 1\n",
    "\n",
    "print(f\"Total number of posts in r/sustainability containing 'solar foil': {count}\")\n"
   ]
  },
  {
   "cell_type": "code",
   "execution_count": 14,
   "id": "1e76d4cf-d7d0-468f-8539-d63662a2d143",
   "metadata": {},
   "outputs": [
    {
     "name": "stdout",
     "output_type": "stream",
     "text": [
      "Total number of posts in r/sustainability containing 'solar': 230\n"
     ]
    }
   ],
   "source": [
    "import praw\n",
    "\n",
    "# create a Reddit Instance\n",
    "reddit = praw.Reddit(\n",
    "    client_id='2jnPC-Q387sT92iOOcar-A', \n",
    "    client_secret='p7is38ghTqErcWA-JsD13aLb2A2e-Q', \n",
    "    user_agent='Sustainability Marketing: Solarfoil by /u/Charming_Freedom_677'\n",
    ")\n",
    "\n",
    "# get r/sustainability module\n",
    "subreddit = reddit.subreddit('sustainability')\n",
    "\n",
    "# counting the number of the posts containing 'foil'\n",
    "count = 0\n",
    "for submission in subreddit.search('solar', limit=None):  # 查找所有包含 'solar foil' 的帖子\n",
    "    count += 1\n",
    "\n",
    "print(f\"Total number of posts in r/sustainability containing 'solar': {count}\")"
   ]
  },
  {
   "cell_type": "code",
   "execution_count": 15,
   "id": "1ce5e0a7-70f5-4e68-9d7a-3de8673164be",
   "metadata": {},
   "outputs": [
    {
     "name": "stdout",
     "output_type": "stream",
     "text": [
      "Total number of posts in r/sustainability containing 'foil': 22\n"
     ]
    }
   ],
   "source": [
    "import praw\n",
    "\n",
    "# create a Reddit Instance\n",
    "reddit = praw.Reddit(\n",
    "    client_id='2jnPC-Q387sT92iOOcar-A', \n",
    "    client_secret='p7is38ghTqErcWA-JsD13aLb2A2e-Q', \n",
    "    user_agent='Sustainability Marketing: Solarfoil by /u/Charming_Freedom_677'\n",
    ")\n",
    "\n",
    "# get r/sustainability module\n",
    "subreddit = reddit.subreddit('sustainability')\n",
    "\n",
    "# counting the number of the posts containing 'foil'\n",
    "count = 0\n",
    "for submission in subreddit.search('foil', limit=None):  # 查找所有包含 'solar foil' 的帖子\n",
    "    count += 1\n",
    "\n",
    "print(f\"Total number of posts in r/sustainability containing 'foil': {count}\")"
   ]
  },
  {
   "cell_type": "code",
   "execution_count": 16,
   "id": "fd5b3041-60c2-4e03-b15a-9d68c4d9694e",
   "metadata": {},
   "outputs": [
    {
     "name": "stdout",
     "output_type": "stream",
     "text": [
      "Total number of posts in r/environment containing 'foil': 42\n"
     ]
    }
   ],
   "source": [
    "import praw\n",
    "\n",
    "# create a Reddit Instance\n",
    "reddit = praw.Reddit(\n",
    "    client_id='2jnPC-Q387sT92iOOcar-A', \n",
    "    client_secret='p7is38ghTqErcWA-JsD13aLb2A2e-Q', \n",
    "    user_agent='Sustainability Marketing: Solarfoil by /u/Charming_Freedom_677'\n",
    ")\n",
    "\n",
    "# get r/sustainability module\n",
    "subreddit = reddit.subreddit('environment')\n",
    "\n",
    "# counting the number of the posts containing 'foil'\n",
    "count = 0\n",
    "for submission in subreddit.search('foil', limit=None):  # 查找所有包含 'solar foil' 的帖子\n",
    "    count += 1\n",
    "\n",
    "print(f\"Total number of posts in r/environment containing 'foil': {count}\")"
   ]
  },
  {
   "cell_type": "code",
   "execution_count": 17,
   "id": "bf7a7ffa-dd4e-4275-99a7-02763be9156a",
   "metadata": {},
   "outputs": [
    {
     "name": "stdout",
     "output_type": "stream",
     "text": [
      "Total number of posts in r/environment containing 'solar': 200\n"
     ]
    }
   ],
   "source": [
    "import praw\n",
    "\n",
    "# create a Reddit Instance\n",
    "reddit = praw.Reddit(\n",
    "    client_id='2jnPC-Q387sT92iOOcar-A', \n",
    "    client_secret='p7is38ghTqErcWA-JsD13aLb2A2e-Q', \n",
    "    user_agent='Sustainability Marketing: Solarfoil by /u/Charming_Freedom_677'\n",
    ")\n",
    "\n",
    "# get r/sustainability module\n",
    "subreddit = reddit.subreddit('environment')\n",
    "\n",
    "# counting the number of the posts containing 'foil'\n",
    "count = 0\n",
    "for submission in subreddit.search('solar', limit=None):  # 查找所有包含 'solar' 的帖子\n",
    "    count += 1\n",
    "\n",
    "print(f\"Total number of posts in r/environment containing 'solar': {count}\")"
   ]
  },
  {
   "cell_type": "code",
   "execution_count": 18,
   "id": "2edd512f-6497-4a58-ae66-781421e081da",
   "metadata": {},
   "outputs": [
    {
     "name": "stdout",
     "output_type": "stream",
     "text": [
      "Total number of posts in r/environment containing 'solar foil': 2\n"
     ]
    }
   ],
   "source": [
    "import praw\n",
    "\n",
    "# create a Reddit Instance\n",
    "reddit = praw.Reddit(\n",
    "    client_id='2jnPC-Q387sT92iOOcar-A', \n",
    "    client_secret='p7is38ghTqErcWA-JsD13aLb2A2e-Q', \n",
    "    user_agent='Sustainability Marketing: Solarfoil by /u/Charming_Freedom_677'\n",
    ")\n",
    "\n",
    "# get r/sustainability module\n",
    "subreddit = reddit.subreddit('environment')\n",
    "\n",
    "# counting the number of the posts containing 'foil'\n",
    "count = 0\n",
    "for submission in subreddit.search('solar foil', limit=None):  # 查找所有包含 'solar' 的帖子\n",
    "    count += 1\n",
    "\n",
    "print(f\"Total number of posts in r/environment containing 'solar foil': {count}\")"
   ]
  },
  {
   "cell_type": "code",
   "execution_count": 19,
   "id": "00abd97d-e53e-43f9-b5a1-68c6bdee90ab",
   "metadata": {},
   "outputs": [
    {
     "name": "stdout",
     "output_type": "stream",
     "text": [
      "Total number of posts in r/climate containing 'solar': 248\n"
     ]
    }
   ],
   "source": [
    "import praw\n",
    "\n",
    "# create a Reddit Instance\n",
    "reddit = praw.Reddit(\n",
    "    client_id='2jnPC-Q387sT92iOOcar-A', \n",
    "    client_secret='p7is38ghTqErcWA-JsD13aLb2A2e-Q', \n",
    "    user_agent='Sustainability Marketing: Solarfoil by /u/Charming_Freedom_677'\n",
    ")\n",
    "\n",
    "# get r/sustainability module\n",
    "subreddit = reddit.subreddit('climate')\n",
    "\n",
    "# counting the number of the posts containing 'solar'\n",
    "count = 0\n",
    "for submission in subreddit.search('solar', limit=None):  # 查找所有包含 'solar' 的帖子\n",
    "    count += 1\n",
    "\n",
    "print(f\"Total number of posts in r/climate containing 'solar': {count}\")"
   ]
  },
  {
   "cell_type": "code",
   "execution_count": 20,
   "id": "bb5f2cde-3841-455d-a8a8-f8c6f5cd2677",
   "metadata": {},
   "outputs": [
    {
     "name": "stdout",
     "output_type": "stream",
     "text": [
      "Total number of posts in r/climate containing 'foil': 11\n"
     ]
    }
   ],
   "source": [
    "import praw\n",
    "\n",
    "# create a Reddit Instance\n",
    "reddit = praw.Reddit(\n",
    "    client_id='2jnPC-Q387sT92iOOcar-A', \n",
    "    client_secret='p7is38ghTqErcWA-JsD13aLb2A2e-Q', \n",
    "    user_agent='Sustainability Marketing: Solarfoil by /u/Charming_Freedom_677'\n",
    ")\n",
    "\n",
    "# get r/sustainability module\n",
    "subreddit = reddit.subreddit('climate')\n",
    "\n",
    "# counting the number of the posts containing 'foil'\n",
    "count = 0\n",
    "for submission in subreddit.search('foil', limit=None):  # 查找所有包含 'foil' 的帖子\n",
    "    count += 1\n",
    "\n",
    "print(f\"Total number of posts in r/climate containing 'foil': {count}\")"
   ]
  },
  {
   "cell_type": "code",
   "execution_count": 22,
   "id": "e9771d75-0e6c-4431-8302-6b987d039a0a",
   "metadata": {},
   "outputs": [
    {
     "name": "stdout",
     "output_type": "stream",
     "text": [
      "Total number of posts in r/climate containing 'solar foil': 3\n"
     ]
    }
   ],
   "source": [
    "import praw\n",
    "\n",
    "# create a Reddit Instance\n",
    "reddit = praw.Reddit(\n",
    "    client_id='2jnPC-Q387sT92iOOcar-A', \n",
    "    client_secret='p7is38ghTqErcWA-JsD13aLb2A2e-Q', \n",
    "    user_agent='Sustainability Marketing: Solarfoil by /u/Charming_Freedom_677'\n",
    ")\n",
    "\n",
    "# get r/sustainability module\n",
    "subreddit = reddit.subreddit('climate')\n",
    "\n",
    "# counting the number of the posts containing 'solar foil'\n",
    "count = 0\n",
    "for submission in subreddit.search('solar foil', limit=None):  # 查找所有包含 'solar foil' 的帖子\n",
    "    count += 1\n",
    "\n",
    "print(f\"Total number of posts in r/climate containing 'solar foil': {count}\")"
   ]
  },
  {
   "cell_type": "code",
   "execution_count": 23,
   "id": "bc123808-50da-4db9-a671-b983837da79b",
   "metadata": {},
   "outputs": [
    {
     "name": "stdout",
     "output_type": "stream",
     "text": [
      "Total number of posts in r/environment containing 'algae': 230\n"
     ]
    }
   ],
   "source": [
    "import praw\n",
    "\n",
    "# create a Reddit Instance\n",
    "reddit = praw.Reddit(\n",
    "    client_id='2jnPC-Q387sT92iOOcar-A', \n",
    "    client_secret='p7is38ghTqErcWA-JsD13aLb2A2e-Q', \n",
    "    user_agent='Sustainability Marketing: Solarfoil by /u/Charming_Freedom_677'\n",
    ")\n",
    "\n",
    "# get r/sustainability module\n",
    "subreddit = reddit.subreddit('environment')\n",
    "\n",
    "# counting the number of the posts containing 'solar foil'\n",
    "count = 0\n",
    "for submission in subreddit.search('algae', limit=None):  # 查找所有包含 'solar foil' 的帖子\n",
    "    count += 1\n",
    "\n",
    "print(f\"Total number of posts in r/environment containing 'algae': {count}\")"
   ]
  },
  {
   "cell_type": "code",
   "execution_count": 4,
   "id": "71aa231a-8c0e-428d-9329-728567897768",
   "metadata": {},
   "outputs": [
    {
     "name": "stdout",
     "output_type": "stream",
     "text": [
      "Total number of posts in r/environment containing 'microalgae': 12\n"
     ]
    }
   ],
   "source": [
    "import praw\n",
    "\n",
    "# create a Reddit Instance\n",
    "reddit = praw.Reddit(\n",
    "    client_id='2jnPC-Q387sT92iOOcar-A', \n",
    "    client_secret='p7is38ghTqErcWA-JsD13aLb2A2e-Q', \n",
    "    user_agent='Sustainability Marketing: Solarfoil by /u/Charming_Freedom_677'\n",
    ")\n",
    "\n",
    "# get r/sustainability module\n",
    "subreddit = reddit.subreddit('environment')\n",
    "\n",
    "# counting the number of the posts containing 'solar foil'\n",
    "count = 0\n",
    "for submission in subreddit.search('microalgae', limit=None):  # 查找所有包含 'solar foil' 的帖子\n",
    "    count += 1\n",
    "\n",
    "print(f\"Total number of posts in r/environment containing 'microalgae': {count}\")"
   ]
  },
  {
   "cell_type": "code",
   "execution_count": 24,
   "id": "72d73600-07b2-4fb5-b852-ec72864fb1f3",
   "metadata": {},
   "outputs": [
    {
     "name": "stdout",
     "output_type": "stream",
     "text": [
      "Total number of posts in r/climate containing 'algae': 102\n"
     ]
    }
   ],
   "source": [
    "import praw\n",
    "\n",
    "# create a Reddit Instance\n",
    "reddit = praw.Reddit(\n",
    "    client_id='2jnPC-Q387sT92iOOcar-A', \n",
    "    client_secret='p7is38ghTqErcWA-JsD13aLb2A2e-Q', \n",
    "    user_agent='Sustainability Marketing: Solarfoil by /u/Charming_Freedom_677'\n",
    ")\n",
    "\n",
    "# get r/sustainability module\n",
    "subreddit = reddit.subreddit('climate')\n",
    "\n",
    "# counting the number of the posts containing 'solar foil'\n",
    "count = 0\n",
    "for submission in subreddit.search('algae', limit=None):  # 查找所有包含 'solar foil' 的帖子\n",
    "    count += 1\n",
    "\n",
    "print(f\"Total number of posts in r/climate containing 'algae': {count}\")"
   ]
  },
  {
   "cell_type": "code",
   "execution_count": 5,
   "id": "ee5719ac-240f-4504-a59c-bff7132bc76f",
   "metadata": {},
   "outputs": [
    {
     "name": "stdout",
     "output_type": "stream",
     "text": [
      "Total number of posts in r/climate containing 'microalgae': 8\n"
     ]
    }
   ],
   "source": [
    "import praw\n",
    "\n",
    "# create a Reddit Instance\n",
    "reddit = praw.Reddit(\n",
    "    client_id='2jnPC-Q387sT92iOOcar-A', \n",
    "    client_secret='p7is38ghTqErcWA-JsD13aLb2A2e-Q', \n",
    "    user_agent='Sustainability Marketing: Solarfoil by /u/Charming_Freedom_677'\n",
    ")\n",
    "\n",
    "# get r/sustainability module\n",
    "subreddit = reddit.subreddit('climate')\n",
    "\n",
    "# counting the number of the posts containing 'solar foil'\n",
    "count = 0\n",
    "for submission in subreddit.search('microalgae', limit=None):  # 查找所有包含 'solar foil' 的帖子\n",
    "    count += 1\n",
    "\n",
    "print(f\"Total number of posts in r/climate containing 'microalgae': {count}\")"
   ]
  },
  {
   "cell_type": "code",
   "execution_count": 25,
   "id": "bd78d982-2304-47e6-8975-c73a7bd8de81",
   "metadata": {},
   "outputs": [
    {
     "name": "stdout",
     "output_type": "stream",
     "text": [
      "Total number of posts in r/sustainability containing 'algae': 31\n"
     ]
    }
   ],
   "source": [
    "import praw\n",
    "\n",
    "# create a Reddit Instance\n",
    "reddit = praw.Reddit(\n",
    "    client_id='2jnPC-Q387sT92iOOcar-A', \n",
    "    client_secret='p7is38ghTqErcWA-JsD13aLb2A2e-Q', \n",
    "    user_agent='Sustainability Marketing: Solarfoil by /u/Charming_Freedom_677'\n",
    ")\n",
    "\n",
    "# get r/sustainability module\n",
    "subreddit = reddit.subreddit('sustainability')\n",
    "\n",
    "# counting the number of the posts containing 'solar foil'\n",
    "count = 0\n",
    "for submission in subreddit.search('algae', limit=None):  # 查找所有包含 'solar foil' 的帖子\n",
    "    count += 1\n",
    "\n",
    "print(f\"Total number of posts in r/sustainability containing 'algae': {count}\")"
   ]
  },
  {
   "cell_type": "code",
   "execution_count": 6,
   "id": "658ecc35-302c-4e24-9fa9-fd988d686ac2",
   "metadata": {},
   "outputs": [
    {
     "name": "stdout",
     "output_type": "stream",
     "text": [
      "Total number of posts in r/sustainability containing 'microalgae': 1\n"
     ]
    }
   ],
   "source": [
    "import praw\n",
    "\n",
    "# create a Reddit Instance\n",
    "reddit = praw.Reddit(\n",
    "    client_id='2jnPC-Q387sT92iOOcar-A', \n",
    "    client_secret='p7is38ghTqErcWA-JsD13aLb2A2e-Q', \n",
    "    user_agent='Sustainability Marketing: Solarfoil by /u/Charming_Freedom_677'\n",
    ")\n",
    "\n",
    "# get r/sustainability module\n",
    "subreddit = reddit.subreddit('sustainability')\n",
    "\n",
    "# counting the number of the posts containing 'solar foil'\n",
    "count = 0\n",
    "for submission in subreddit.search('microalgae', limit=None):  # 查找所有包含 'solar foil' 的帖子\n",
    "    count += 1\n",
    "\n",
    "print(f\"Total number of posts in r/sustainability containing 'microalgae': {count}\")"
   ]
  },
  {
   "cell_type": "code",
   "execution_count": 2,
   "id": "7ccac3c9-9dbc-484c-919b-cbb9d356e3cc",
   "metadata": {},
   "outputs": [
    {
     "name": "stdout",
     "output_type": "stream",
     "text": [
      "Total number of posts in r/environment containing 'solarfoil': 0\n"
     ]
    }
   ],
   "source": [
    "import praw\n",
    "\n",
    "# create a Reddit Instance\n",
    "reddit = praw.Reddit(\n",
    "    client_id='2jnPC-Q387sT92iOOcar-A', \n",
    "    client_secret='p7is38ghTqErcWA-JsD13aLb2A2e-Q', \n",
    "    user_agent='Sustainability Marketing: Solarfoil by /u/Charming_Freedom_677'\n",
    ")\n",
    "\n",
    "# get r/sustainability module\n",
    "subreddit = reddit.subreddit('environment')\n",
    "\n",
    "# counting the number of the posts containing 'foil'\n",
    "count = 0\n",
    "for submission in subreddit.search('solarfoil', limit=None):  # 查找所有包含 'solar' 的帖子\n",
    "    count += 1\n",
    "\n",
    "print(f\"Total number of posts in r/environment containing 'solarfoil': {count}\")"
   ]
  },
  {
   "cell_type": "code",
   "execution_count": 3,
   "id": "5047a319-4fe2-4ea6-ae90-eb59059cbdce",
   "metadata": {},
   "outputs": [
    {
     "name": "stdout",
     "output_type": "stream",
     "text": [
      "Total number of posts in r/climate containing 'solarfoil': 0\n"
     ]
    }
   ],
   "source": [
    "import praw\n",
    "\n",
    "# create a Reddit Instance\n",
    "reddit = praw.Reddit(\n",
    "    client_id='2jnPC-Q387sT92iOOcar-A', \n",
    "    client_secret='p7is38ghTqErcWA-JsD13aLb2A2e-Q', \n",
    "    user_agent='Sustainability Marketing: Solarfoil by /u/Charming_Freedom_677'\n",
    ")\n",
    "\n",
    "# get r/sustainability module\n",
    "subreddit = reddit.subreddit('climate')\n",
    "\n",
    "# counting the number of the posts containing 'foil'\n",
    "count = 0\n",
    "for submission in subreddit.search('solarfoil', limit=None):  # 查找所有包含 'solar' 的帖子\n",
    "    count += 1\n",
    "\n",
    "print(f\"Total number of posts in r/climate containing 'solarfoil': {count}\")"
   ]
  },
  {
   "cell_type": "code",
   "execution_count": 26,
   "id": "61556b5a-21e4-4559-805c-09d667d7a005",
   "metadata": {},
   "outputs": [
    {
     "name": "stdout",
     "output_type": "stream",
     "text": [
      "Requirement already satisfied: praw in c:\\users\\lm\\anaconda3\\lib\\site-packages (7.8.1)\n",
      "Requirement already satisfied: pandas in c:\\users\\lm\\anaconda3\\lib\\site-packages (1.2.4)\n",
      "Requirement already satisfied: nltk in c:\\users\\lm\\anaconda3\\lib\\site-packages (3.6.1)\n",
      "Collecting textblob\n",
      "  Downloading textblob-0.18.0.post0-py3-none-any.whl (626 kB)\n",
      "Requirement already satisfied: matplotlib in c:\\users\\lm\\anaconda3\\lib\\site-packages (3.3.4)\n",
      "Requirement already satisfied: seaborn in c:\\users\\lm\\anaconda3\\lib\\site-packages (0.11.1)\n",
      "Requirement already satisfied: pillow>=6.2.0 in c:\\users\\lm\\anaconda3\\lib\\site-packages (from matplotlib) (8.2.0)\n",
      "Requirement already satisfied: python-dateutil>=2.1 in c:\\users\\lm\\anaconda3\\lib\\site-packages (from matplotlib) (2.9.0.post0)\n",
      "Requirement already satisfied: cycler>=0.10 in c:\\users\\lm\\anaconda3\\lib\\site-packages (from matplotlib) (0.10.0)\n",
      "Requirement already satisfied: pyparsing!=2.0.4,!=2.1.2,!=2.1.6,>=2.0.3 in c:\\users\\lm\\anaconda3\\lib\\site-packages (from matplotlib) (2.4.7)\n",
      "Requirement already satisfied: kiwisolver>=1.0.1 in c:\\users\\lm\\anaconda3\\lib\\site-packages (from matplotlib) (1.3.1)\n",
      "Requirement already satisfied: numpy>=1.15 in c:\\users\\lm\\anaconda3\\lib\\site-packages (from matplotlib) (1.24.4)\n",
      "Requirement already satisfied: six in c:\\users\\lm\\anaconda3\\lib\\site-packages (from cycler>=0.10->matplotlib) (1.15.0)\n",
      "Requirement already satisfied: regex in c:\\users\\lm\\anaconda3\\lib\\site-packages (from nltk) (2021.4.4)\n",
      "Requirement already satisfied: joblib in c:\\users\\lm\\anaconda3\\lib\\site-packages (from nltk) (1.0.1)\n",
      "Requirement already satisfied: click in c:\\users\\lm\\anaconda3\\lib\\site-packages (from nltk) (7.1.2)\n",
      "Requirement already satisfied: tqdm in c:\\users\\lm\\anaconda3\\lib\\site-packages (from nltk) (4.59.0)\n",
      "Requirement already satisfied: pytz>=2017.3 in c:\\users\\lm\\anaconda3\\lib\\site-packages (from pandas) (2021.1)\n",
      "Requirement already satisfied: update_checker>=0.18 in c:\\users\\lm\\anaconda3\\lib\\site-packages (from praw) (0.18.0)\n",
      "Requirement already satisfied: prawcore<3,>=2.4 in c:\\users\\lm\\anaconda3\\lib\\site-packages (from praw) (2.4.0)\n",
      "Requirement already satisfied: websocket-client>=0.54.0 in c:\\users\\lm\\anaconda3\\lib\\site-packages (from praw) (1.8.0)\n",
      "Requirement already satisfied: requests<3.0,>=2.6.0 in c:\\users\\lm\\anaconda3\\lib\\site-packages (from prawcore<3,>=2.4->praw) (2.25.1)\n",
      "Requirement already satisfied: chardet<5,>=3.0.2 in c:\\users\\lm\\anaconda3\\lib\\site-packages (from requests<3.0,>=2.6.0->prawcore<3,>=2.4->praw) (4.0.0)\n",
      "Requirement already satisfied: urllib3<1.27,>=1.21.1 in c:\\users\\lm\\anaconda3\\lib\\site-packages (from requests<3.0,>=2.6.0->prawcore<3,>=2.4->praw) (1.26.4)\n",
      "Requirement already satisfied: certifi>=2017.4.17 in c:\\users\\lm\\anaconda3\\lib\\site-packages (from requests<3.0,>=2.6.0->prawcore<3,>=2.4->praw) (2020.12.5)\n",
      "Requirement already satisfied: idna<3,>=2.5 in c:\\users\\lm\\anaconda3\\lib\\site-packages (from requests<3.0,>=2.6.0->prawcore<3,>=2.4->praw) (2.10)\n",
      "Requirement already satisfied: scipy>=1.0 in c:\\users\\lm\\anaconda3\\lib\\site-packages (from seaborn) (1.6.2)\n",
      "Collecting numpy>=1.15\n",
      "  Downloading numpy-1.22.4-cp38-cp38-win_amd64.whl (14.8 MB)\n",
      "Collecting nltk\n",
      "  Downloading nltk-3.9.1-py3-none-any.whl (1.5 MB)\n",
      "Collecting regex\n",
      "  Downloading regex-2024.11.6-cp38-cp38-win_amd64.whl (274 kB)\n",
      "Installing collected packages: regex, numpy, nltk, textblob\n",
      "  Attempting uninstall: regex\n",
      "    Found existing installation: regex 2021.4.4\n",
      "    Uninstalling regex-2021.4.4:\n",
      "      Successfully uninstalled regex-2021.4.4\n",
      "  Attempting uninstall: numpy\n",
      "    Found existing installation: numpy 1.24.4\n",
      "    Uninstalling numpy-1.24.4:\n",
      "      Successfully uninstalled numpy-1.24.4\n",
      "  Attempting uninstall: nltk\n",
      "    Found existing installation: nltk 3.6.1\n",
      "    Uninstalling nltk-3.6.1:\n",
      "      Successfully uninstalled nltk-3.6.1\n",
      "Successfully installed nltk-3.9.1 numpy-1.22.4 regex-2024.11.6 textblob-0.18.0.post0\n",
      "Note: you may need to restart the kernel to use updated packages.\n"
     ]
    }
   ],
   "source": [
    "pip install praw pandas nltk textblob matplotlib seaborn"
   ]
  },
  {
   "cell_type": "code",
   "execution_count": 5,
   "id": "fcd71575-5065-49df-9b2a-b0dbb732eafd",
   "metadata": {},
   "outputs": [
    {
     "name": "stdout",
     "output_type": "stream",
     "text": [
      "Title: Foil Hat Time Gentlemen of Reddit : Planet awaits largest solar flare effects today.\n",
      "Sentiment: 0.0\n",
      "\n",
      "Title: My adventures in sustainability.\n",
      "Sentiment: 0.0\n",
      "\n"
     ]
    }
   ],
   "source": [
    "from textblob import TextBlob\n",
    "import praw\n",
    "\n",
    "# 认证并连接到Reddit\n",
    "reddit = praw.Reddit(client_id='2jnPC-Q387sT92iOOcar-A',\n",
    "                     client_secret='p7is38ghTqErcWA-JsD13aLb2A2e-Q',\n",
    "                     user_agent='Sustainability Marketing: Solarfoil by /u/Charming_Freedom_677')\n",
    "\n",
    "# 创建一个空的列表来存储分析数据\n",
    "post_titles = []\n",
    "post_sentiments = []\n",
    "\n",
    "# 在subreddit中查找相关帖子\n",
    "subreddit = reddit.subreddit('environment')\n",
    "for submission in subreddit.search('solar foil', limit=10):\n",
    "    post_titles.append(submission.title)\n",
    "    blob = TextBlob(submission.title)\n",
    "    post_sentiments.append(blob.sentiment.polarity)  # 情感极性 (-1 到 1)\n",
    "\n",
    "# 输出情感分析结果\n",
    "for title, sentiment in zip(post_titles, post_sentiments):\n",
    "    print(f\"Title: {title}\")\n",
    "    print(f\"Sentiment: {sentiment}\\n\")\n"
   ]
  },
  {
   "cell_type": "code",
   "execution_count": 6,
   "id": "b4dcdc6a-a1fe-4872-a693-5d4399f158f2",
   "metadata": {},
   "outputs": [
    {
     "name": "stdout",
     "output_type": "stream",
     "text": [
      "Positive posts: 1\n",
      "Negative posts: 0\n",
      "Neutral posts: 1\n"
     ]
    }
   ],
   "source": [
    "import praw\n",
    "from textblob import TextBlob\n",
    "\n",
    "# 设置Reddit API凭证\n",
    "reddit = praw.Reddit(client_id='2jnPC-Q387sT92iOOcar-A',\n",
    "                     client_secret='p7is38ghTqErcWA-JsD13aLb2A2e-Q',\n",
    "                     user_agent='Sustainability Marketing: Solarfoil by /u/Charming_Freedom_677')\n",
    "\n",
    "# 定义抓取的Subreddit\n",
    "subreddit = reddit.subreddit('environment')\n",
    "\n",
    "# 获取包含\"solar foil\"关键词的帖子\n",
    "posts = subreddit.search('solar foil', limit=100)\n",
    "\n",
    "# 初始化情感分析结果\n",
    "positive_posts = 0\n",
    "negative_posts = 0\n",
    "neutral_posts = 0\n",
    "\n",
    "# 遍历抓取的帖子，进行情感分析\n",
    "for post in posts:\n",
    "    # 提取帖子标题和正文\n",
    "    text = post.title + \" \" + post.selftext\n",
    "    # 使用TextBlob进行情感分析\n",
    "    blob = TextBlob(text)\n",
    "    sentiment = blob.sentiment.polarity  # 获取情感倾向得分\n",
    "    \n",
    "    # 分类情感\n",
    "    if sentiment > 0:\n",
    "        positive_posts += 1\n",
    "    elif sentiment < 0:\n",
    "        negative_posts += 1\n",
    "    else:\n",
    "        neutral_posts += 1\n",
    "\n",
    "# 输出分析结果\n",
    "print(f\"Positive posts: {positive_posts}\")\n",
    "print(f\"Negative posts: {negative_posts}\")\n",
    "print(f\"Neutral posts: {neutral_posts}\")\n"
   ]
  },
  {
   "cell_type": "code",
   "execution_count": 7,
   "id": "ee488616-b9fb-4214-9f8d-4d69cce73c69",
   "metadata": {},
   "outputs": [
    {
     "name": "stdout",
     "output_type": "stream",
     "text": [
      "Positive posts: 1\n",
      "Negative posts: 1\n",
      "Neutral posts: 1\n"
     ]
    }
   ],
   "source": [
    "import praw\n",
    "from textblob import TextBlob\n",
    "\n",
    "# 设置Reddit API凭证\n",
    "reddit = praw.Reddit(client_id='2jnPC-Q387sT92iOOcar-A',\n",
    "                     client_secret='p7is38ghTqErcWA-JsD13aLb2A2e-Q',\n",
    "                     user_agent='Sustainability Marketing: Solarfoil by /u/Charming_Freedom_677')\n",
    "\n",
    "# 定义抓取的Subreddit\n",
    "subreddit = reddit.subreddit('climate')\n",
    "\n",
    "# 获取包含\"solar foil\"关键词的帖子\n",
    "posts = subreddit.search('solar foil', limit=100)\n",
    "\n",
    "# 初始化情感分析结果\n",
    "positive_posts = 0\n",
    "negative_posts = 0\n",
    "neutral_posts = 0\n",
    "\n",
    "# 遍历抓取的帖子，进行情感分析\n",
    "for post in posts:\n",
    "    # 提取帖子标题和正文\n",
    "    text = post.title + \" \" + post.selftext\n",
    "    # 使用TextBlob进行情感分析\n",
    "    blob = TextBlob(text)\n",
    "    sentiment = blob.sentiment.polarity  # 获取情感倾向得分\n",
    "    \n",
    "    # 分类情感\n",
    "    if sentiment > 0:\n",
    "        positive_posts += 1\n",
    "    elif sentiment < 0:\n",
    "        negative_posts += 1\n",
    "    else:\n",
    "        neutral_posts += 1\n",
    "\n",
    "# 输出分析结果\n",
    "print(f\"Positive posts: {positive_posts}\")\n",
    "print(f\"Negative posts: {negative_posts}\")\n",
    "print(f\"Neutral posts: {neutral_posts}\")"
   ]
  },
  {
   "cell_type": "code",
   "execution_count": 1,
   "id": "d267a57d-d9b1-4bc8-bc55-20c20e47b6e9",
   "metadata": {},
   "outputs": [
    {
     "name": "stdout",
     "output_type": "stream",
     "text": [
      "hel\n"
     ]
    }
   ],
   "source": [
    "print('hel')"
   ]
  },
  {
   "cell_type": "code",
   "execution_count": 1,
   "id": "48091ec2-d135-46b2-b91d-03cf248562a0",
   "metadata": {},
   "outputs": [
    {
     "name": "stdout",
     "output_type": "stream",
     "text": [
      "Collecting gensim\n",
      "  Downloading gensim-4.3.3-cp38-cp38-win_amd64.whl (24.0 MB)\n",
      "Requirement already satisfied: numpy<2.0,>=1.18.5 in c:\\users\\lm\\anaconda3\\lib\\site-packages (from gensim) (1.22.4)\n",
      "Collecting scipy<1.14.0,>=1.7.0\n",
      "  Downloading scipy-1.10.1-cp38-cp38-win_amd64.whl (42.2 MB)\n",
      "Collecting smart-open>=1.8.1\n",
      "  Using cached smart_open-7.1.0-py3-none-any.whl (61 kB)\n",
      "Requirement already satisfied: wrapt in c:\\users\\lm\\anaconda3\\lib\\site-packages (from smart-open>=1.8.1->gensim) (1.12.1)\n",
      "Installing collected packages: smart-open, scipy, gensim\n",
      "  Attempting uninstall: scipy\n",
      "    Found existing installation: scipy 1.6.2\n",
      "    Uninstalling scipy-1.6.2:\n",
      "      Successfully uninstalled scipy-1.6.2\n",
      "Successfully installed gensim-4.3.3 scipy-1.10.1 smart-open-7.1.0\n",
      "Note: you may need to restart the kernel to use updated packages.\n"
     ]
    }
   ],
   "source": [
    "pip install gensim"
   ]
  },
  {
   "cell_type": "code",
   "execution_count": 6,
   "id": "38753a6e-d768-4a32-9aa1-aeb8caf84ffc",
   "metadata": {},
   "outputs": [
    {
     "name": "stderr",
     "output_type": "stream",
     "text": [
      "[nltk_data] Downloading package punkt to\n",
      "[nltk_data]     C:\\Users\\LM\\AppData\\Roaming\\nltk_data...\n",
      "[nltk_data]   Unzipping tokenizers\\punkt.zip.\n",
      "[nltk_data] Downloading package stopwords to\n",
      "[nltk_data]     C:\\Users\\LM\\AppData\\Roaming\\nltk_data...\n",
      "[nltk_data]   Unzipping corpora\\stopwords.zip.\n"
     ]
    },
    {
     "data": {
      "text/plain": [
       "True"
      ]
     },
     "execution_count": 6,
     "metadata": {},
     "output_type": "execute_result"
    }
   ],
   "source": [
    "import nltk\n",
    "nltk.data.path.append(\"C:/Users/LM/AppData/Roaming/nltk_data\")  # 指定你的nltk_data路径\n",
    "nltk.download('punkt', force=True)  # 强制重新下载\n",
    "nltk.download('stopwords', force=True)  # 强制重新下载"
   ]
  },
  {
   "cell_type": "code",
   "execution_count": 7,
   "id": "9f38c12c-3750-48e8-8d3f-617c2242c78f",
   "metadata": {},
   "outputs": [
    {
     "name": "stdout",
     "output_type": "stream",
     "text": [
      "['Hello', 'world', '!', 'This', 'is', 'a', 'test', 'sentence', '.']\n"
     ]
    }
   ],
   "source": [
    "from nltk.tokenize import word_tokenize\n",
    "\n",
    "text = \"Hello world! This is a test sentence.\"\n",
    "tokens = word_tokenize(text)\n",
    "print(tokens)\n"
   ]
  },
  {
   "cell_type": "code",
   "execution_count": 10,
   "id": "68520ae2-b3d1-47ef-bab9-a7e04bb36100",
   "metadata": {},
   "outputs": [
    {
     "name": "stderr",
     "output_type": "stream",
     "text": [
      "[nltk_data] Downloading package stopwords to\n",
      "[nltk_data]     C:\\Users\\LM\\AppData\\Roaming\\nltk_data...\n",
      "[nltk_data]   Package stopwords is already up-to-date!\n",
      "[nltk_data] Downloading package punkt to\n",
      "[nltk_data]     C:\\Users\\LM\\AppData\\Roaming\\nltk_data...\n",
      "[nltk_data]   Package punkt is already up-to-date!\n"
     ]
    },
    {
     "name": "stdout",
     "output_type": "stream",
     "text": [
      "(0, '0.126*\"humans\" + 0.126*\"planet\" + 0.125*\"without\" + 0.124*\"documentary\" + 0.124*\"hope\"')\n",
      "(1, '0.185*\"satellites\" + 0.182*\"starlink\" + 0.181*\"mirrors\" + 0.051*\"hope\" + 0.051*\"help\"')\n",
      "(2, '0.139*\"could\" + 0.135*\"climate\" + 0.135*\"change\" + 0.134*\"help\" + 0.130*\"satellites\"')\n"
     ]
    }
   ],
   "source": [
    "from gensim import corpora\n",
    "from gensim.models import LdaModel\n",
    "from nltk.tokenize import word_tokenize\n",
    "from nltk.corpus import stopwords\n",
    "import nltk\n",
    "\n",
    "# 确保下载nltk数据\n",
    "nltk.download('stopwords')\n",
    "nltk.download('punkt')\n",
    "\n",
    "# 获取帖子内容\n",
    "subreddit = reddit.subreddit('climate')\n",
    "post_titles = []\n",
    "for submission in subreddit.search('solar foil', limit=100):\n",
    "    post_titles.append(submission.title.lower())\n",
    "\n",
    "# 数据预处理：分词和去停用词\n",
    "stop_words = set(stopwords.words('english'))\n",
    "texts = []\n",
    "for title in post_titles:\n",
    "    words = word_tokenize(title)\n",
    "    filtered_words = [word for word in words if word.isalnum() and word not in stop_words]\n",
    "    texts.append(filtered_words)\n",
    "\n",
    "# 创建字典和语料库\n",
    "dictionary = corpora.Dictionary(texts)\n",
    "corpus = [dictionary.doc2bow(text) for text in texts]\n",
    "\n",
    "# 训练LDA模型\n",
    "lda = LdaModel(corpus, num_topics=3, id2word=dictionary)\n",
    "\n",
    "# 打印主题\n",
    "for topic in lda.print_topics(num_words=5):\n",
    "    print(topic)\n",
    "\n"
   ]
  },
  {
   "cell_type": "code",
   "execution_count": 11,
   "id": "cd5eaf88-ee5a-48e0-b0b1-185d3a29ffda",
   "metadata": {},
   "outputs": [
    {
     "name": "stderr",
     "output_type": "stream",
     "text": [
      "[nltk_data] Downloading package stopwords to\n",
      "[nltk_data]     C:\\Users\\LM\\AppData\\Roaming\\nltk_data...\n",
      "[nltk_data]   Package stopwords is already up-to-date!\n",
      "[nltk_data] Downloading package punkt to\n",
      "[nltk_data]     C:\\Users\\LM\\AppData\\Roaming\\nltk_data...\n",
      "[nltk_data]   Package punkt is already up-to-date!\n"
     ]
    },
    {
     "name": "stdout",
     "output_type": "stream",
     "text": [
      "(0, '0.080*\"planet\" + 0.080*\"effects\" + 0.080*\"solar\" + 0.080*\"gentlemen\" + 0.080*\"flare\"')\n",
      "(1, '0.078*\"adventures\" + 0.077*\"sustainability\" + 0.071*\"foil\" + 0.071*\"reddit\" + 0.071*\"awaits\"')\n",
      "(2, '0.191*\"adventures\" + 0.190*\"sustainability\" + 0.052*\"awaits\" + 0.052*\"time\" + 0.052*\"hat\"')\n"
     ]
    }
   ],
   "source": [
    "from gensim import corpora\n",
    "from gensim.models import LdaModel\n",
    "from nltk.tokenize import word_tokenize\n",
    "from nltk.corpus import stopwords\n",
    "import nltk\n",
    "\n",
    "# 确保下载nltk数据\n",
    "nltk.download('stopwords')\n",
    "nltk.download('punkt')\n",
    "\n",
    "# 获取帖子内容\n",
    "subreddit = reddit.subreddit('environment')\n",
    "post_titles = []\n",
    "for submission in subreddit.search('solar foil', limit=100):\n",
    "    post_titles.append(submission.title.lower())\n",
    "\n",
    "# 数据预处理：分词和去停用词\n",
    "stop_words = set(stopwords.words('english'))\n",
    "texts = []\n",
    "for title in post_titles:\n",
    "    words = word_tokenize(title)\n",
    "    filtered_words = [word for word in words if word.isalnum() and word not in stop_words]\n",
    "    texts.append(filtered_words)\n",
    "\n",
    "# 创建字典和语料库\n",
    "dictionary = corpora.Dictionary(texts)\n",
    "corpus = [dictionary.doc2bow(text) for text in texts]\n",
    "\n",
    "# 训练LDA模型\n",
    "lda = LdaModel(corpus, num_topics=3, id2word=dictionary)\n",
    "\n",
    "# 打印主题\n",
    "for topic in lda.print_topics(num_words=5):\n",
    "    print(topic)"
   ]
  },
  {
   "cell_type": "code",
   "execution_count": 14,
   "id": "de852a76-2f7e-4d72-8c1d-c09a7914182e",
   "metadata": {},
   "outputs": [
    {
     "data": {
      "image/png": "[encoded data removed]",
      "text/plain": [
       "<Figure size 432x288 with 1 Axes>"
      ]
     },
     "metadata": {
      "needs_background": "light"
     },
     "output_type": "display_data"
    }
   ],
   "source": [
    "import seaborn as sns  # 导入 seaborn\n",
    "import matplotlib.pyplot as plt\n",
    "\n",
    "\n",
    "# 假设有关于藻类和太阳能薄膜的数据\n",
    "data = {'algae': [1, 2, 3, 4, 5], 'solar_foil': [2, 3, 4, 5, 6]}\n",
    "\n",
    "import pandas as pd\n",
    "\n",
    "df = pd.DataFrame(data)\n",
    "\n",
    "# 绘制散点图\n",
    "sns.scatterplot(data=df, x='algae', y='solar_foil')\n",
    "plt.title('Algae vs Solar Foil')\n",
    "plt.xlabel('Algae')\n",
    "plt.ylabel('Solar Foil')\n",
    "plt.show()\n"
   ]
  },
  {
   "cell_type": "code",
   "execution_count": 15,
   "id": "a700f82d-e706-4c3b-931e-67b5d2e10a9e",
   "metadata": {},
   "outputs": [
    {
     "name": "stdout",
     "output_type": "stream",
     "text": [
      "Title: Starlink satellites with mirrors?\n",
      "Score: 9, Comments: 7\n",
      "\n",
      "Title: Could 'umbrella' satellites help with climate change?\n",
      "Score: 2, Comments: 4\n",
      "\n",
      "Title: Planet of the Humans:A documentary without hope\n",
      "Score: 0, Comments: 0\n",
      "\n"
     ]
    }
   ],
   "source": [
    "# 获取帖子的互动数据\n",
    "subreddit = reddit.subreddit('climate')\n",
    "post_interactions = []\n",
    "\n",
    "for submission in subreddit.search('solar foil', limit=100):\n",
    "    post_interactions.append({\n",
    "        'title': submission.title,\n",
    "        'score': submission.score,  # 帖子的得分\n",
    "        'num_comments': submission.num_comments  # 评论数\n",
    "    })\n",
    "\n",
    "# 输出互动分析数据\n",
    "for post in post_interactions:\n",
    "    print(f\"Title: {post['title']}\")\n",
    "    print(f\"Score: {post['score']}, Comments: {post['num_comments']}\\n\")\n"
   ]
  },
  {
   "cell_type": "code",
   "execution_count": 16,
   "id": "1ac8ba61-39a5-4e2e-a4d4-37e34464433e",
   "metadata": {},
   "outputs": [
    {
     "name": "stdout",
     "output_type": "stream",
     "text": [
      "Title: Big Oil Firms Touted Algae as Climate Solution. Now All Have Pulled Funding\n",
      "Score: 697, Comments: 52\n",
      "\n",
      "Title: Red Ghost’ Algae Swarms China’s Coast, Threatening Marine Life\n",
      "Score: 1, Comments: 0\n",
      "\n",
      "Title: A Toxic Stew on Cape Cod: Human Waste and Warming Water | Climate change is contributing to electric-green algae blooms. Massachusetts wants a cleanup of the antiquated septic systems feeding the mess, but it could cost billions.\n",
      "Score: 574, Comments: 12\n",
      "\n",
      "Title: Vanishing sea ice threatens polar food chain. Rapid sea ice loss and ocean acidification from climate change are altering the growth and nutritional value of microscopic algae.\n",
      "Score: 23, Comments: 0\n",
      "\n",
      "Title: A novel strain of cyanobacteria, or algae that can rapidly grow and double every 2.35 hours in presence of CO₂ has been discovered by researchers from Harvard. It can readily sink in water which makes it a primary candidate to sequester carbon from oceans and factories.\n",
      "Score: 29, Comments: 3\n",
      "\n",
      "Title: This algae can turn drinking water toxic, so Canadian scientists are building an early warning system to protect it\n",
      "Score: 3, Comments: 0\n",
      "\n",
      "Title: Mass fish die-off in Poland raises fears of renewed golden algae crisis\n",
      "Score: 37, Comments: 2\n",
      "\n",
      "Title: The algae that eats Co2 from the atmosphere\n",
      "Score: 374, Comments: 28\n",
      "\n",
      "Title: What Are Toxic Algae Blooms? A Comprehensive Guide\n",
      "Score: 4, Comments: 0\n",
      "\n",
      "Title: As temperatures rise, a ‘nightmare’ of toxic algae plagues the hidden gems of Cape Cod\n",
      "Score: 315, Comments: 13\n",
      "\n",
      "Title: Exxon Retreats From Major Climate Effort to Make Biofuels From Algae | Renewable fuels made from algae was the company’s most heavily publicized climate solution.\n",
      "Score: 95, Comments: 7\n",
      "\n",
      "Title: Want Carbon-Neutral Cows? Algae Isn’t the Answer - Recent headlines suggest that feeding seaweed to cattle could help reduce the methane in their burps. But the claims don’t hold up under scrutiny.\n",
      "Score: 102, Comments: 26\n",
      "\n",
      "Title: Cultivating and interring algae within the Sahara desert has emerged as the most recent remedy for the climate emergency\n",
      "Score: 19, Comments: 3\n",
      "\n",
      "Title: Blue-green algae is unusual on Lake Superior but experts say that might not last\n",
      "Score: 13, Comments: 0\n",
      "\n",
      "Title: Big oil firms touted algae as climate solution. Now all have pulled funding | Biofuels\n",
      "Score: 49, Comments: 1\n",
      "\n",
      "Title: Study reveals global algae blooms are growing, and warming waters may be to blame\n",
      "Score: 56, Comments: 1\n",
      "\n",
      "Title: Want Carbon-Neutral Cows? Algae Isn’t the Answer. The industry alights on a new, futile approach to dealing with the climate impacts of beef and dairy farming.\n",
      "Score: 54, Comments: 0\n",
      "\n",
      "Title: Super Slime Me: A Month Living on an All Algae Diet\n",
      "Score: 5, Comments: 0\n",
      "\n",
      "Title: Seagrasses capture carbon 35 times faster than tropical rainforests. Scientists are working to save them.\n",
      "Score: 913, Comments: 16\n",
      "\n",
      "Title: Feeding cows 2% red algae reduced their methane emissions by over 90%, but will it help?\n",
      "Score: 18, Comments: 3\n",
      "\n",
      "Title: CDC Warns Public to Avoid the Toxic Algae “Blooming” in Warming Waters\n",
      "Score: 10, Comments: 1\n",
      "\n",
      "Title: Algae bloom in the Baltic Sea, July 27th (source: MODIS subsets)\n",
      "Score: 105, Comments: 10\n",
      "\n",
      "Title: Toxic algae blooms are multiplying. The government has no plan to help.\n",
      "Score: 73, Comments: 0\n",
      "\n",
      "Title: 🌳 Mark Cuban backs algae tech for a sustainable future. In this edition, The Paxtier Report covers the most important deals in algae tech this week, how microalgae life support systems can solve agricultural pollution, and more advice for entrepreneurs in this sustainable space\n",
      "Score: 9, Comments: 1\n",
      "\n",
      "Title: Algae Tech Gains More Traction As Climate Tech Continues Its Bull Run\n",
      "Score: 12, Comments: 0\n",
      "\n",
      "Title: Scientists look for clues to climate-driven Lake Superior algae blooms in the last 10 years\n",
      "Score: 54, Comments: 1\n",
      "\n",
      "Title: CyanoCapture's genetically modified algae can absorb tonnes of CO2\n",
      "Score: 9, Comments: 0\n",
      "\n",
      "Title: 🌳 Removing 89% of algae cultivation's environmental impact\n",
      "Score: 3, Comments: 0\n",
      "\n",
      "Title: Greenland's vast ice sheet is being turned black by algae, part of a vicious cycle making it melt faster\n",
      "Score: 40, Comments: 0\n",
      "\n",
      "Title: Corals swap in heat-resistant algae to better cope with global warming\n",
      "Score: 9, Comments: 1\n",
      "\n",
      "Title: CO2 scrubbing device 🌎 Algae Photobioreactor\n",
      "Score: 1, Comments: 0\n",
      "\n",
      "Title: Glaciers will melt faster than current models on climate change account for as algae blooms colonize them and reduce their ability to reflect the sun’s heat, scientists studying glaciers said.\n",
      "Score: 60, Comments: 1\n",
      "\n",
      "Title: Antarctica: tiny algae turning snow green 'could create new ecosystem'\n",
      "Score: 21, Comments: 2\n",
      "\n",
      "Title: Toxic Algae Blooms Occurring More Often, May Be Caught in Climate Change Feedback Loop: The blooms, primarily fed by farm runoff but exacerbated by warming, release methane and CO2\n",
      "Score: 73, Comments: 2\n",
      "\n",
      "Title: Does CO2 kill algae?\n",
      "Score: 0, Comments: 4\n",
      "\n",
      "Title: Algae farming\n",
      "Score: 4, Comments: 1\n",
      "\n",
      "Title: Question: Do coral expel algae as a reaction to the algae beginning to suffocate the available oxygen around the organism and introducing toxic radicals, or the actual raise in temperature?\n",
      "Score: 1, Comments: 1\n",
      "\n",
      "Title: Worsening Algae Blooms Could Significantly Increase Global Methane Emissions\n",
      "Score: 19, Comments: 2\n",
      "\n",
      "Title: Looking for figures for algae farming\n",
      "Score: 5, Comments: 0\n",
      "\n",
      "Title: Algae blooms to make glaciers melt faster than thought: scientists\n",
      "Score: 3, Comments: 0\n",
      "\n",
      "Title: Toledo’s Algae Bloom in Line with Climate Projections\n",
      "Score: 9, Comments: 9\n",
      "\n",
      "Title: Polar bears get the bulk of their calories from seals whose food depends on algae which grows under sea ice. No ice -> no food\n",
      "Score: 2, Comments: 0\n",
      "\n",
      "Title: Toxic Algae May Thrive as Climate and Oceans Warm, Study Says | As oceans soak up the Earth's excess heat, algae blooms that can have fatal implications to humans are becoming far more common, researchers show.\n",
      "Score: 29, Comments: 2\n",
      "\n",
      "Title: EOSDIS Worldview: Algae Blooms at Ronne ice shelf, as well as Ross ice shelf in Antarctica.\n",
      "Score: 4, Comments: 4\n",
      "\n",
      "Title: Just bury the algae?\n",
      "Score: 3, Comments: 1\n",
      "\n",
      "Title: Half of the Great Barrier Reef has been bleached to death since 2016. Mass coral bleaching, a global problem triggered by climate change, occurs when unnaturally hot ocean water destroys a reef’s colorful algae, leaving the coral to starve.\n",
      "Score: 5, Comments: 0\n",
      "\n",
      "Title: Algae Growth Speeds Up Greenland's Melting\n",
      "Score: 15, Comments: 0\n",
      "\n",
      "Title: How toxic algae are threatening humans and wildlife across the world\n",
      "Score: 11, Comments: 4\n",
      "\n",
      "Title: Warming Boosts Ocean Algae Blooms, With Potential Ripple Effects to Come | For every degree increase in water temperature, they found, the plankton bloomed four to five days earlier. From 2003 to 2012, the warmest years in their study, the bloom shifted by 20 days.\n",
      "Score: 17, Comments: 2\n",
      "\n",
      "Title: Florida algae disaster linked to retention lake dump, not global warming.\n",
      "Score: 1, Comments: 4\n",
      "\n",
      "Title: Greenland is turning green, climate change has caused dark algae to grow on the ice. This algae speeds up the heating process.\n",
      "Score: 14, Comments: 0\n",
      "\n",
      "Title: It's Alive: Blooming Algae Darken Greenland Ice\n",
      "Score: 15, Comments: 0\n",
      "\n",
      "Title: Global warming is accelerating toxic algae growth, new research shows. Researchers analyzed the effects of rising ocean temperatures on two of the most toxic types of algae and found growths are becoming more widespread and profiling through the North Atlantic and North Pacific oceans.\n",
      "Score: 9, Comments: 0\n",
      "\n",
      "Title: Meltdown: As algae, detritus, and meltwater darken Greenland's ice, it is shrinking ever faster.\n",
      "Score: 14, Comments: 0\n",
      "\n",
      "Title: Coral violently spews out algae in response to heat stress: Video\n",
      "Score: 17, Comments: 0\n",
      "\n",
      "Title: In an alarming new research, the NOAA revealed that harmful algae toxins have been detected in Alaska marine mammals. More than a dozen mammalian species, including whales and seals, are having algal toxic poisoning. Experts have linked the new report with climate change.\n",
      "Score: 29, Comments: 0\n",
      "\n",
      "Title: Global warming could be breaking up this 200 million year old relationship - The problem is that when ocean waters get too hot, coral “bleaching” occurs, and the corals banish the algae from their system, turning white.\n",
      "Score: 7, Comments: 0\n",
      "\n",
      "Title: Using Algae-Based Agricultural Feed Could Reduce Atmospheric CO2 Concentrations to Pre-Industrial Levels, According to Peer-Reviewed Study\n",
      "Score: 7, Comments: 1\n",
      "\n",
      "Title: Climate change could boost toxic algae along Pacific coast: study\n",
      "Score: 15, Comments: 0\n",
      "\n",
      "Title: Study: Ocean algae can evolve fast to tackle climate change. This is not an argument that global warming is less serious than expected. Longer-lived creatures, from fish to shellfish, would not be able to evolve their way out of trouble.\n",
      "Score: 3, Comments: 1\n",
      "\n",
      "Title: Lake Erie Algae Bloom Matches Climate Change Projections\n",
      "Score: 7, Comments: 0\n",
      "\n",
      "Title: Small algae with great potential; \"The function of the ocean as a carbon sink, which mitigates the effects of climate change, will thus be effectively maintained\n",
      "Score: 2, Comments: 0\n",
      "\n",
      "Title: Climate change study show ocean algae's adaptability\n",
      "Score: 3, Comments: 0\n",
      "\n",
      "Title: Magical algae promises to turn sewage into biofuel and Dasani\n",
      "Score: 3, Comments: 0\n",
      "\n",
      "Title: Ocean algae can evolve fast to tackle climate change, study finds\n",
      "Score: 2, Comments: 0\n",
      "\n",
      "Title: The Growing Conservative Backlash Against Carbon Capture and Storage\n",
      "Score: 123, Comments: 34\n",
      "\n",
      "Title: Tiny algae signal big changes for warming Arctic lakes: While other parts of the Arctic began to thaw in the 19th century, the Hudson Bay Lowlands remained stable until about 15 years ago. Since then, the region's average temperatures have shot up three degrees Celsius.\n",
      "Score: 4, Comments: 0\n",
      "\n",
      "Title: The algae which can grow under the thinned arctic sea ice isn't going to solve our CO2 problem\n",
      "Score: 13, Comments: 0\n",
      "\n",
      "Title: \"University of Virginia researchers have found that the life cycle of algal biofuel produces high levels of greenhouse gas emissions -- much more than it sequesters.  The culprit is the large amount of fertilizer used to produce the algae.\" \n",
      "Score: 10, Comments: 0\n",
      "\n",
      "Title: Due to the risks, 200 countries agree on a moratorium on ocean algae based geoengineering to remove CO2 from the atmosphere\n",
      "Score: 2, Comments: 1\n",
      "\n",
      "Title: Geoengineering test results: adding iron to iron-poor oceans to induce algae growth results in zooplankton eating the algae, limiting effectiveness\n",
      "Score: 3, Comments: 0\n",
      "\n",
      "Title: Organoclay flocculation as a pathway to export carbon from the sea surface\n",
      "Score: 35, Comments: 3\n",
      "\n",
      "Title: Climate change is causing algal blooms in Lake Superior for the first time in history\n",
      "Score: 20, Comments: 1\n",
      "\n",
      "Title: Billions in public funds ‘wasted’ on carbon capture projects, report finds\n",
      "Score: 28, Comments: 0\n",
      "\n",
      "Title: CO2 fluxes in a scenario where we stabilize temperatures with less than 2°C of warming\n",
      "Score: 163, Comments: 20\n",
      "\n",
      "Title: Analysis: New electrochemical technology could de-acidify the oceans – and even remove carbon dioxide in the process\n",
      "Score: 9, Comments: 1\n",
      "\n",
      "Title: Any forest experts here? I'm absolutely lost as to who to believe on the ability of planting out vast forests to soak up carbon. Various experts appear to be making vastly different claims.\n",
      "Score: 16, Comments: 32\n",
      "\n",
      "Title: Renewable Energy Is Suddenly Startlingly Cheap | Now the biggest barrier to change is the will of our politicians to take serious climate action.\n",
      "Score: 257, Comments: 21\n",
      "\n",
      "Title: Natural disasters aren't as natural as they used to be\n",
      "Score: 131, Comments: 17\n",
      "\n",
      "Title: Why are our oceans turning green? And Top 10 organizations helping to protect our oceans\n",
      "Score: 17, Comments: 3\n",
      "\n",
      "Title: Ocean 'Dead Zones' Are Releasing One of The Worst Greenhouse Gases\n",
      "Score: 227, Comments: 8\n",
      "\n",
      "Title: Why we can’t offset our way out of climate change | All Hail | Environment\n",
      "Score: 63, Comments: 4\n",
      "\n",
      "Title: How many trees to live co2 neotral\n",
      "Score: 5, Comments: 23\n",
      "\n",
      "Title: Approaching the Arctic Blue Ocean Event: Expected Locations of the Last Chunks of Remaining Sea Ice\n",
      "Score: 19, Comments: 1\n",
      "\n",
      "Title: Airliners Powered by Sustainable Fuel Remain a Distant Goal | A planned “net-zero” trans-Atlantic flight is hardly the groundbreaker being touted, with alternative fuels in short supply and few other restrictions on air travel.\n",
      "Score: 6, Comments: 1\n",
      "\n",
      "Title: I Wrote Joe Manchin Because I Couldn’t Take It Anymore\n",
      "Score: 14, Comments: 2\n",
      "\n",
      "Title: 🌳 Making electricity from cyanobacteria\n",
      "Score: 5, Comments: 3\n",
      "\n",
      "Title: Looking for data on the CO2 sequestration of different plants\n",
      "Score: 3, Comments: 4\n",
      "\n",
      "Title: What is a realistic timeline for the effects of climate change on humans?\n",
      "Score: 1, Comments: 16\n",
      "\n",
      "Title: New study: Organic food worse for the climate\n",
      "Score: 1, Comments: 9\n",
      "\n",
      "Title: Reminder: essentially all of the change in temperature since the industrial revolution is a result of human changes to the atmosphere\n",
      "Score: 54, Comments: 6\n",
      "\n",
      "Title: Strategic cultivation of calcifying organisms to remove CO2 and bring bio-circular economic value (a 4-part story)\n",
      "Score: 2, Comments: 0\n",
      "\n",
      "Title: Worst-case scenarios for global warming could lead to deadly temperatures for humans in coming centuries.\n",
      "Score: 17, Comments: 10\n",
      "\n",
      "Title: The ultimate guide to negative-emission technologies\n",
      "Score: 6, Comments: 6\n",
      "\n",
      "Title: BioUrban robotic tree fights pollution by performing the work of 368 real trees\n",
      "Score: 4, Comments: 3\n",
      "\n",
      "Title: A World Without Clouds: A state-of-the-art supercomputer simulation indicates that a feedback loop between global warming and cloud loss can push Earth’s climate past a disastrous tipping point in as little as a century.\n",
      "Score: 23, Comments: 1\n",
      "\n",
      "Title: If we stopped emitting CO2 and started removing it, it would take a thousand years to get back to a normal climate.\n",
      "Score: 37, Comments: 5\n",
      "\n",
      "Title: Climate change projected to significantly increase harmful algal blooms in U.S. freshwaters\n",
      "Score: 2, Comments: 1\n",
      "\n",
      "Title: Is the Greenland ice sheet normally this dark? Or is this new?\n",
      "Score: 11, Comments: 5\n",
      "\n",
      "Title: NTU researcher challenges global warming solution\n",
      "Score: 2, Comments: 3\n",
      "\n"
     ]
    }
   ],
   "source": [
    "# 获取帖子的互动数据\n",
    "subreddit = reddit.subreddit('climate')\n",
    "post_interactions = []\n",
    "\n",
    "for submission in subreddit.search('algae', limit=100):\n",
    "    post_interactions.append({\n",
    "        'title': submission.title,\n",
    "        'score': submission.score,  # 帖子的得分\n",
    "        'num_comments': submission.num_comments  # 评论数\n",
    "    })\n",
    "\n",
    "# 输出互动分析数据\n",
    "for post in post_interactions:\n",
    "    print(f\"Title: {post['title']}\")\n",
    "    print(f\"Score: {post['score']}, Comments: {post['num_comments']}\\n\")\n"
   ]
  },
  {
   "cell_type": "code",
   "execution_count": 17,
   "id": "9cd061db-71e1-499f-97fc-a3265ca6bb6d",
   "metadata": {},
   "outputs": [
    {
     "name": "stdout",
     "output_type": "stream",
     "text": [
      "Title: Starlink satellites with mirrors?\n",
      "Score: 6, Comments: 7\n",
      "\n",
      "Title: Could 'umbrella' satellites help with climate change?\n",
      "Score: 2, Comments: 4\n",
      "\n",
      "Title: Planet of the Humans:A documentary without hope\n",
      "Score: 0, Comments: 0\n",
      "\n"
     ]
    }
   ],
   "source": [
    "# 获取帖子的互动数据\n",
    "subreddit = reddit.subreddit('climate')\n",
    "post_interactions = []\n",
    "\n",
    "for submission in subreddit.search('solar foil', limit=100):\n",
    "    post_interactions.append({\n",
    "        'title': submission.title,\n",
    "        'score': submission.score,  # 帖子的得分\n",
    "        'num_comments': submission.num_comments  # 评论数\n",
    "    })\n",
    "\n",
    "# 输出互动分析数据\n",
    "for post in post_interactions:\n",
    "    print(f\"Title: {post['title']}\")\n",
    "    print(f\"Score: {post['score']}, Comments: {post['num_comments']}\\n\")\n"
   ]
  },
  {
   "cell_type": "code",
   "execution_count": 18,
   "id": "a89b8454-f2ba-4b2c-9f9b-51f331535e4e",
   "metadata": {},
   "outputs": [
    {
     "name": "stdout",
     "output_type": "stream",
     "text": [
      "Title: The Big Oil Firms Are Giving Up on Researching Algae Biofuels — Algae has tremendous promise as an alternative fuel, But Exxon’s pullout from algae research is a major setback.\n",
      "Score: 1732, Comments: 169\n",
      "\n",
      "Title: A novel strain of cyanobacteria, or algae that can rapidly grow and double every 2.35 hours in presence of CO₂ has been discovered by researchers from Harvard. It can readily sink in water which makes it a primary candidate to sequester carbon from oceans and factories.\n",
      "Score: 676, Comments: 41\n",
      "\n",
      "Title: Removal of 900+ pounds of ghost net from the bay I do invasive algae removal from.\n",
      "Score: 2762, Comments: 99\n",
      "\n",
      "Title: Nearly 1,000 of Florida's beloved manatees have died this year as toxic algae blooms choke off their food source\n",
      "Score: 2167, Comments: 56\n",
      "\n",
      "Title: Florida: 696 manatees have died in the first 15 weeks of 2021. Algae blooms killing off seagrass, starving seacows at alarming rates\n",
      "Score: 2023, Comments: 62\n",
      "\n",
      "Title: Scientists have figured out way to make algae-based plastic that completely decomposes. The bio-based material completely breaks down after seven months.\n",
      "Score: 853, Comments: 23\n",
      "\n",
      "Title: Toxic algae that can cause lung infections and neurological disorders is taking over a giant lake in Florida, and ecologists say the bloom will only grow\n",
      "Score: 525, Comments: 59\n",
      "\n",
      "Title: Toxic algae blamed for 300 tons of dead fish in Oder River on German-Polish border: \"A man-made environmental disaster\"\n",
      "Score: 1705, Comments: 19\n",
      "\n",
      "Title: Glyphosate Sprayed on GMO Crops Linked to Lake Erie’s Toxic Algae Bloom - The controversial main ingredient in Monsanto's Roundup is being connected to algae blooms that have fouled drinking water & killed wildlife.\n",
      "Score: 622, Comments: 152\n",
      "\n",
      "Title: Algae Farms Could Help Increase Global Food Production by 50% by 2050\n",
      "Score: 659, Comments: 45\n",
      "\n",
      "Title: Carbon-Negative Plant Opens in Turkey Turning Algae Into Bio-Jet Fuel and So Much More\n",
      "Score: 1347, Comments: 14\n",
      "\n",
      "Title: Unveiling Chonkus: The Algae That Sinks Carbon to Save Our Planet\n",
      "Score: 183, Comments: 8\n",
      "\n",
      "Title: Using chemicals to treat Florida’s algae bloom problem is like taking aspirin for a brain tumor: Israeli company won lucrative contract thanks to meeting Gov. DeSantis on a secretive trade mission\n",
      "Score: 260, Comments: 37\n",
      "\n",
      "Title: Red alga added to cow poop slashes methane emissions by almost half\n",
      "Score: 214, Comments: 37\n",
      "\n",
      "Title: Algae-based method purifies chemically polluted water effectively, study finds\n",
      "Score: 13, Comments: 1\n",
      "\n",
      "Title: Engineers develop algae-based adsorbents as new weapon against harmful blooms\n",
      "Score: 6, Comments: 0\n",
      "\n",
      "Title: A 'Devil' Seaweed Is Spreading Inside Hawaiʻi's Most Protected Place. An invasive algae has wrecked huge sections of reef in Papahānaumokuākea Marine National Monument. Scientists are racing to find out what it is, where it came from and whether anything can stop it.\n",
      "Score: 10, Comments: 0\n",
      "\n",
      "Title: Glyphosate, the controversial main ingredient in Monsanto’s Roundup and other herbicides, is being connected to Lake Erie’s troubling algae blooms, which has fouled drinking water and suffocated and killed marine life in recent years.\n",
      "Score: 403, Comments: 72\n",
      "\n",
      "Title: Eating too much protein adds to nitrogen pollution in U.S. waters : if Americans ate protein at recommended amounts, projected nitrogen excretion rates in 2055 would be 27% less than they are today despite population growth\n",
      "Score: 1604, Comments: 524\n",
      "\n",
      "Title: Scientists Turn Algae Into Crude Oil in Less Than an Hour - Researchers believe they have figured out a way to make a promising biofuel that is cheap enough to compete with gasoline\n",
      "Score: 573, Comments: 59\n",
      "\n",
      "Title: Poland seeks to contain toxic algae as tons of fish die in Oder basin\n",
      "Score: 63, Comments: 0\n",
      "\n",
      "Title: What Are Toxic Algae Blooms? A Comprehensive Guide.\n",
      "Score: 17, Comments: 5\n",
      "\n",
      "Title: California lake so green with algae it’s visible from space, says Nasa: Bright hue of Clear Lake, state’s largest freshwater basin, may have been caused by cyanobacteria and other phytoplankton\n",
      "Score: 38, Comments: 6\n",
      "\n",
      "Title: Can Poland save the Oder River from toxic algae blooms?\n",
      "Score: 7, Comments: 1\n",
      "\n",
      "Title: Climate change bites back! Idiot global-warming denier Sen. James Inhofe “contracted a respiratory illness” after swimming in Grand Lake, Oklahoma, where “sustained high temperatures” have caused “a bloom of toxic blue-green algae.”\n",
      "Score: 277, Comments: 90\n",
      "\n",
      "Title: In a world-first, scientists create eco-friendly cement from algae | The era of sustainable construction has arrived.\n",
      "Score: 251, Comments: 18\n",
      "\n",
      "Title: America's 'most endangered rivers' list: Sewage, toxic algae, construction feed the crisis\n",
      "Score: 65, Comments: 1\n",
      "\n",
      "Title: Life in the shadow of a factory farm - The piercing sounds of shrieking animals. The pungent smell of ammonia, emanating from endless piles of animal manure. Rivers & streams polluted by animal waste, left full of green algae. Some feel its presence every minute, every day.\n",
      "Score: 356, Comments: 33\n",
      "\n",
      "Title: Water bottle made from algae could save 50 billion plastic bottles a year from our landfills\n",
      "Score: 527, Comments: 31\n",
      "\n",
      "Title: Algae offer real potential as a renewable electricity source, new Concordia research shows - Concordia University\n",
      "Score: 11, Comments: 0\n",
      "\n",
      "Title: Fewer fish and more algae? Scientists seek to understand impacts of historic lack of Great Lakes ice\n",
      "Score: 48, Comments: 1\n",
      "\n",
      "Title: Meanwhile in New York fish are dropping dead\n",
      "Score: 3569, Comments: 185\n",
      "\n",
      "Title: Nutrient-rich algae could help meet global food demand: Cornell researchers\n",
      "Score: 126, Comments: 17\n",
      "\n",
      "Title: Google Chefs To Start Feeding Employees 'Shrimp' Made From Algae\n",
      "Score: 375, Comments: 34\n",
      "\n",
      "Title: A Toxic Stew on Cape Cod: Human Waste and Warming Water | Climate change is contributing to electric-green algae blooms. Massachusetts wants a cleanup of the antiquated septic systems feeding the mess, but it could cost billions.\n",
      "Score: 249, Comments: 1\n",
      "\n",
      "Title: Algae bioreactor can remove as much carbon dioxide as an acre of trees - “With enough Eos devices, we could make whole cities carbon-neutral or even negative, and at a rate that is so much faster than that of trees.”\n",
      "Score: 260, Comments: 26\n",
      "\n",
      "Title: Mysterious disease that is killing coral reefs: a virus that infects dinoflagellates — a group of symbiotic algae crucial to the health of coral — may be threatening the health of reefs worldwide.\n",
      "Score: 58, Comments: 1\n",
      "\n",
      "Title: Denmark: Eutrophication in the Baltic Sea – Marine life is dying in the Vejle Fjord: eutrophication and climate change are causing algae growth in the Baltic Sea. As a result, fish lack oxygen.\n",
      "Score: 40, Comments: 3\n",
      "\n",
      "Title: Adding Red Alga to Cow Poop Cuts Methane Production Nearly in Half\n",
      "Score: 43, Comments: 8\n",
      "\n",
      "Title: Scientists create Liquid Trees; a tank full of water and micro-algae that could be an alternative to trees in urban areas.\n",
      "Score: 18, Comments: 16\n",
      "\n",
      "Title: Can growing algae in the desert help undo some of our damage to the climate? Start-up Brilliant Planet thinks so\n",
      "Score: 16, Comments: 11\n",
      "\n",
      "Title: \"Innovator of the Year\" Creates Biodegradable Algae Solar Panels That Clean The Air\n",
      "Score: 245, Comments: 12\n",
      "\n",
      "Title: CDC Warns Public to Avoid the Toxic Algae “Blooming” in Warming Waters\n",
      "Score: 79, Comments: 16\n",
      "\n",
      "Title: Area game wardens are expressing concerns about two Oklahoma river systems, where hundreds of fish have turned up dead. “It's not just fish that's died, the algae's completely dead, the fresh water mussels have died ... The entire ecosystem has shut down.\"\n",
      "Score: 237, Comments: 43\n",
      "\n",
      "Title: Algae is a low-carbon source of protein but the EU is lagging in production\n",
      "Score: 73, Comments: 2\n",
      "\n",
      "Title: My cousin has already researched a way to make FOOD and CLEAN WATER out of POLLUTION using ALGAE! Awesome! Please vote for this project to help get more funding!\n",
      "Score: 389, Comments: 29\n",
      "\n",
      "Title: Lough Neagh: Largest lake in UK and Ireland being poisoned by toxic algae\n",
      "Score: 19, Comments: 2\n",
      "\n",
      "Title: Inside 1,000-liter bags of salt water, each one bubbling with carbon dioxide, live some of the fastest-growing plants on earth: algae that have been genetically modified to produce an oil much like underground crude.\n",
      "Score: 137, Comments: 62\n",
      "\n",
      "Title: All 21 of Mississippi's beaches are closed because of toxic algae\n",
      "Score: 373, Comments: 8\n",
      "\n",
      "Title: Shrimplike animals devoured 159 square miles (300 square kilometers) of artificially stimulated algae meant to fight global warming—casting serious doubt on ocean fertilization as a climate-control tool.\n",
      "Score: 146, Comments: 59\n",
      "\n",
      "Title: U.S. EPA should reject Ohio’s flawed plan to fix Lake Erie’s toxic algae crisis: Jeff Reutter\n",
      "Score: 28, Comments: 0\n",
      "\n",
      "Title: Want Carbon-Neutral Cows? Algae Isn’t the Answer\n",
      "Score: 16, Comments: 12\n",
      "\n",
      "Title: Researchers harness algae to 'grow' construction cement\n",
      "Score: 112, Comments: 5\n",
      "\n",
      "Title: The manure from over 2,200 smaller unpermitted animal feeding operations are causing toxic algae blooms in Lake Erie and drinking water pollution for millions\n",
      "Score: 117, Comments: 2\n",
      "\n",
      "Title: Brown algae could remove up to 0.55 gigatons of carbon dioxide from the atmosphere every year, study finds\n",
      "Score: 70, Comments: 2\n",
      "\n",
      "Title: Half of the Great Barrier Reef has been bleached to death since 2016. Mass coral bleaching, a global problem triggered by climate change, occurs when unnaturally hot ocean water destroys a reef’s colorful algae, leaving the coral to starve.\n",
      "Score: 132, Comments: 27\n",
      "\n",
      "Title: The algae that eats CO2 from the atmosphere\n",
      "Score: 83, Comments: 18\n",
      "\n",
      "Title: Arctic ice algae heavily contaminated with microplastics\n",
      "Score: 24, Comments: 1\n",
      "\n",
      "Title: Army Corps. of Engineers Pumping Billions of Gallons of De-Oxygenated, Desalinated \"Black Water\" From Lake Okeechobee into Ocean Daily. Marine Life is Dying and Toxic Algae Bloom Worsening. No National Attention.\n",
      "Score: 275, Comments: 19\n",
      "\n",
      "Title: Contamination Crisis: Arctic Ice Algae Heavily Contaminated With Microplastics | \"the clumps of algae contained an average of 31,000 ± 19,000 microplastic particles per cubic metre, about ten times the concentration of the surrounding water\"\n",
      "Score: 17, Comments: 0\n",
      "\n",
      "Title: Arctic ice algae heavily contaminated with microplastics, reports new research\n",
      "Score: 4, Comments: 1\n",
      "\n",
      "Title: Big Oil Firms Touted Algae as Climate Solution. Now All Have Pulled Funding\n",
      "Score: 26, Comments: 0\n",
      "\n",
      "Title: Big oil firms touted algae as climate solution. Now all have pulled funding\n",
      "Score: 6, Comments: 2\n",
      "\n",
      "Title: How a looming El Niño could fuel the spread of infectious disease The oceanic phenomenon could lead to more pathogen-carrying mosquitoes, bacteria, and toxic algae.\n",
      "Score: 7, Comments: 0\n",
      "\n",
      "Title: Microplastics and algae tangle in the Great Lakes\n",
      "Score: 192, Comments: 3\n",
      "\n",
      "Title: A red tide that devastated marine life off the northernmost main island of Hokkaido apparently was caused by algae drifting from Russia on an ocean current, Japanese researchers said. The event triggered wholesale deaths of salmon and sea urchins\n",
      "Score: 114, Comments: 5\n",
      "\n",
      "Title: ‘It stinks’: Windermere plagued by blue-green algae as ‘toxic as cobra venom’ | Lake District\n",
      "Score: 60, Comments: 2\n",
      "\n",
      "Title: [MPR News] Boundary Waters algae blooms spark questions, concern\n",
      "Score: 22, Comments: 3\n",
      "\n",
      "Title: Pink snow spells serious trouble for water in the western US. The algae’s striking appearance on snow has earned it nicknames ranging from the delicious-sounding — watermelon snow — to the ominous — glacier blood.\n",
      "Score: 37, Comments: 0\n",
      "\n",
      "Title: Turning problem sea algae into a replacement for plastic\n",
      "Score: 18, Comments: 0\n",
      "\n",
      "Title: Researchers in Europe turn to microscopic algae for answers to our environmental problems\n",
      "Score: 6, Comments: 0\n",
      "\n",
      "Title: Lake Erie Algae Blooms - Alliance for the Great Lakes\n",
      "Score: 14, Comments: 2\n",
      "\n",
      "Title: Turning problem sea algae into a replacement for plastic\n",
      "Score: 9, Comments: 0\n",
      "\n",
      "Title: Parts of the Antarctic Peninsula will change color as \"green snow\" caused by blooming algae is expected to spread with increases in global temperatures\n",
      "Score: 131, Comments: 10\n",
      "\n",
      "Title: Algae Biofuel Process by Algenol Yields 8000 Gallons per Acre at $1.27 per Gallon\n",
      "Score: 107, Comments: 33\n",
      "\n",
      "Title: Brewery uses Algae In Beer Production \"It takes a tree approximately two days to absorb the CO2 released from producing one six pack of beer. Young Henrys says their in-house cultivated algae not only absorb the CO2 released, they also produce as much oxygen as two and half acres of wilderness.\"\n",
      "Score: 138, Comments: 8\n",
      "\n",
      "Title: How to spot eutrophic water? According to my teacher algae growing on the surface of the water is not enough of a reason.\n",
      "Score: 4, Comments: 0\n",
      "\n",
      "Title: GOP Governor Declares State of Emergency Over Algae Pollution After Cutting $700 Million From Agencies That Control It - It’s too little, too late for many Floridians.\n",
      "Score: 132, Comments: 17\n",
      "\n",
      "Title: Scientists make shocking discovery of 'dead zones' where nothing can live on two US coasts\n",
      "Score: 1689, Comments: 98\n",
      "\n",
      "Title: Massive 8,000-mile 'dead zone' could be one of the gulf's largest. Record-breaking Midwest rainfall washed tons of fertilizer and sewage water out to sea, contributing to a devastatingly large patch of polluted water, scientists say.\n",
      "Score: 2358, Comments: 111\n",
      "\n",
      "Title: Over 600,000 pounds of fish mysteriously died in European river. Now experts know why: The fish died from Prymnesium parvum, known as “golden algae\"\n",
      "Score: 27, Comments: 0\n",
      "\n",
      "Title: ‘Vast’ mass of microbes being released by melting glaciers. The data enabled them to estimate the bacteria and algae being flushed out would deliver an average of 650,000 tonnes of carbon a year for the next 80 years in the northern hemisphere\n",
      "Score: 11, Comments: 0\n",
      "\n",
      "Title: A string of whale deaths in recent days in southern Argentina have worried scientists, who think a micro-algae could be to blame. From September 24 to October 2, at least 13 southern right whales died in the Nuevo Gulf close to the Valdes Peninsula\n",
      "Score: 15, Comments: 0\n",
      "\n",
      "Title: Ian ruins man-made reefs, brings algae bloom to Florida\n",
      "Score: 5, Comments: 0\n",
      "\n",
      "Title: Rare golden algae may have caused fish deaths in Oder River, says minister | Poland\n",
      "Score: 15, Comments: 1\n",
      "\n",
      "Title: Hey politicians! Stop talking about the algae, and do something about it\n",
      "Score: 199, Comments: 7\n",
      "\n",
      "Title: Danger Looms Where Toxic Algae Blooms | Animal agriculture is the primary source of nutrient pollution to Great Lakes waters. Yet billions spent on clean up strategies aren’t working\n",
      "Score: 10, Comments: 0\n",
      "\n",
      "Title: Tiny algae could help fix concrete's dirty little climate secret – 4 innovative ways to clean up this notoriously hard to decarbonize industry\n",
      "Score: 13, Comments: 0\n",
      "\n",
      "Title: New Documentary 'The Erie Situation' Looks at Toxic Algae Pollution on the Great Lake\n",
      "Score: 47, Comments: 0\n",
      "\n",
      "Title: Hornsea: Algae fears prompts Environment Agency advice to avoid sea\n",
      "Score: 2, Comments: 0\n",
      "\n",
      "Title: Algae blooms could be crucial to cutting the costs of carbon capture\n",
      "Score: 12, Comments: 2\n",
      "\n",
      "Title: Algae Agreement Offers an Ocean of Research Possibilities\n",
      "Score: 5, Comments: 0\n",
      "\n",
      "Title: Hundreds of sea turtles are washing up dead on the beaches of Central America and scientists don't know why. One hypothesis is that the killer is a potent neurotoxin that can be produced by algae during red tides, which are large accumulations of algae that turn sea water red or brown.\n",
      "Score: 278, Comments: 8\n",
      "\n",
      "Title: Toxic algae blooms are multiplying. The government has no plan to help.\n",
      "Score: 15, Comments: 4\n",
      "\n",
      "Title: Why algae can be our next secret weapon to combat plastic pollution\n",
      "Score: 13, Comments: 0\n",
      "\n",
      "Title: Florida Manatees Died at an Alarming Rate in the First Months of 2021: Years of worsening water quality from toxic runoff have increased algae blooms and killed the sea grass that manatees graze on, experts say\n",
      "Score: 65, Comments: 1\n",
      "\n",
      "Title: Algae Biofuel shown to have higher energy output than regular fuel in Continental test flight today\n",
      "Score: 128, Comments: 25\n",
      "\n",
      "Title: Investigation: Manure From Unregulated Factory Farms Fuels Lake Erie’s Toxic Algae Blooms\n",
      "Score: 126, Comments: 5\n",
      "\n",
      "Title: China's port city suffers worst algae infestation\n",
      "Score: 19, Comments: 3\n",
      "\n",
      "Title: The EPA's Repeal of Obama-Era Clean-Water Rules Will Make It Easier for Polluters to Use Chemicals Linked to Toxic Algae Near Florida's Water Bodies\n",
      "Score: 120, Comments: 3\n",
      "\n"
     ]
    }
   ],
   "source": [
    "# 获取帖子的互动数据\n",
    "subreddit = reddit.subreddit('environment')\n",
    "post_interactions = []\n",
    "\n",
    "for submission in subreddit.search('algae', limit=100):\n",
    "    post_interactions.append({\n",
    "        'title': submission.title,\n",
    "        'score': submission.score,  # 帖子的得分\n",
    "        'num_comments': submission.num_comments  # 评论数\n",
    "    })\n",
    "\n",
    "# 输出互动分析数据\n",
    "for post in post_interactions:\n",
    "    print(f\"Title: {post['title']}\")\n",
    "    print(f\"Score: {post['score']}, Comments: {post['num_comments']}\\n\")\n"
   ]
  },
  {
   "cell_type": "code",
   "execution_count": 19,
   "id": "4344b142-3315-481b-9286-e04cdccb29c8",
   "metadata": {},
   "outputs": [
    {
     "name": "stdout",
     "output_type": "stream",
     "text": [
      "Title: Starlink satellites with mirrors?\n",
      "Score: 7, Comments: 7, Author: navid333\n",
      "\n",
      "Title: Could 'umbrella' satellites help with climate change?\n",
      "Score: 2, Comments: 4, Author: tnemeth16\n",
      "\n",
      "Title: Planet of the Humans:A documentary without hope\n",
      "Score: 0, Comments: 0, Author: woodchip76\n",
      "\n"
     ]
    }
   ],
   "source": [
    "# 获取并分析帖子数据\n",
    "subreddit = reddit.subreddit('climate')\n",
    "post_details = []\n",
    "\n",
    "for submission in subreddit.search('solar foil', limit=10):\n",
    "    post_details.append({\n",
    "        'title': submission.title,\n",
    "        'score': submission.score,  # 得分\n",
    "        'comments': submission.num_comments,\n",
    "        'author': submission.author.name if submission.author else 'Unknown'  # 用户\n",
    "    })\n",
    "\n",
    "# 输出分析结果\n",
    "for post in post_details:\n",
    "    print(f\"Title: {post['title']}\")\n",
    "    print(f\"Score: {post['score']}, Comments: {post['comments']}, Author: {post['author']}\\n\")\n"
   ]
  },
  {
   "cell_type": "code",
   "execution_count": 20,
   "id": "aa277cbd-7f6e-455b-8c27-c4f6176a0010",
   "metadata": {},
   "outputs": [
    {
     "name": "stdout",
     "output_type": "stream",
     "text": [
      "                                               title  \\\n",
      "0                  Starlink satellites with mirrors?   \n",
      "1  Could 'umbrella' satellites help with climate ...   \n",
      "2    Planet of the Humans:A documentary without hope   \n",
      "3  Foil Hat Time Gentlemen of Reddit : Planet awa...   \n",
      "4                   My adventures in sustainability.   \n",
      "\n",
      "                                            selftext  upvotes  num_comments  \\\n",
      "0  There is potential solution to use mirrors to ...        7             7   \n",
      "1  Could large-scale geoengineering, such as aero...        2             4   \n",
      "2  &#x200B;\\n\\n \\n\\nA poorly edited documentary a...        0             0   \n",
      "3                                                           4             0   \n",
      "4  Well Reddit, it's been a fun, long, wild ride....        4             4   \n",
      "\n",
      "     subreddit  \n",
      "0      climate  \n",
      "1      climate  \n",
      "2      climate  \n",
      "3  environment  \n",
      "4  environment  \n"
     ]
    }
   ],
   "source": [
    "def get_posts_from_subreddit(subreddit_name, query, limit=100):\n",
    "    subreddit = reddit.subreddit(subreddit_name)\n",
    "    posts = subreddit.search(query, limit=limit)\n",
    "    \n",
    "    post_data = []\n",
    "    for post in posts:\n",
    "        post_data.append({\n",
    "            'title': post.title,\n",
    "            'selftext': post.selftext,\n",
    "            'upvotes': post.score,\n",
    "            'num_comments': post.num_comments,\n",
    "            'subreddit': subreddit_name\n",
    "        })\n",
    "    \n",
    "    return post_data\n",
    "\n",
    "# 获取 r/climate 和 r/environment 中的帖子\n",
    "climate_posts = get_posts_from_subreddit('climate', 'solar foil')\n",
    "environment_posts = get_posts_from_subreddit('environment', 'solar foil')\n",
    "\n",
    "# 转换为 pandas DataFrame 以便分析\n",
    "climate_df = pd.DataFrame(climate_posts)\n",
    "environment_df = pd.DataFrame(environment_posts)\n",
    "\n",
    "# 合并两个数据集\n",
    "df = pd.concat([climate_df, environment_df], ignore_index=True)\n",
    "\n",
    "# 显示数据\n",
    "print(df.head())"
   ]
  },
  {
   "cell_type": "code",
   "execution_count": 21,
   "id": "e710ebd5-673c-4ee4-ba89-53d78755793e",
   "metadata": {},
   "outputs": [
    {
     "name": "stdout",
     "output_type": "stream",
     "text": [
      "Requirement already satisfied: textblob in c:\\users\\lm\\anaconda3\\lib\\site-packages (0.18.0.post0)Note: you may need to restart the kernel to use updated packages.\n",
      "Requirement already satisfied: nltk>=3.8 in c:\\users\\lm\\anaconda3\\lib\\site-packages (from textblob) (3.9.1)\n",
      "Requirement already satisfied: tqdm in c:\\users\\lm\\anaconda3\\lib\\site-packages (from nltk>=3.8->textblob) (4.59.0)\n",
      "Requirement already satisfied: click in c:\\users\\lm\\anaconda3\\lib\\site-packages (from nltk>=3.8->textblob) (7.1.2)\n",
      "Requirement already satisfied: regex>=2021.8.3 in c:\\users\\lm\\anaconda3\\lib\\site-packages (from nltk>=3.8->textblob) (2024.11.6)\n",
      "Requirement already satisfied: joblib in c:\\users\\lm\\anaconda3\\lib\\site-packages (from nltk>=3.8->textblob) (1.0.1)\n",
      "\n"
     ]
    }
   ],
   "source": [
    "pip install textblob"
   ]
  },
  {
   "cell_type": "code",
   "execution_count": 22,
   "id": "6a73e793-292e-4466-8bc9-b952020ed2bd",
   "metadata": {},
   "outputs": [
    {
     "data": {
      "image/png": "[encoded data removed]",
      "text/plain": [
       "<Figure size 432x288 with 1 Axes>"
      ]
     },
     "metadata": {
      "needs_background": "light"
     },
     "output_type": "display_data"
    }
   ],
   "source": [
    "from textblob import TextBlob\n",
    "\n",
    "# 定义一个情感分析函数\n",
    "def analyze_sentiment(text):\n",
    "    analysis = TextBlob(text)\n",
    "    return analysis.sentiment.polarity  # 返回情感的极性（-1 到 1）\n",
    "\n",
    "# 应用情感分析到帖子标题和内容\n",
    "df['sentiment'] = df['title'] + ' ' + df['selftext']  # 合并标题和内容\n",
    "df['sentiment'] = df['sentiment'].apply(analyze_sentiment)\n",
    "\n",
    "# 查看不同 subreddit 的情感分布\n",
    "climate_sentiment = df[df['subreddit'] == 'climate']['sentiment']\n",
    "environment_sentiment = df[df['subreddit'] == 'environment']['sentiment']\n",
    "\n",
    "# 绘制情感分布图\n",
    "import matplotlib.pyplot as plt\n",
    "\n",
    "plt.hist(climate_sentiment, bins=20, alpha=0.5, label='r/climate')\n",
    "plt.hist(environment_sentiment, bins=20, alpha=0.5, label='r/environment')\n",
    "plt.legend(loc='upper right')\n",
    "plt.title('Sentiment Distribution for \"Solar Foil\" Discussions')\n",
    "plt.xlabel('Sentiment')\n",
    "plt.ylabel('Frequency')\n",
    "plt.show()\n"
   ]
  },
  {
   "cell_type": "code",
   "execution_count": 23,
   "id": "94c9577f-5607-41ca-838d-e1bd60f2082a",
   "metadata": {},
   "outputs": [
    {
     "name": "stdout",
     "output_type": "stream",
     "text": [
      "                                               title selftext  upvotes  \\\n",
      "0  Big Oil Firms Touted Algae as Climate Solution...               697   \n",
      "1  Red Ghost’ Algae Swarms China’s Coast, Threate...                 1   \n",
      "2  A Toxic Stew on Cape Cod: Human Waste and Warm...               577   \n",
      "3  Vanishing sea ice threatens polar food chain. ...                23   \n",
      "4  A novel strain of cyanobacteria, or algae that...                28   \n",
      "\n",
      "   num_comments subreddit  \n",
      "0            52   climate  \n",
      "1             0   climate  \n",
      "2            12   climate  \n",
      "3             0   climate  \n",
      "4             3   climate  \n"
     ]
    }
   ],
   "source": [
    "def get_posts_from_subreddit(subreddit_name, query, limit=100):\n",
    "    subreddit = reddit.subreddit(subreddit_name)\n",
    "    posts = subreddit.search(query, limit=limit)\n",
    "    \n",
    "    post_data = []\n",
    "    for post in posts:\n",
    "        post_data.append({\n",
    "            'title': post.title,\n",
    "            'selftext': post.selftext,\n",
    "            'upvotes': post.score,\n",
    "            'num_comments': post.num_comments,\n",
    "            'subreddit': subreddit_name\n",
    "        })\n",
    "    \n",
    "    return post_data\n",
    "\n",
    "# 获取 r/climate 和 r/environment和r/sustainability 中的帖子\n",
    "climate_posts = get_posts_from_subreddit('climate', 'algae')\n",
    "environment_posts = get_posts_from_subreddit('environment', 'algae')\n",
    "sustainability_posts = get_posts_from_subreddit('environment', 'algae')\n",
    "\n",
    "# 转换为 pandas DataFrame 以便分析\n",
    "climate_df = pd.DataFrame(climate_posts)\n",
    "environment_df = pd.DataFrame(environment_posts)\n",
    "sustainability_df=pd.DataFrame(sustainability_posts)\n",
    "\n",
    "# 合并三个数据集\n",
    "df = pd.concat([climate_df, environment_df,sustainability_df], ignore_index=True)\n",
    "\n",
    "# 显示数据\n",
    "print(df.head())"
   ]
  },
  {
   "cell_type": "code",
   "execution_count": 25,
   "id": "c287c240-74d7-4e56-9e9b-58a4498b6021",
   "metadata": {},
   "outputs": [
    {
     "data": {
      "image/png": "[encoded data removed]",
      "text/plain": [
       "<Figure size 432x288 with 1 Axes>"
      ]
     },
     "metadata": {
      "needs_background": "light"
     },
     "output_type": "display_data"
    }
   ],
   "source": [
    "from textblob import TextBlob\n",
    "\n",
    "# 定义一个情感分析函数\n",
    "def analyze_sentiment(text):\n",
    "    analysis = TextBlob(text)\n",
    "    return analysis.sentiment.polarity  # 返回情感的极性（-1 到 1）\n",
    "\n",
    "# 应用情感分析到帖子标题和内容\n",
    "df['sentiment'] = df['title'] + ' ' + df['selftext']  # 合并标题和内容\n",
    "df['sentiment'] = df['sentiment'].apply(analyze_sentiment)\n",
    "\n",
    "# 查看不同 subreddit 的情感分布\n",
    "climate_sentiment = df[df['subreddit'] == 'climate']['sentiment']\n",
    "environment_sentiment = df[df['subreddit'] == 'environment']['sentiment']\n",
    "sustainability_sentiment = df[df['subreddit'] == 'sustainability']['sentiment']\n",
    "\n",
    "# 绘制情感分布图\n",
    "import matplotlib.pyplot as plt\n",
    "\n",
    "plt.hist(climate_sentiment, bins=20, alpha=0.5, label='r/climate')\n",
    "plt.hist(environment_sentiment, bins=20, alpha=0.5, label='r/environment')\n",
    "plt.legend(loc='upper right')\n",
    "plt.title('Sentiment Distribution for \"algae\" Discussions')\n",
    "plt.xlabel('Sentiment')\n",
    "plt.ylabel('Frequency')\n",
    "plt.show()\n"
   ]
  },
  {
   "cell_type": "code",
   "execution_count": 26,
   "id": "db7b6f5a-ce8a-43ef-a592-237368330c1b",
   "metadata": {},
   "outputs": [
    {
     "data": {
      "image/png": "[encoded data removed]",
      "text/plain": [
       "<Figure size 432x288 with 1 Axes>"
      ]
     },
     "metadata": {
      "needs_background": "light"
     },
     "output_type": "display_data"
    }
   ],
   "source": [
    "from textblob import TextBlob\n",
    "\n",
    "# 定义一个情感分析函数\n",
    "def analyze_sentiment(text):\n",
    "    analysis = TextBlob(text)\n",
    "    return analysis.sentiment.polarity  # 返回情感的极性（-1 到 1）\n",
    "\n",
    "# 应用情感分析到帖子标题和内容\n",
    "df['sentiment'] = df['title'] + ' ' + df['selftext']  # 合并标题和内容\n",
    "df['sentiment'] = df['sentiment'].apply(analyze_sentiment)\n",
    "\n",
    "# 查看不同 subreddit 的情感分布\n",
    "climate_sentiment = df[df['subreddit'] == 'climate']['sentiment']\n",
    "environment_sentiment = df[df['subreddit'] == 'environment']['sentiment']\n",
    "sustainability_sentiment = df[df['subreddit'] == 'sustainability']['sentiment']\n",
    "\n",
    "# 绘制情感分布图\n",
    "import matplotlib.pyplot as plt\n",
    "\n",
    "plt.hist(climate_sentiment, bins=20, alpha=0.5, label='r/climate')\n",
    "plt.hist(environment_sentiment, bins=20, alpha=0.5, label='r/environment')\n",
    "plt.legend(loc='upper right')\n",
    "plt.title('Sentiment Distribution for \"microalgae\" Discussions')\n",
    "plt.xlabel('Sentiment')\n",
    "plt.ylabel('Frequency')\n",
    "plt.show()\n"
   ]
  },
  {
   "cell_type": "code",
   "execution_count": 28,
   "id": "0f963132-2f43-4b9c-8ffb-31f7b071ac1e",
   "metadata": {},
   "outputs": [
    {
     "data": {
      "image/png": "[encoded data removed]",
      "text/plain": [
       "<Figure size 432x288 with 1 Axes>"
      ]
     },
     "metadata": {
      "needs_background": "light"
     },
     "output_type": "display_data"
    }
   ],
   "source": [
    "import seaborn as sns  # 导入 seaborn\n",
    "import matplotlib.pyplot as plt\n",
    "\n",
    "\n",
    "# 假设有关于藻类和太阳能薄膜的数据\n",
    "data = {'microalgae': [1, 2, 3, 4, 5], 'solar_foil': [2, 3, 4, 5, 6]}\n",
    "\n",
    "import pandas as pd\n",
    "\n",
    "df = pd.DataFrame(data)\n",
    "\n",
    "# 绘制散点图\n",
    "sns.scatterplot(data=df, x='microalgae', y='solar_foil')\n",
    "plt.title('Microalgae vs Solar Foil')\n",
    "plt.xlabel('Microalgae')\n",
    "plt.ylabel('Solar Foil')\n",
    "plt.show()"
   ]
  },
  {
   "cell_type": "code",
   "execution_count": 29,
   "id": "7bac51cc-a871-49ff-b6c3-f252a2b0c00e",
   "metadata": {},
   "outputs": [
    {
     "name": "stdout",
     "output_type": "stream",
     "text": [
      "thank you very much. good night!!!\n"
     ]
    }
   ],
   "source": [
    "print('thank you very much. good night!!!')"
   ]
  },
  {
   "cell_type": "code",
   "execution_count": 3,
   "id": "5956e4ef-6665-4d0b-82d6-620ad81c7d37",
   "metadata": {},
   "outputs": [
    {
     "ename": "NameError",
     "evalue": "name 'reddit' is not defined",
     "output_type": "error",
     "traceback": [
      "\u001b[1;31m---------------------------------------------------------------------------\u001b[0m",
      "\u001b[1;31mNameError\u001b[0m                                 Traceback (most recent call last)",
      "\u001b[1;32m<ipython-input-3-2f374577cabe>\u001b[0m in \u001b[0;36m<module>\u001b[1;34m\u001b[0m\n\u001b[0;32m      1\u001b[0m \u001b[1;31m# 获取帖子的互动数据\u001b[0m\u001b[1;33m\u001b[0m\u001b[1;33m\u001b[0m\u001b[1;33m\u001b[0m\u001b[0m\n\u001b[1;32m----> 2\u001b[1;33m \u001b[0msubreddit\u001b[0m \u001b[1;33m=\u001b[0m \u001b[0mreddit\u001b[0m\u001b[1;33m.\u001b[0m\u001b[0msubreddit\u001b[0m\u001b[1;33m(\u001b[0m\u001b[1;34m'environment'\u001b[0m\u001b[1;33m)\u001b[0m\u001b[1;33m\u001b[0m\u001b[1;33m\u001b[0m\u001b[0m\n\u001b[0m\u001b[0;32m      3\u001b[0m \u001b[0mpost_interactions\u001b[0m \u001b[1;33m=\u001b[0m \u001b[1;33m[\u001b[0m\u001b[1;33m]\u001b[0m\u001b[1;33m\u001b[0m\u001b[1;33m\u001b[0m\u001b[0m\n\u001b[0;32m      4\u001b[0m \u001b[1;33m\u001b[0m\u001b[0m\n\u001b[0;32m      5\u001b[0m \u001b[1;32mfor\u001b[0m \u001b[0msubmission\u001b[0m \u001b[1;32min\u001b[0m \u001b[0msubreddit\u001b[0m\u001b[1;33m.\u001b[0m\u001b[0msearch\u001b[0m\u001b[1;33m(\u001b[0m\u001b[1;34m'microalgae'\u001b[0m\u001b[1;33m,\u001b[0m \u001b[0mlimit\u001b[0m\u001b[1;33m=\u001b[0m\u001b[1;36m100\u001b[0m\u001b[1;33m)\u001b[0m\u001b[1;33m:\u001b[0m\u001b[1;33m\u001b[0m\u001b[1;33m\u001b[0m\u001b[0m\n",
      "\u001b[1;31mNameError\u001b[0m: name 'reddit' is not defined"
     ]
    }
   ],
   "source": [
    "# 获取帖子的互动数据\n",
    "subreddit = reddit.subreddit('environment')\n",
    "post_interactions = []\n",
    "\n",
    "for submission in subreddit.search('microalgae', limit=100):\n",
    "    post_interactions.append({\n",
    "        'title': submission.title,\n",
    "        'score': submission.score,  # 帖子的得分\n",
    "        'num_comments': submission.num_comments  # 评论数\n",
    "    })\n",
    "\n",
    "# 输出互动分析数据\n",
    "for post in post_interactions:\n",
    "    print(f\"Title: {post['title']}\")\n",
    "    print(f\"Score: {post['score']}, Comments: {post['num_comments']}\\n\")\n"
   ]
  },
  {
   "cell_type": "code",
   "execution_count": 4,
   "id": "8ab8b228-276f-4974-8b2d-dd62b81fd969",
   "metadata": {},
   "outputs": [
    {
     "name": "stdout",
     "output_type": "stream",
     "text": [
      "Please visit this URL to authorize your account:\n"
     ]
    },
    {
     "name": "stderr",
     "output_type": "stream",
     "text": [
      "<ipython-input-4-8e28a0a454ba>:12: DeprecationWarning: Positional arguments for 'Auth.url' will no longer be supported in PRAW 8.\n",
      "Call this function with 'scopes', 'state', and 'duration' as keyword arguments.\n",
      "  print(reddit.auth.url(['identity'], 'unique_random_string', 'permanent'))\n"
     ]
    },
    {
     "ename": "MissingRequiredAttributeException",
     "evalue": "redirect_uri must be provided",
     "output_type": "error",
     "traceback": [
      "\u001b[1;31m---------------------------------------------------------------------------\u001b[0m",
      "\u001b[1;31mMissingRequiredAttributeException\u001b[0m         Traceback (most recent call last)",
      "\u001b[1;32m<ipython-input-4-8e28a0a454ba>\u001b[0m in \u001b[0;36m<module>\u001b[1;34m\u001b[0m\n\u001b[0;32m     10\u001b[0m \u001b[1;31m# 通过 OAuth 进行用户身份验证\u001b[0m\u001b[1;33m\u001b[0m\u001b[1;33m\u001b[0m\u001b[1;33m\u001b[0m\u001b[0m\n\u001b[0;32m     11\u001b[0m \u001b[0mprint\u001b[0m\u001b[1;33m(\u001b[0m\u001b[1;34m\"Please visit this URL to authorize your account:\"\u001b[0m\u001b[1;33m)\u001b[0m\u001b[1;33m\u001b[0m\u001b[1;33m\u001b[0m\u001b[0m\n\u001b[1;32m---> 12\u001b[1;33m \u001b[0mprint\u001b[0m\u001b[1;33m(\u001b[0m\u001b[0mreddit\u001b[0m\u001b[1;33m.\u001b[0m\u001b[0mauth\u001b[0m\u001b[1;33m.\u001b[0m\u001b[0murl\u001b[0m\u001b[1;33m(\u001b[0m\u001b[1;33m[\u001b[0m\u001b[1;34m'identity'\u001b[0m\u001b[1;33m]\u001b[0m\u001b[1;33m,\u001b[0m \u001b[1;34m'unique_random_string'\u001b[0m\u001b[1;33m,\u001b[0m \u001b[1;34m'permanent'\u001b[0m\u001b[1;33m)\u001b[0m\u001b[1;33m)\u001b[0m\u001b[1;33m\u001b[0m\u001b[1;33m\u001b[0m\u001b[0m\n\u001b[0m\u001b[0;32m     13\u001b[0m \u001b[1;33m\u001b[0m\u001b[0m\n\u001b[0;32m     14\u001b[0m \u001b[1;31m# 等待用户授权并获得授权码\u001b[0m\u001b[1;33m\u001b[0m\u001b[1;33m\u001b[0m\u001b[1;33m\u001b[0m\u001b[0m\n",
      "\u001b[1;32m~\\anaconda3\\lib\\site-packages\\praw\\util\\deprecate_args.py\u001b[0m in \u001b[0;36mwrapped\u001b[1;34m(*args, **kwargs)\u001b[0m\n\u001b[0;32m     44\u001b[0m                     \u001b[0mstacklevel\u001b[0m\u001b[1;33m=\u001b[0m\u001b[1;36m2\u001b[0m\u001b[1;33m,\u001b[0m\u001b[1;33m\u001b[0m\u001b[1;33m\u001b[0m\u001b[0m\n\u001b[0;32m     45\u001b[0m                 )\n\u001b[1;32m---> 46\u001b[1;33m             \u001b[1;32mreturn\u001b[0m \u001b[0mfunc\u001b[0m\u001b[1;33m(\u001b[0m\u001b[1;33m**\u001b[0m\u001b[0mdict\u001b[0m\u001b[1;33m(\u001b[0m\u001b[0mzip\u001b[0m\u001b[1;33m(\u001b[0m\u001b[0m_old_args\u001b[0m\u001b[1;33m,\u001b[0m \u001b[0margs\u001b[0m\u001b[1;33m)\u001b[0m\u001b[1;33m)\u001b[0m\u001b[1;33m,\u001b[0m \u001b[1;33m**\u001b[0m\u001b[0mkwargs\u001b[0m\u001b[1;33m)\u001b[0m\u001b[1;33m\u001b[0m\u001b[1;33m\u001b[0m\u001b[0m\n\u001b[0m\u001b[0;32m     47\u001b[0m \u001b[1;33m\u001b[0m\u001b[0m\n\u001b[0;32m     48\u001b[0m         \u001b[1;32mreturn\u001b[0m \u001b[0mwrapped\u001b[0m\u001b[1;33m\u001b[0m\u001b[1;33m\u001b[0m\u001b[0m\n",
      "\u001b[1;32m~\\anaconda3\\lib\\site-packages\\praw\\models\\auth.py\u001b[0m in \u001b[0;36murl\u001b[1;34m(self, duration, implicit, scopes, state)\u001b[0m\n\u001b[0;32m    128\u001b[0m         \u001b[1;32mif\u001b[0m \u001b[0mauthenticator\u001b[0m\u001b[1;33m.\u001b[0m\u001b[0mredirect_uri\u001b[0m \u001b[1;32mis\u001b[0m \u001b[0mself\u001b[0m\u001b[1;33m.\u001b[0m\u001b[0m_reddit\u001b[0m\u001b[1;33m.\u001b[0m\u001b[0mconfig\u001b[0m\u001b[1;33m.\u001b[0m\u001b[0mCONFIG_NOT_SET\u001b[0m\u001b[1;33m:\u001b[0m\u001b[1;33m\u001b[0m\u001b[1;33m\u001b[0m\u001b[0m\n\u001b[0;32m    129\u001b[0m             \u001b[0mmsg\u001b[0m \u001b[1;33m=\u001b[0m \u001b[1;34m\"redirect_uri must be provided\"\u001b[0m\u001b[1;33m\u001b[0m\u001b[1;33m\u001b[0m\u001b[0m\n\u001b[1;32m--> 130\u001b[1;33m             \u001b[1;32mraise\u001b[0m \u001b[0mMissingRequiredAttributeException\u001b[0m\u001b[1;33m(\u001b[0m\u001b[0mmsg\u001b[0m\u001b[1;33m)\u001b[0m\u001b[1;33m\u001b[0m\u001b[1;33m\u001b[0m\u001b[0m\n\u001b[0m\u001b[0;32m    131\u001b[0m         \u001b[1;32mif\u001b[0m \u001b[0misinstance\u001b[0m\u001b[1;33m(\u001b[0m\u001b[0mauthenticator\u001b[0m\u001b[1;33m,\u001b[0m \u001b[0mUntrustedAuthenticator\u001b[0m\u001b[1;33m)\u001b[0m\u001b[1;33m:\u001b[0m\u001b[1;33m\u001b[0m\u001b[1;33m\u001b[0m\u001b[0m\n\u001b[0;32m    132\u001b[0m             return authenticator.authorize_url(\n",
      "\u001b[1;31mMissingRequiredAttributeException\u001b[0m: redirect_uri must be provided"
     ]
    }
   ],
   "source": [
    "import praw\n",
    "\n",
    "# 创建 Reddit 实例\n",
    "reddit = praw.Reddit(\n",
    "    client_id='2jnPC-Q387sT92iOOcar-A',  # 你的 client ID\n",
    "    client_secret='p7is38ghTqErcWA-JsD13aLb2A2e-Q',  # 你的 client secret\n",
    "    user_agent='QuantitativeAnalysis by /u/Charming_Freedom_677'  # 你的 user agent\n",
    ")\n",
    "\n",
    "# 通过 OAuth 进行用户身份验证\n",
    "print(\"Please visit this URL to authorize your account:\")\n",
    "print(reddit.auth.url(['identity'], 'unique_random_string', 'permanent'))\n",
    "\n",
    "# 等待用户授权并获得授权码\n",
    "authorization_code = input(\"Enter the authorization code: \")\n",
    "\n",
    "# 使用授权码获取访问令牌\n",
    "reddit.auth.authorize(authorization_code)\n",
    "\n",
    "# 获取当前登录的 Reddit 用户\n",
    "print(reddit.user.me())  # 显示你当前登录的 Reddit 用户\n"
   ]
  },
  {
   "cell_type": "code",
   "execution_count": null,
   "id": "df69d2ab-70f3-4177-8420-d02bb5eee5d7",
   "metadata": {},
   "outputs": [
    {
     "name": "stderr",
     "output_type": "stream",
     "text": [
      "<ipython-input-5-67aac6346a0b>:12: DeprecationWarning: Positional arguments for 'Auth.url' will no longer be supported in PRAW 8.\n",
      "Call this function with 'scopes', 'state', and 'duration' as keyword arguments.\n",
      "  auth_url = reddit.auth.url(['identity'], 'unique_random_string', 'permanent')\n"
     ]
    },
    {
     "name": "stdout",
     "output_type": "stream",
     "text": [
      "Please visit this URL to authorize your account:\n",
      "https://www.reddit.com/api/v1/authorize?client_id=2jnPC-Q387sT92iOOcar-A&duration=permanent&redirect_uri=http%3A%2F%2Flocalhost%3A8000&response_type=code&scope=identity&state=unique_random_string\n"
     ]
    }
   ],
   "source": [
    "import praw\n",
    "\n",
    "# 创建 Reddit 实例\n",
    "reddit = praw.Reddit(\n",
    "    client_id='2jnPC-Q387sT92iOOcar-A',  \n",
    "    client_secret='p7is38ghTqErcWA-JsD13aLb2A2e-Q',  \n",
    "    user_agent='QuantitativeAnalysis by /u/Charming_Freedom_677',  \n",
    "    redirect_uri='http://localhost:8000'  # 这里要和 Reddit 开发者后台的设置一致\n",
    ")\n",
    "\n",
    "# 生成授权 URL\n",
    "auth_url = reddit.auth.url(['identity'], 'unique_random_string', 'permanent')\n",
    "print(\"Please visit this URL to authorize your account:\")\n",
    "print(auth_url)\n",
    "\n",
    "# 等待用户在浏览器中授权后，输入回调 URL 中的 code\n",
    "authorization_code = input(\"Enter the authorization code from the URL: \")\n",
    "\n",
    "# 使用授权码获取访问令牌\n",
    "token = reddit.auth.authorize(authorization_code)\n",
    "\n",
    "# 获取当前 Reddit 用户信息\n",
    "print(\"Logged in as:\", reddit.user.me())\n"
   ]
  },
  {
   "cell_type": "code",
   "execution_count": null,
   "id": "c7839676-7f1d-4f37-aa68-eb00c1c4e2cb",
   "metadata": {},
   "outputs": [],
   "source": [
    "import praw\n",
    "\n",
    "# 创建 Reddit 实例\n",
    "reddit = praw.Reddit(\n",
    "    client_id='2jnPC-Q387sT92iOOcar-A',  \n",
    "    client_secret='p7is38ghTqErcWA-JsD13aLb2A2e-Q',  \n",
    "    user_agent='QuantitativeAnalysis by /u/Charming_Freedom_677',  \n",
    "    redirect_uri='http://localhost:8080'  # 这里要和 Reddit 开发者后台的设置一致\n",
    ")\n",
    "\n",
    "# 生成授权 URL\n",
    "auth_url = reddit.auth.url(['identity'], 'unique_random_string', 'permanent')\n",
    "print(\"Please visit this URL to authorize your account:\")\n",
    "print(auth_url)\n",
    "\n",
    "# 等待用户在浏览器中授权后，输入回调 URL 中的 code\n",
    "authorization_code = input(\"Enter the authorization code from the URL: \")\n",
    "\n",
    "# 使用授权码获取访问令牌\n",
    "token = reddit.auth.authorize(authorization_code)\n",
    "\n",
    "# 获取当前 Reddit 用户信息\n",
    "print(\"Logged in as:\", reddit.user.me())\n"
   ]
  },
  {
   "cell_type": "code",
   "execution_count": null,
   "id": "40ca4742-904b-48b9-ab67-59547bc684d1",
   "metadata": {},
   "outputs": [
    {
     "name": "stderr",
     "output_type": "stream",
     "text": [
      "<ipython-input-2-67562d7873a7>:12: DeprecationWarning: Positional arguments for 'Auth.url' will no longer be supported in PRAW 8.\n",
      "Call this function with 'scopes', 'state', and 'duration' as keyword arguments.\n",
      "  auth_url = reddit.auth.url(['identity'], 'unique_random_string', 'permanent')\n"
     ]
    },
    {
     "name": "stdout",
     "output_type": "stream",
     "text": [
      "Please visit this URL to authorize your account:\n",
      "https://www.reddit.com/api/v1/authorize?client_id=POtNViFvOv8OmOgH7N2A6g&duration=permanent&redirect_uri=http%3A%2F%2Flocalhost%3A8080&response_type=code&scope=identity&state=unique_random_string\n"
     ]
    }
   ],
   "source": [
    "import praw\n",
    "\n",
    "# 创建 Reddit 实例\n",
    "reddit = praw.Reddit(\n",
    "    client_id='POtNViFvOv8OmOgH7N2A6g',  \n",
    "    client_secret='0duKn-2cVFrJit9uLkdp1Vu7nqc_BA',  \n",
    "    user_agent='QuantitativeAnalysis by /u/Charming_Freedom_677',  \n",
    "    redirect_uri='http://localhost:8080'  # 这里要和 Reddit 开发者后台的设置一致\n",
    ")\n",
    "\n",
    "# 生成授权 URL\n",
    "auth_url = reddit.auth.url(['identity'], 'unique_random_string', 'permanent')\n",
    "print(\"Please visit this URL to authorize your account:\")\n",
    "print(auth_url)\n",
    "\n",
    "# 等待用户在浏览器中授权后，输入回调 URL 中的 code\n",
    "authorization_code = input(\"Enter the authorization code from the URL: \")\n",
    "\n",
    "# 使用授权码获取访问令牌\n",
    "token = reddit.auth.authorize(authorization_code)\n",
    "\n",
    "# 获取当前 Reddit 用户信息\n",
    "print(\"Logged in as:\", reddit.user.me())\n"
   ]
  },
  {
   "cell_type": "code",
   "execution_count": 1,
   "id": "cd789f15-8ccc-46bd-9795-160a3023e7c2",
   "metadata": {},
   "outputs": [
    {
     "name": "stdout",
     "output_type": "stream",
     "text": [
      "Collecting pyngrokNote: you may need to restart the kernel to use updated packages.\n",
      "  Downloading pyngrok-7.2.3-py3-none-any.whl (23 kB)\n",
      "Requirement already satisfied: PyYAML>=5.1 in c:\\users\\lm\\anaconda3\\lib\\site-packages (from pyngrok) (5.4.1)\n",
      "Installing collected packages: pyngrok\n",
      "Successfully installed pyngrok-7.2.3\n",
      "\n"
     ]
    }
   ],
   "source": [
    "pip install pyngrok"
   ]
  },
  {
   "cell_type": "code",
   "execution_count": 2,
   "id": "908ccfc2-3da4-4a8c-b64b-ef59905bd7af",
   "metadata": {},
   "outputs": [
    {
     "name": "stdout",
     "output_type": "stream",
     "text": [
      "Requirement already satisfied: requests in c:\\users\\lm\\anaconda3\\lib\\site-packages (2.25.1)\n",
      "Requirement already satisfied: idna<3,>=2.5 in c:\\users\\lm\\anaconda3\\lib\\site-packages (from requests) (2.10)\n",
      "Requirement already satisfied: certifi>=2017.4.17 in c:\\users\\lm\\anaconda3\\lib\\site-packages (from requests) (2020.12.5)\n",
      "Requirement already satisfied: urllib3<1.27,>=1.21.1 in c:\\users\\lm\\anaconda3\\lib\\site-packages (from requests) (1.26.4)\n",
      "Requirement already satisfied: chardet<5,>=3.0.2 in c:\\users\\lm\\anaconda3\\lib\\site-packages (from requests) (4.0.0)\n",
      "Note: you may need to restart the kernel to use updated packages.\n"
     ]
    }
   ],
   "source": [
    "pip install requests"
   ]
  },
  {
   "cell_type": "code",
   "execution_count": 3,
   "id": "7a3b20c9-a80f-474a-a81b-f533afd0d453",
   "metadata": {},
   "outputs": [
    {
     "name": "stdout",
     "output_type": "stream",
     "text": [
      "Error: 403\n"
     ]
    }
   ],
   "source": [
    "import requests\n",
    "\n",
    "# Pushshift API URL\n",
    "url = \"https://api.pushshift.io/reddit/search/comment/\"\n",
    "\n",
    "# 查询参数\n",
    "params = {\n",
    "    'subreddit': 'climate',  # 替换为你感兴趣的 subreddit\n",
    "    'size': 5  # 获取最近的 5 条评论\n",
    "}\n",
    "\n",
    "# 发送请求获取评论\n",
    "response = requests.get(url, params=params)\n",
    "\n",
    "# 解析并输出数据\n",
    "if response.status_code == 200:\n",
    "    data = response.json()\n",
    "    for comment in data['data']:\n",
    "        print(comment['body'])\n",
    "else:\n",
    "    print(f\"Error: {response.status_code}\")\n"
   ]
  },
  {
   "cell_type": "code",
   "execution_count": 2,
   "id": "24e9f8f7-8a79-467d-81d8-9c263df87ca6",
   "metadata": {},
   "outputs": [
    {
     "name": "stdout",
     "output_type": "stream",
     "text": [
      "标题: Greenpeace faces a $300 million lawsuit after Dakota Access Pipeline protests\n",
      "链接: https://www.npr.org/2025/02/24/nx-s1-5292463/greenpeace-lawsuit-energy-transfer-dakota-access\n",
      "---\n",
      "标题: Greenpeace Is Going to Trial in $300 Million Suit That Poses Bankruptcy Risk\n",
      "链接: https://www.nytimes.com/2025/02/24/climate/greenpeace-energy-transfer-dakota-access-lawsuit.html?smid=nytcore-ios-share&referringSource=articleShare\n",
      "---\n",
      "标题: How a New York PR agency helped the U.S. oil industry conquer Australia. Hill & Knowlton played a key role in exporting Big Oil’s PR tactics to the Southern Hemisphere.\n",
      "链接: https://www.desmog.com/2025/02/23/how-a-new-york-pr-agency-helped-the-u-s-oil-industry-conquer-australia/\n",
      "---\n",
      "标题: Nations at odds over major UN climate science report. The meeting in the Chinese city of Hangzhou comes on the heels of the hottest year on record and rising alarm over the pace of warming.\n",
      "链接: https://phys.org/news/2025-02-nations-odds-major-climate-science.html\n",
      "---\n",
      "标题: A federal magistrate judge has ruled that a first-of-its-kind lawsuit against leading oil producers can proceed to the discovery stage, opening a window into a decades-old curtain of industry efforts to keep the public in the dark about climate change and clean energy alternatives.\n",
      "链接: https://cleantechnica.com/2025/02/24/big-oil-must-deliver-the-goods-under-landmark-climate-litigation-ruling/\n",
      "---\n"
     ]
    }
   ],
   "source": [
    "import praw\n",
    "\n",
    "# Reddit API 的身份认证信息\n",
    "client_id = 'POtNViFvOv8OmOgH7N2A6g'\n",
    "client_secret = '0duKn-2cVFrJit9uLkdp1Vu7nqc_BA'\n",
    "user_agent = 'QuantitativeAnalysis by /u/Charming_Freedom_677'\n",
    "\n",
    "# 创建 Reddit API 客户端\n",
    "reddit = praw.Reddit(client_id=client_id,\n",
    "                     client_secret=client_secret,\n",
    "                     user_agent=user_agent)\n",
    "\n",
    "# 获取目标 subreddit\n",
    "subreddit_name = 'climate'  # 或 'environment'\n",
    "subreddit = reddit.subreddit(subreddit_name)\n",
    "\n",
    "# 获取最新的 5 条帖子\n",
    "posts = subreddit.new(limit=5)\n",
    "\n",
    "# 输出每个帖子的标题和链接\n",
    "for post in posts:\n",
    "    print(f\"标题: {post.title}\")\n",
    "    print(f\"链接: {post.url}\")\n",
    "    print('---')\n",
    "\n"
   ]
  },
  {
   "cell_type": "code",
   "execution_count": 5,
   "id": "04d61cf2-cfbe-40a3-8c44-e795585a9a5a",
   "metadata": {},
   "outputs": [
    {
     "name": "stdout",
     "output_type": "stream",
     "text": [
      "Title: Scientists have developed a method to effectively produce and extract plant-based oils from a type of common microalgae. These oils are edible and have superior properties as those found in palm oil, the newly discovered method would serve as a healthier and greener alternative to palm oil\n",
      "Score: 1093, Comments: 27\n",
      "\n",
      "Title: Aston University Researchers ‘Feed’ Leftover Coffee Grounds to Microalgae to Produce Low Emission Biodiesel\n",
      "Score: 4, Comments: 0\n",
      "\n",
      "Title: University researchers ‘feed’ leftover coffee grounds to microalgae to produce low emission biodiesel\n",
      "Score: 2, Comments: 0\n",
      "\n",
      "Title: Biofuel: How new microalgae technologies can hasten the end of our reliance on oil\n",
      "Score: 27, Comments: 2\n",
      "\n",
      "Title: A research team found that replacing quarried limestone with biologically grown limestone, a natural process that some species of calcareous microalgae complete through photosynthesis (just like growing coral reefs), creates a net carbon neutral way to make portland cement.\n",
      "Score: 5, Comments: 0\n",
      "\n",
      "Title: Chilean scientists produce biodiesel from microalgae, say it could power vehicles, reduce greenhouse gas emissions\n",
      "Score: 34, Comments: 1\n",
      "\n",
      "Title: The decomposing bodies of some 300 sea turtles were found off El Salvador's coast, raising questions about how they could die so quickly. Now scientists have found out why - a tropical storm and microalgae.\n",
      "Score: 4, Comments: 0\n",
      "\n",
      "Title: Fast, Low Energy, And Continuous Biofuel Extraction from Microalgae\n",
      "Score: 9, Comments: 0\n",
      "\n",
      "Title: Microalgae lamps\n",
      "Score: 3, Comments: 1\n",
      "\n",
      "Title: Living Microalgae Lamp Absorbs CO2 from the Air\n",
      "Score: 1, Comments: 0\n",
      "\n",
      "Title: A microalgae lamp that absorbs CO2! (YouTube video 2:07 in length)\n",
      "Score: 1, Comments: 0\n",
      "\n",
      "Title: Strategic cultivation of calcifying organisms to remove CO2 and bring bio-circular economic value (a 4-part story)\n",
      "Score: 10, Comments: 6\n",
      "\n"
     ]
    }
   ],
   "source": [
    "# 获取帖子的互动数据\n",
    "subreddit = reddit.subreddit('environment')\n",
    "post_interactions = []\n",
    "\n",
    "for submission in subreddit.search('microalgae', limit=100):\n",
    "    post_interactions.append({\n",
    "        'title': submission.title,\n",
    "        'score': submission.score,  # 帖子的得分\n",
    "        'num_comments': submission.num_comments  # 评论数\n",
    "    })\n",
    "\n",
    "# 输出互动分析数据\n",
    "for post in post_interactions:\n",
    "    print(f\"Title: {post['title']}\")\n",
    "    print(f\"Score: {post['score']}, Comments: {post['num_comments']}\\n\")\n"
   ]
  },
  {
   "cell_type": "code",
   "execution_count": 6,
   "id": "5e0891bc-53e7-4d2c-9747-ca63f5c0dd26",
   "metadata": {},
   "outputs": [
    {
     "name": "stdout",
     "output_type": "stream",
     "text": [
      "Title: ‘The Adriatic is becoming tropical’: Italian fishers struggle to adapt to warm sea. Sticky mucilage made of microalgae covers the surface and fishing is impossible as waters reach 30C\n",
      "Score: 58, Comments: 0\n",
      "\n",
      "Title: Microalgae Is The Sustainable Superfood Of The Future\n",
      "Score: 10, Comments: 1\n",
      "\n",
      "Title: University researchers ‘feed’ leftover coffee grounds to microalgae to produce low emission biodiesel\n",
      "Score: 3, Comments: 0\n",
      "\n",
      "Title: Microalgae are the vegan cows of the future\n",
      "Score: 5, Comments: 1\n",
      "\n",
      "Title: 🌳 Mark Cuban backs algae tech for a sustainable future. In this edition, The Paxtier Report covers the most important deals in algae tech this week, how microalgae life support systems can solve agricultural pollution, and more advice for entrepreneurs in this sustainable space\n",
      "Score: 11, Comments: 1\n",
      "\n",
      "Title: The Paxtier report 02/03/22: How do you get biogas from seaweed biomass? Featuring climate market updates, Patrick Sieb and the US$38 billion microalgae play.\n",
      "Score: 2, Comments: 0\n",
      "\n",
      "Title: 🌳 Making electricity from cyanobacteria\n",
      "Score: 6, Comments: 3\n",
      "\n",
      "Title: Tiny marine plants could amplify Arctic warming by 20%\n",
      "Score: 35, Comments: 1\n",
      "\n"
     ]
    }
   ],
   "source": [
    "# 获取帖子的互动数据\n",
    "subreddit = reddit.subreddit('climate')\n",
    "post_interactions = []\n",
    "\n",
    "for submission in subreddit.search('microalgae', limit=100):\n",
    "    post_interactions.append({\n",
    "        'title': submission.title,\n",
    "        'score': submission.score,  # 帖子的得分\n",
    "        'num_comments': submission.num_comments  # 评论数\n",
    "    })\n",
    "\n",
    "# 输出互动分析数据\n",
    "for post in post_interactions:\n",
    "    print(f\"Title: {post['title']}\")\n",
    "    print(f\"Score: {post['score']}, Comments: {post['num_comments']}\\n\")"
   ]
  },
  {
   "cell_type": "code",
   "execution_count": 7,
   "id": "57fe7b51-c235-4ebc-a799-9417c41de673",
   "metadata": {},
   "outputs": [
    {
     "name": "stdout",
     "output_type": "stream",
     "text": [
      "Title: Starlink satellites with mirrors?\n",
      "Score: 7, Comments: 7\n",
      "\n",
      "Title: Could 'umbrella' satellites help with climate change?\n",
      "Score: 2, Comments: 4\n",
      "\n",
      "Title: Planet of the Humans:A documentary without hope\n",
      "Score: 0, Comments: 0\n",
      "\n"
     ]
    }
   ],
   "source": [
    "# 获取帖子的互动数据\n",
    "subreddit = reddit.subreddit('climate')\n",
    "post_interactions = []\n",
    "\n",
    "for submission in subreddit.search('solar foil', limit=100):\n",
    "    post_interactions.append({\n",
    "        'title': submission.title,\n",
    "        'score': submission.score,  # 帖子的得分\n",
    "        'num_comments': submission.num_comments  # 评论数\n",
    "    })\n",
    "\n",
    "# 输出互动分析数据\n",
    "for post in post_interactions:\n",
    "    print(f\"Title: {post['title']}\")\n",
    "    print(f\"Score: {post['score']}, Comments: {post['num_comments']}\\n\")"
   ]
  },
  {
   "cell_type": "code",
   "execution_count": 8,
   "id": "a717aab3-bd55-4608-a3ba-7050f912589c",
   "metadata": {},
   "outputs": [
    {
     "name": "stdout",
     "output_type": "stream",
     "text": [
      "Title: ‘The Adriatic is becoming tropical’: Italian fishers struggle to adapt to warm sea. Sticky mucilage made of microalgae covers the surface and fishing is impossible as waters reach 30C\n",
      "Score: 61, Comments: 0\n",
      "\n",
      "Title: Microalgae Is The Sustainable Superfood Of The Future\n",
      "Score: 10, Comments: 1\n",
      "\n",
      "Title: University researchers ‘feed’ leftover coffee grounds to microalgae to produce low emission biodiesel\n",
      "Score: 2, Comments: 0\n",
      "\n",
      "Title: Microalgae are the vegan cows of the future\n",
      "Score: 3, Comments: 1\n",
      "\n",
      "Title: 🌳 Mark Cuban backs algae tech for a sustainable future. In this edition, The Paxtier Report covers the most important deals in algae tech this week, how microalgae life support systems can solve agricultural pollution, and more advice for entrepreneurs in this sustainable space\n",
      "Score: 8, Comments: 1\n",
      "\n",
      "Title: The Paxtier report 02/03/22: How do you get biogas from seaweed biomass? Featuring climate market updates, Patrick Sieb and the US$38 billion microalgae play.\n",
      "Score: 2, Comments: 0\n",
      "\n",
      "Title: 🌳 Making electricity from cyanobacteria\n",
      "Score: 5, Comments: 3\n",
      "\n",
      "Title: Tiny marine plants could amplify Arctic warming by 20%\n",
      "Score: 36, Comments: 1\n",
      "\n"
     ]
    }
   ],
   "source": [
    "# 获取帖子的互动数据\n",
    "subreddit = reddit.subreddit('climate')\n",
    "post_interactions = []\n",
    "\n",
    "for submission in subreddit.search('microalgae', limit=100):\n",
    "    post_interactions.append({\n",
    "        'title': submission.title,\n",
    "        'score': submission.score,  # 帖子的得分\n",
    "        'num_comments': submission.num_comments  # 评论数\n",
    "    })\n",
    "\n",
    "# 输出互动分析数据\n",
    "for post in post_interactions:\n",
    "    print(f\"Title: {post['title']}\")\n",
    "    print(f\"Score: {post['score']}, Comments: {post['num_comments']}\\n\")"
   ]
  },
  {
   "cell_type": "code",
   "execution_count": 9,
   "id": "4ca46a8a-6931-4c82-9418-5b7a2fe48ecd",
   "metadata": {},
   "outputs": [
    {
     "name": "stdout",
     "output_type": "stream",
     "text": [
      "Title: Foil Hat Time Gentlemen of Reddit : Planet awaits largest solar flare effects today.\n",
      "Score: 3, Comments: 0\n",
      "\n",
      "Title: My adventures in sustainability.\n",
      "Score: 5, Comments: 4\n",
      "\n"
     ]
    }
   ],
   "source": [
    "# 获取帖子的互动数据\n",
    "subreddit = reddit.subreddit('environment')\n",
    "post_interactions = []\n",
    "\n",
    "for submission in subreddit.search('solar foil', limit=100):\n",
    "    post_interactions.append({\n",
    "        'title': submission.title,\n",
    "        'score': submission.score,  # 帖子的得分\n",
    "        'num_comments': submission.num_comments  # 评论数\n",
    "    })\n",
    "\n",
    "# 输出互动分析数据\n",
    "for post in post_interactions:\n",
    "    print(f\"Title: {post['title']}\")\n",
    "    print(f\"Score: {post['score']}, Comments: {post['num_comments']}\\n\")"
   ]
  },
  {
   "cell_type": "code",
   "execution_count": 3,
   "id": "76095d8c-2a77-41f0-94d7-2c65761e2eb3",
   "metadata": {},
   "outputs": [
    {
     "name": "stderr",
     "output_type": "stream",
     "text": [
      "[nltk_data] Downloading package stopwords to\n",
      "[nltk_data]     C:\\Users\\LM\\AppData\\Roaming\\nltk_data...\n",
      "[nltk_data]   Unzipping corpora\\stopwords.zip.\n",
      "[nltk_data] Downloading package punkt to\n",
      "[nltk_data]     C:\\Users\\LM\\AppData\\Roaming\\nltk_data...\n",
      "[nltk_data]   Package punkt is already up-to-date!\n"
     ]
    },
    {
     "name": "stdout",
     "output_type": "stream",
     "text": [
      "(0, '0.053*\"microalgae\" + 0.033*\"produce\" + 0.029*\"co2\" + 0.027*\"biodiesel\" + 0.024*\"lamp\"')\n",
      "(1, '0.051*\"microalgae\" + 0.034*\"found\" + 0.022*\"limestone\" + 0.018*\"biofuel\" + 0.018*\"oil\"')\n",
      "(2, '0.029*\"microalgae\" + 0.026*\"low\" + 0.020*\"produce\" + 0.018*\"coffee\" + 0.018*\"oil\"')\n"
     ]
    }
   ],
   "source": [
    "from gensim import corpora\n",
    "from gensim.models import LdaModel\n",
    "from nltk.tokenize import word_tokenize\n",
    "from nltk.corpus import stopwords\n",
    "import nltk\n",
    "\n",
    "# 确保下载nltk数据\n",
    "nltk.download('stopwords')\n",
    "nltk.download('punkt')\n",
    "\n",
    "# 获取帖子内容\n",
    "subreddit = reddit.subreddit('environment')\n",
    "post_titles = []\n",
    "for submission in subreddit.search('microalgae', limit=100):\n",
    "    post_titles.append(submission.title.lower())\n",
    "\n",
    "# 数据预处理：分词和去停用词\n",
    "stop_words = set(stopwords.words('english'))\n",
    "texts = []\n",
    "for title in post_titles:\n",
    "    words = word_tokenize(title)\n",
    "    filtered_words = [word for word in words if word.isalnum() and word not in stop_words]\n",
    "    texts.append(filtered_words)\n",
    "\n",
    "# 创建字典和语料库\n",
    "dictionary = corpora.Dictionary(texts)\n",
    "corpus = [dictionary.doc2bow(text) for text in texts]\n",
    "\n",
    "# 训练LDA模型\n",
    "lda = LdaModel(corpus, num_topics=3, id2word=dictionary)\n",
    "\n",
    "# 打印主题\n",
    "for topic in lda.print_topics(num_words=5):\n",
    "    print(topic)"
   ]
  },
  {
   "cell_type": "code",
   "execution_count": 4,
   "id": "cf566bf4-ff80-4c80-bc74-a7fc8611039f",
   "metadata": {},
   "outputs": [
    {
     "name": "stderr",
     "output_type": "stream",
     "text": [
      "[nltk_data] Downloading package stopwords to\n",
      "[nltk_data]     C:\\Users\\LM\\AppData\\Roaming\\nltk_data...\n",
      "[nltk_data]   Package stopwords is already up-to-date!\n",
      "[nltk_data] Downloading package punkt to\n",
      "[nltk_data]     C:\\Users\\LM\\AppData\\Roaming\\nltk_data...\n",
      "[nltk_data]   Package punkt is already up-to-date!\n"
     ]
    },
    {
     "name": "stdout",
     "output_type": "stream",
     "text": [
      "(0, '0.056*\"microalgae\" + 0.038*\"sustainable\" + 0.037*\"future\" + 0.027*\"algae\" + 0.027*\"tech\"')\n",
      "(1, '0.032*\"microalgae\" + 0.027*\"cyanobacteria\" + 0.026*\"electricity\" + 0.026*\"making\" + 0.022*\"produce\"')\n",
      "(2, '0.033*\"could\" + 0.033*\"20\" + 0.033*\"warming\" + 0.033*\"amplify\" + 0.033*\"tiny\"')\n"
     ]
    }
   ],
   "source": [
    "from gensim import corpora\n",
    "from gensim.models import LdaModel\n",
    "from nltk.tokenize import word_tokenize\n",
    "from nltk.corpus import stopwords\n",
    "import nltk\n",
    "\n",
    "# 确保下载nltk数据\n",
    "nltk.download('stopwords')\n",
    "nltk.download('punkt')\n",
    "\n",
    "# 获取帖子内容\n",
    "subreddit = reddit.subreddit('climate')\n",
    "post_titles = []\n",
    "for submission in subreddit.search('microalgae', limit=100):\n",
    "    post_titles.append(submission.title.lower())\n",
    "\n",
    "# 数据预处理：分词和去停用词\n",
    "stop_words = set(stopwords.words('english'))\n",
    "texts = []\n",
    "for title in post_titles:\n",
    "    words = word_tokenize(title)\n",
    "    filtered_words = [word for word in words if word.isalnum() and word not in stop_words]\n",
    "    texts.append(filtered_words)\n",
    "\n",
    "# 创建字典和语料库\n",
    "dictionary = corpora.Dictionary(texts)\n",
    "corpus = [dictionary.doc2bow(text) for text in texts]\n",
    "\n",
    "# 训练LDA模型\n",
    "lda = LdaModel(corpus, num_topics=3, id2word=dictionary)\n",
    "\n",
    "# 打印主题\n",
    "for topic in lda.print_topics(num_words=5):\n",
    "    print(topic)"
   ]
  },
  {
   "cell_type": "code",
   "execution_count": 3,
   "id": "c6ca3882-d1aa-4062-80a4-d968494ac4c7",
   "metadata": {},
   "outputs": [
    {
     "name": "stdout",
     "output_type": "stream",
     "text": [
      "Subreddit r/climate has about 977 posts\n"
     ]
    }
   ],
   "source": [
    "import praw\n",
    "\n",
    "subreddit_name = \"climate\"\n",
    "subreddit = reddit.subreddit(subreddit_name)\n",
    "\n",
    "post_count = sum(1 for _ in subreddit.new(limit=None))  # 统计新帖数量\n",
    "print(f\"Subreddit r/{subreddit_name} has about {post_count} posts\")\n"
   ]
  },
  {
   "cell_type": "code",
   "execution_count": 4,
   "id": "1294af66-493e-4a1f-925f-a2d57a243a5d",
   "metadata": {},
   "outputs": [
    {
     "name": "stdout",
     "output_type": "stream",
     "text": [
      "Subreddit r/environment has about 995 posts\n"
     ]
    }
   ],
   "source": [
    "import praw\n",
    "\n",
    "subreddit_name = \"environment\"\n",
    "subreddit = reddit.subreddit(subreddit_name)\n",
    "\n",
    "post_count = sum(1 for _ in subreddit.new(limit=None))  # 统计新帖数量\n",
    "print(f\"Subreddit r/{subreddit_name} has about {post_count} posts\")\n"
   ]
  },
  {
   "cell_type": "code",
   "execution_count": 5,
   "id": "7b19a125-4b86-48ee-9539-97d06cc600d0",
   "metadata": {},
   "outputs": [
    {
     "name": "stdout",
     "output_type": "stream",
     "text": [
      "Subreddit r/sustainability has about 657 posts\n"
     ]
    }
   ],
   "source": [
    "import praw\n",
    "\n",
    "subreddit_name = \"sustainability\"\n",
    "subreddit = reddit.subreddit(subreddit_name)\n",
    "\n",
    "post_count = sum(1 for _ in subreddit.new(limit=None))  # 统计新帖数量\n",
    "print(f\"Subreddit r/{subreddit_name} has about {post_count} posts\")\n"
   ]
  },
  {
   "cell_type": "code",
   "execution_count": 6,
   "id": "fe78b0b7-bcd4-4a49-aab6-707faf444467",
   "metadata": {},
   "outputs": [
    {
     "data": {
      "image/png": "[encoded data removed]",
      "text/plain": [
       "<Figure size 720x432 with 1 Axes>"
      ]
     },
     "metadata": {
      "needs_background": "light"
     },
     "output_type": "display_data"
    }
   ],
   "source": [
    "import matplotlib.pyplot as plt\n",
    "import pandas as pd\n",
    "import numpy as np\n",
    "\n",
    "# Data\n",
    "data = {\n",
    "    \"Keyword\": [\"solar foil\", \"solarfoil\", \"solar\", \"foil\", \"algae\", \"microalgae\"],\n",
    "    \"r/sustainability\": [0, 0, 230, 22, 31, 1],\n",
    "    \"r/environment\": [2, 0, 200, 42, 230, 12],\n",
    "    \"r/climate\": [2, 0, 248, 11, 102, 8]\n",
    "}\n",
    "\n",
    "# Convert to DataFrame\n",
    "df = pd.DataFrame(data)\n",
    "\n",
    "# Plot settings\n",
    "fig, ax = plt.subplots(figsize=(10, 6))\n",
    "bar_width = 0.2\n",
    "x = np.arange(len(df[\"Keyword\"]))\n",
    "\n",
    "# Plot bars\n",
    "ax.bar(x - bar_width, df[\"r/sustainability\"], width=bar_width, label=\"r/sustainability\")\n",
    "ax.bar(x, df[\"r/environment\"], width=bar_width, label=\"r/environment\")\n",
    "ax.bar(x + bar_width, df[\"r/climate\"], width=bar_width, label=\"r/climate\")\n",
    "\n",
    "# Labels and title\n",
    "ax.set_xticks(x)\n",
    "ax.set_xticklabels(df[\"Keyword\"], rotation=45)\n",
    "ax.set_ylabel(\"Number of Posts\")\n",
    "ax.set_title(\"Keyword Mentions in Different Subreddits\")\n",
    "ax.legend()\n",
    "\n",
    "# Show plot\n",
    "plt.show()\n"
   ]
  },
  {
   "cell_type": "code",
   "execution_count": null,
   "id": "81d13ba4-abcf-435f-8c99-1c4954f95a08",
   "metadata": {},
   "outputs": [],
   "source": []
  }
 ],
 "metadata": {
  "kernelspec": {
   "display_name": "Python 3 (ipykernel)",
   "language": "python",
   "name": "python3"
  },
  "language_info": {
   "codemirror_mode": {
    "name": "ipython",
    "version": 3
   },
   "file_extension": ".py",
   "mimetype": "text/x-python",
   "name": "python",
   "nbconvert_exporter": "python",
   "pygments_lexer": "ipython3",
   "version": "3.12.5"
  }
 },
 "nbformat": 4,
 "nbformat_minor": 5
}
